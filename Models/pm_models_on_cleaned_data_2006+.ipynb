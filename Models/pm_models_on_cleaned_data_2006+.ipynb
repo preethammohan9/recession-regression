{
 "cells": [
  {
   "cell_type": "code",
   "execution_count": 128,
   "id": "initial_id",
   "metadata": {
    "collapsed": true,
    "ExecuteTime": {
     "end_time": "2023-11-29T20:30:50.307407Z",
     "start_time": "2023-11-29T20:30:50.256805Z"
    }
   },
   "outputs": [],
   "source": [
    "import pandas as pd\n",
    "import numpy as np\n",
    "import scipy.optimize as optimize\n",
    "import os\n",
    "import sys\n",
    "import collections\n",
    "import itertools\n",
    "import matplotlib.pyplot as plt\n",
    "import torch\n",
    "from sklearn.model_selection import train_test_split\n",
    "from sklearn.linear_model import LinearRegression\n",
    "from sklearn.linear_model import LogisticRegression\n",
    "from sklearn.tree import DecisionTreeClassifier\n",
    "from sklearn.svm import SVC\n",
    "from scipy.spatial import distance\n",
    "from sklearn.neighbors import KNeighborsClassifier\n",
    "from sklearn.model_selection import GridSearchCV\n",
    "from sklearn.metrics import classification_report\n",
    "import sklearn.metrics\n",
    "from scipy.stats import mode\n",
    "from scipy.spatial.distance import squareform"
   ]
  },
  {
   "cell_type": "code",
   "execution_count": 129,
   "outputs": [],
   "source": [
    "inputs = pd.read_csv('../Data/all_inputs_cleaned.csv')\n",
    "outputs = pd.read_csv('../Data/all_outputs_cleaned.csv')"
   ],
   "metadata": {
    "collapsed": false,
    "ExecuteTime": {
     "end_time": "2023-11-29T20:30:50.324067Z",
     "start_time": "2023-11-29T20:30:50.262171Z"
    }
   },
   "id": "c447e0de4e4184aa"
  },
  {
   "cell_type": "code",
   "execution_count": 130,
   "outputs": [
    {
     "data": {
      "text/plain": "          CPI  InterestRate       GDP  ValAddConst  ValAddInfo  Borrowing  \\\n0    0.005007      0.031315  0.012731     0.016023    0.000000  -0.004089   \n1    0.002989      0.010122  0.012731     0.016023    0.000000   0.016496   \n2    0.002484      0.050100  0.010429     0.000000    0.014294   0.007533   \n3    0.005451      0.001908  0.010429     0.000000    0.014294  -0.008966   \n4    0.004436      0.000000  0.010429     0.000000    0.014294  -0.005700   \n..        ...           ...       ...          ...         ...        ...   \n199  0.000530      0.038710  0.012081     0.012858    0.015515   0.166242   \n200  0.003678      0.047619  0.011676     0.015295    0.011737   0.062205   \n201  0.001241      0.003953  0.011676     0.015295    0.011737   0.001615   \n202  0.001803      0.007874  0.011676     0.015295    0.011737  -0.016332   \n203  0.001669      0.041016  0.011534     0.011761    0.012630  -0.033190   \n\n     CommercialLoan  ConsumerLoan   Deficit  ITBPrice    ITBVol  VGTPrice  \\\n0             0.178         0.054 -2.393523 -0.141342  0.058676 -0.058480   \n1             0.201         0.078 -1.361045 -0.087839  2.328675 -0.036031   \n2             0.223         0.045 -1.478174 -0.021042  0.796079  0.032067   \n3             0.177         0.056 -2.616416  0.046412  2.381466  0.066667   \n4             0.222         0.074  0.951423  0.046867 -0.436061  0.044646   \n..              ...           ...       ...       ...       ...       ...   \n199           0.013         0.073  0.440654  0.052962  0.067876  0.038191   \n200          -0.029         0.058 -1.465993  0.066633 -0.030136  0.092126   \n201          -0.026         0.060 -2.364214  0.079389  0.066784  0.040382   \n202          -0.021         0.030 -0.052340 -0.008281  0.420013 -0.034826   \n203          -0.007         0.024 -0.030673 -0.047472  0.073404 -0.009513   \n\n       VGTVol  S&P500Price  S&P500Vol  \n0   -0.357298    -0.015674   0.010319  \n1    0.028369     0.002547  -0.155359  \n2   -0.368216     0.013990   0.089268  \n3    0.267074     0.022189  -0.029398  \n4    0.280520     0.028076   0.159019  \n..        ...          ...        ...  \n199 -0.165449     0.009060   0.254976  \n200  0.350401     0.034360  -0.010638  \n201 -0.028132     0.047030  -0.146846  \n202 -0.024273     0.005205   0.156903  \n203 -0.191162    -0.029477  -0.153820  \n\n[204 rows x 15 columns]",
      "text/html": "<div>\n<style scoped>\n    .dataframe tbody tr th:only-of-type {\n        vertical-align: middle;\n    }\n\n    .dataframe tbody tr th {\n        vertical-align: top;\n    }\n\n    .dataframe thead th {\n        text-align: right;\n    }\n</style>\n<table border=\"1\" class=\"dataframe\">\n  <thead>\n    <tr style=\"text-align: right;\">\n      <th></th>\n      <th>CPI</th>\n      <th>InterestRate</th>\n      <th>GDP</th>\n      <th>ValAddConst</th>\n      <th>ValAddInfo</th>\n      <th>Borrowing</th>\n      <th>CommercialLoan</th>\n      <th>ConsumerLoan</th>\n      <th>Deficit</th>\n      <th>ITBPrice</th>\n      <th>ITBVol</th>\n      <th>VGTPrice</th>\n      <th>VGTVol</th>\n      <th>S&amp;P500Price</th>\n      <th>S&amp;P500Vol</th>\n    </tr>\n  </thead>\n  <tbody>\n    <tr>\n      <th>0</th>\n      <td>0.005007</td>\n      <td>0.031315</td>\n      <td>0.012731</td>\n      <td>0.016023</td>\n      <td>0.000000</td>\n      <td>-0.004089</td>\n      <td>0.178</td>\n      <td>0.054</td>\n      <td>-2.393523</td>\n      <td>-0.141342</td>\n      <td>0.058676</td>\n      <td>-0.058480</td>\n      <td>-0.357298</td>\n      <td>-0.015674</td>\n      <td>0.010319</td>\n    </tr>\n    <tr>\n      <th>1</th>\n      <td>0.002989</td>\n      <td>0.010122</td>\n      <td>0.012731</td>\n      <td>0.016023</td>\n      <td>0.000000</td>\n      <td>0.016496</td>\n      <td>0.201</td>\n      <td>0.078</td>\n      <td>-1.361045</td>\n      <td>-0.087839</td>\n      <td>2.328675</td>\n      <td>-0.036031</td>\n      <td>0.028369</td>\n      <td>0.002547</td>\n      <td>-0.155359</td>\n    </tr>\n    <tr>\n      <th>2</th>\n      <td>0.002484</td>\n      <td>0.050100</td>\n      <td>0.010429</td>\n      <td>0.000000</td>\n      <td>0.014294</td>\n      <td>0.007533</td>\n      <td>0.223</td>\n      <td>0.045</td>\n      <td>-1.478174</td>\n      <td>-0.021042</td>\n      <td>0.796079</td>\n      <td>0.032067</td>\n      <td>-0.368216</td>\n      <td>0.013990</td>\n      <td>0.089268</td>\n    </tr>\n    <tr>\n      <th>3</th>\n      <td>0.005451</td>\n      <td>0.001908</td>\n      <td>0.010429</td>\n      <td>0.000000</td>\n      <td>0.014294</td>\n      <td>-0.008966</td>\n      <td>0.177</td>\n      <td>0.056</td>\n      <td>-2.616416</td>\n      <td>0.046412</td>\n      <td>2.381466</td>\n      <td>0.066667</td>\n      <td>0.267074</td>\n      <td>0.022189</td>\n      <td>-0.029398</td>\n    </tr>\n    <tr>\n      <th>4</th>\n      <td>0.004436</td>\n      <td>0.000000</td>\n      <td>0.010429</td>\n      <td>0.000000</td>\n      <td>0.014294</td>\n      <td>-0.005700</td>\n      <td>0.222</td>\n      <td>0.074</td>\n      <td>0.951423</td>\n      <td>0.046867</td>\n      <td>-0.436061</td>\n      <td>0.044646</td>\n      <td>0.280520</td>\n      <td>0.028076</td>\n      <td>0.159019</td>\n    </tr>\n    <tr>\n      <th>...</th>\n      <td>...</td>\n      <td>...</td>\n      <td>...</td>\n      <td>...</td>\n      <td>...</td>\n      <td>...</td>\n      <td>...</td>\n      <td>...</td>\n      <td>...</td>\n      <td>...</td>\n      <td>...</td>\n      <td>...</td>\n      <td>...</td>\n      <td>...</td>\n      <td>...</td>\n    </tr>\n    <tr>\n      <th>199</th>\n      <td>0.000530</td>\n      <td>0.038710</td>\n      <td>0.012081</td>\n      <td>0.012858</td>\n      <td>0.015515</td>\n      <td>0.166242</td>\n      <td>0.013</td>\n      <td>0.073</td>\n      <td>0.440654</td>\n      <td>0.052962</td>\n      <td>0.067876</td>\n      <td>0.038191</td>\n      <td>-0.165449</td>\n      <td>0.009060</td>\n      <td>0.254976</td>\n    </tr>\n    <tr>\n      <th>200</th>\n      <td>0.003678</td>\n      <td>0.047619</td>\n      <td>0.011676</td>\n      <td>0.015295</td>\n      <td>0.011737</td>\n      <td>0.062205</td>\n      <td>-0.029</td>\n      <td>0.058</td>\n      <td>-1.465993</td>\n      <td>0.066633</td>\n      <td>-0.030136</td>\n      <td>0.092126</td>\n      <td>0.350401</td>\n      <td>0.034360</td>\n      <td>-0.010638</td>\n    </tr>\n    <tr>\n      <th>201</th>\n      <td>0.001241</td>\n      <td>0.003953</td>\n      <td>0.011676</td>\n      <td>0.015295</td>\n      <td>0.011737</td>\n      <td>0.001615</td>\n      <td>-0.026</td>\n      <td>0.060</td>\n      <td>-2.364214</td>\n      <td>0.079389</td>\n      <td>0.066784</td>\n      <td>0.040382</td>\n      <td>-0.028132</td>\n      <td>0.047030</td>\n      <td>-0.146846</td>\n    </tr>\n    <tr>\n      <th>202</th>\n      <td>0.001803</td>\n      <td>0.007874</td>\n      <td>0.011676</td>\n      <td>0.015295</td>\n      <td>0.011737</td>\n      <td>-0.016332</td>\n      <td>-0.021</td>\n      <td>0.030</td>\n      <td>-0.052340</td>\n      <td>-0.008281</td>\n      <td>0.420013</td>\n      <td>-0.034826</td>\n      <td>-0.024273</td>\n      <td>0.005205</td>\n      <td>0.156903</td>\n    </tr>\n    <tr>\n      <th>203</th>\n      <td>0.001669</td>\n      <td>0.041016</td>\n      <td>0.011534</td>\n      <td>0.011761</td>\n      <td>0.012630</td>\n      <td>-0.033190</td>\n      <td>-0.007</td>\n      <td>0.024</td>\n      <td>-0.030673</td>\n      <td>-0.047472</td>\n      <td>0.073404</td>\n      <td>-0.009513</td>\n      <td>-0.191162</td>\n      <td>-0.029477</td>\n      <td>-0.153820</td>\n    </tr>\n  </tbody>\n</table>\n<p>204 rows × 15 columns</p>\n</div>"
     },
     "execution_count": 130,
     "metadata": {},
     "output_type": "execute_result"
    }
   ],
   "source": [
    "inputs.iloc[:,2:]"
   ],
   "metadata": {
    "collapsed": false,
    "ExecuteTime": {
     "end_time": "2023-11-29T20:30:50.359763Z",
     "start_time": "2023-11-29T20:30:50.268554Z"
    }
   },
   "id": "496315d8ec12fe73"
  },
  {
   "cell_type": "code",
   "execution_count": 131,
   "outputs": [
    {
     "data": {
      "text/plain": "0      0.000744\n1      0.001250\n2      0.001117\n3      0.000567\n4      0.000331\n         ...   \n199    0.001916\n200    0.000645\n201    0.001087\n202    0.001325\n203    0.001966\nName: Total_Private, Length: 204, dtype: float64"
     },
     "execution_count": 131,
     "metadata": {},
     "output_type": "execute_result"
    }
   ],
   "source": [
    "outputs.iloc[:,4]"
   ],
   "metadata": {
    "collapsed": false,
    "ExecuteTime": {
     "end_time": "2023-11-29T20:30:50.372326Z",
     "start_time": "2023-11-29T20:30:50.280653Z"
    }
   },
   "id": "3efad466061915eb"
  },
  {
   "cell_type": "markdown",
   "source": [
    "# Linear Regression"
   ],
   "metadata": {
    "collapsed": false
   },
   "id": "6225abd46a3c5c2b"
  },
  {
   "cell_type": "code",
   "execution_count": 149,
   "outputs": [
    {
     "data": {
      "text/plain": "0.25928076611971196"
     },
     "execution_count": 149,
     "metadata": {},
     "output_type": "execute_result"
    }
   ],
   "source": [
    "X = inputs.iloc[:,2:] # using all features, except the fact that it is a time series (ignoring column 1 - Month)\n",
    "y = outputs.iloc[:,4] # toggle between 2,3,4 to predict Construction, Information and Total Private\n",
    "X_train, X_test, y_train, y_test = train_test_split(X, y, test_size=0.2, random_state=1)\n",
    "model = LinearRegression()\n",
    "model.fit(X_train, y_train)\n",
    "pred = model.predict(X_test)\n",
    "model.score(X_test, y_test)"
   ],
   "metadata": {
    "collapsed": false,
    "ExecuteTime": {
     "end_time": "2023-11-29T20:30:56.362037Z",
     "start_time": "2023-11-29T20:30:56.354792Z"
    }
   },
   "id": "556278c32ff92af1"
  },
  {
   "cell_type": "code",
   "execution_count": 133,
   "outputs": [
    {
     "data": {
      "text/plain": "0.007845118777653056"
     },
     "execution_count": 133,
     "metadata": {},
     "output_type": "execute_result"
    }
   ],
   "source": [
    "np.max(pred - y_test)"
   ],
   "metadata": {
    "collapsed": false,
    "ExecuteTime": {
     "end_time": "2023-11-29T20:30:50.378139Z",
     "start_time": "2023-11-29T20:30:50.293308Z"
    }
   },
   "id": "78b8e676788f6c88"
  },
  {
   "cell_type": "code",
   "execution_count": 134,
   "outputs": [
    {
     "data": {
      "text/plain": "0.014586288000112921"
     },
     "execution_count": 134,
     "metadata": {},
     "output_type": "execute_result"
    }
   ],
   "source": [
    "np.linalg.norm(pred - y_test)"
   ],
   "metadata": {
    "collapsed": false,
    "ExecuteTime": {
     "end_time": "2023-11-29T20:30:50.378303Z",
     "start_time": "2023-11-29T20:30:50.297442Z"
    }
   },
   "id": "8ced0c7abc500c84"
  },
  {
   "cell_type": "code",
   "execution_count": 135,
   "outputs": [
    {
     "data": {
      "text/plain": "5.189263356639956e-06"
     },
     "execution_count": 135,
     "metadata": {},
     "output_type": "execute_result"
    }
   ],
   "source": [
    "sklearn.metrics.mean_squared_error(y_test, pred)"
   ],
   "metadata": {
    "collapsed": false,
    "ExecuteTime": {
     "end_time": "2023-11-29T20:30:50.378521Z",
     "start_time": "2023-11-29T20:30:50.300005Z"
    }
   },
   "id": "f2720911940d1937"
  },
  {
   "cell_type": "code",
   "execution_count": 136,
   "outputs": [
    {
     "data": {
      "text/plain": "0.0030337873115729996"
     },
     "execution_count": 136,
     "metadata": {},
     "output_type": "execute_result"
    }
   ],
   "source": [
    "sklearn.metrics.r2_score(y_test, pred)"
   ],
   "metadata": {
    "collapsed": false,
    "ExecuteTime": {
     "end_time": "2023-11-29T20:30:50.378777Z",
     "start_time": "2023-11-29T20:30:50.303881Z"
    }
   },
   "id": "bf9553787cd7926b"
  },
  {
   "cell_type": "code",
   "execution_count": 137,
   "outputs": [
    {
     "data": {
      "text/plain": "<matplotlib.collections.PathCollection at 0x16b786d90>"
     },
     "execution_count": 137,
     "metadata": {},
     "output_type": "execute_result"
    },
    {
     "data": {
      "text/plain": "<Figure size 640x480 with 1 Axes>",
      "image/png": "[encoded data removed]"
     },
     "metadata": {},
     "output_type": "display_data"
    }
   ],
   "source": [
    "plt.scatter(range(np.size(y_test)), y_test - pred)"
   ],
   "metadata": {
    "collapsed": false,
    "ExecuteTime": {
     "end_time": "2023-11-29T20:30:50.393085Z",
     "start_time": "2023-11-29T20:30:50.311477Z"
    }
   },
   "id": "2bff93c4e5677220"
  },
  {
   "cell_type": "code",
   "execution_count": 138,
   "outputs": [],
   "source": [
    "pred_sign = np.sign(pred)\n",
    "y_test_sign = np.sign(y_test)"
   ],
   "metadata": {
    "collapsed": false,
    "ExecuteTime": {
     "end_time": "2023-11-29T20:30:50.455736Z",
     "start_time": "2023-11-29T20:30:50.379622Z"
    }
   },
   "id": "c2e52c1101650862"
  },
  {
   "cell_type": "code",
   "execution_count": 139,
   "outputs": [
    {
     "data": {
      "text/plain": "0.8292682926829268"
     },
     "execution_count": 139,
     "metadata": {},
     "output_type": "execute_result"
    }
   ],
   "source": [
    "classification_accuracy = 1 - 0.5*np.sum(np.abs(pred_sign - y_test_sign))/np.size(y_test_sign)\n",
    "classification_accuracy # test accuracy for classification via linear regression"
   ],
   "metadata": {
    "collapsed": false,
    "ExecuteTime": {
     "end_time": "2023-11-29T20:30:50.456052Z",
     "start_time": "2023-11-29T20:30:50.386816Z"
    }
   },
   "id": "dcbc5726b5a00257"
  },
  {
   "cell_type": "code",
   "execution_count": 140,
   "outputs": [
    {
     "data": {
      "text/plain": "0.8650306748466258"
     },
     "execution_count": 140,
     "metadata": {},
     "output_type": "execute_result"
    }
   ],
   "source": [
    "pred_train = model.predict(X_train)\n",
    "pred_train_sign = np.sign(pred_train)\n",
    "y_train_sign = np.sign(y_train)\n",
    "train_accuracy = 1 - 0.5*np.sum(np.abs(pred_train_sign - y_train_sign))/np.size(y_train_sign)\n",
    "train_accuracy # train accuracy for classification via linear regression"
   ],
   "metadata": {
    "collapsed": false,
    "ExecuteTime": {
     "end_time": "2023-11-29T20:30:50.484009Z",
     "start_time": "2023-11-29T20:30:50.396541Z"
    }
   },
   "id": "a61af3ff09fbad8d"
  },
  {
   "cell_type": "markdown",
   "source": [
    "# Logistic Regression"
   ],
   "metadata": {
    "collapsed": false
   },
   "id": "2712bbf14e4053c8"
  },
  {
   "cell_type": "code",
   "execution_count": 141,
   "outputs": [
    {
     "data": {
      "text/plain": "0.8709677419354839"
     },
     "execution_count": 141,
     "metadata": {},
     "output_type": "execute_result"
    }
   ],
   "source": [
    "X = inputs.iloc[:,2:] # using all features, except the fact that it is a time series (ignoring column 1 - Month)\n",
    "y = outputs.iloc[:,4] # toggle between 2,3,4 to predict Construction, Information and Total Private\n",
    "y = np.sign(y)\n",
    "X_train, X_test, y_train, y_test = train_test_split(X, y, test_size=0.3, random_state=0)\n",
    "model = LogisticRegression()\n",
    "model.fit(X_train, y_train)\n",
    "model.score(X_test, y_test) # test accuracy (boolean labels)"
   ],
   "metadata": {
    "collapsed": false,
    "ExecuteTime": {
     "end_time": "2023-11-29T20:30:50.506265Z",
     "start_time": "2023-11-29T20:30:50.405297Z"
    }
   },
   "id": "cb70d5c50d668855"
  },
  {
   "cell_type": "markdown",
   "source": [
    "# Logistic Regression (with multiple classes)"
   ],
   "metadata": {
    "collapsed": false
   },
   "id": "8ad2debfa7a357ed"
  },
  {
   "cell_type": "code",
   "execution_count": 142,
   "outputs": [
    {
     "data": {
      "text/plain": "0.3870967741935484"
     },
     "execution_count": 142,
     "metadata": {},
     "output_type": "execute_result"
    }
   ],
   "source": [
    "X = inputs.iloc[:,2:] # using all features, except the fact that it is a time series (ignoring column 1 - Month)\n",
    "y = outputs.iloc[:,4] # toggle between 2,3,4 to predict Construction, Information and Total Private\n",
    "n = 10 # number of classes\n",
    "y = pd.cut(y,n,labels=range(n)) # create n classes for the labels\n",
    "X_train, X_test, y_train, y_test = train_test_split(X, y, test_size=0.3, random_state=0)\n",
    "model = LogisticRegression()\n",
    "model.fit(X_train, y_train)\n",
    "model.score(X_test, y_test) # test accuracy (multiclass labels)"
   ],
   "metadata": {
    "collapsed": false,
    "ExecuteTime": {
     "end_time": "2023-11-29T20:30:50.506515Z",
     "start_time": "2023-11-29T20:30:50.421847Z"
    }
   },
   "id": "14f19a4a6c2ae507"
  },
  {
   "cell_type": "markdown",
   "source": [
    "# Decision Tree Classifier"
   ],
   "metadata": {
    "collapsed": false
   },
   "id": "47c6ac9ebf7260f4"
  },
  {
   "cell_type": "code",
   "execution_count": 143,
   "outputs": [
    {
     "data": {
      "text/plain": "0.9032258064516129"
     },
     "execution_count": 143,
     "metadata": {},
     "output_type": "execute_result"
    }
   ],
   "source": [
    "X = inputs.iloc[:,2:] # using all features, except the fact that it is a time series (ignoring column 1 - Month)\n",
    "y = outputs.iloc[:,4] # toggle between 2,3,4 to predict Construction, Information and Total Private\n",
    "y = np.sign(y)\n",
    "X_train, X_test, y_train, y_test = train_test_split(X, y, test_size=0.3, random_state=0)\n",
    "model = DecisionTreeClassifier()\n",
    "model.fit(X_train, y_train)\n",
    "model.score(X_test, y_test) # test accuracy (boolean labels)"
   ],
   "metadata": {
    "collapsed": false,
    "ExecuteTime": {
     "end_time": "2023-11-29T20:30:50.506627Z",
     "start_time": "2023-11-29T20:30:50.437146Z"
    }
   },
   "id": "372053a0466a1ae0"
  },
  {
   "cell_type": "markdown",
   "source": [
    "# SVM Classifier"
   ],
   "metadata": {
    "collapsed": false
   },
   "id": "5463d711f20d108c"
  },
  {
   "cell_type": "code",
   "execution_count": 144,
   "outputs": [
    {
     "data": {
      "text/plain": "0.8709677419354839"
     },
     "execution_count": 144,
     "metadata": {},
     "output_type": "execute_result"
    }
   ],
   "source": [
    "X = inputs.iloc[:,2:] # using all features, except the fact that it is a time series (ignoring column 1 - Month)\n",
    "y = outputs.iloc[:,4] # toggle between 2,3,4 to predict Construction, Information and Total Private\n",
    "y = np.sign(y)\n",
    "X_train, X_test, y_train, y_test = train_test_split(X, y, test_size=0.3, random_state=0)\n",
    "model = SVC()\n",
    "model.fit(X_train, y_train)\n",
    "model.score(X_test, y_test) # test accuracy (boolean labels)"
   ],
   "metadata": {
    "collapsed": false,
    "ExecuteTime": {
     "end_time": "2023-11-29T20:30:50.506948Z",
     "start_time": "2023-11-29T20:30:50.450586Z"
    }
   },
   "id": "20b58c0ae024da96"
  },
  {
   "cell_type": "markdown",
   "source": [
    "# KNN (with dynamic time warping)"
   ],
   "metadata": {
    "collapsed": false
   },
   "id": "2bb56af26f98bbe0"
  },
  {
   "cell_type": "code",
   "execution_count": 145,
   "outputs": [
    {
     "name": "stdout",
     "output_type": "stream",
     "text": [
      "Accuracy: 0.8870967741935484\n"
     ]
    }
   ],
   "source": [
    "from fastdtw import fastdtw\n",
    "from sklearn.neighbors import KNeighborsClassifier\n",
    "from sklearn.metrics import accuracy_score\n",
    "\n",
    "def calculate_dtw(series1, series2):\n",
    "    distance_dtw, _ = fastdtw(series1, series2)\n",
    "    return distance_dtw\n",
    "\n",
    "X_train, X_test, y_train, y_test = train_test_split(X, y, test_size=0.3, random_state=0)\n",
    "\n",
    "knn_model = KNeighborsClassifier(n_neighbors=4, metric=calculate_dtw)\n",
    "knn_model.fit(X_train, y_train)\n",
    "y_pred = knn_model.predict(X_test)\n",
    "accuracy = accuracy_score(y_test, y_pred)\n",
    "print(f'Accuracy: {accuracy}')"
   ],
   "metadata": {
    "collapsed": false,
    "ExecuteTime": {
     "end_time": "2023-11-29T20:30:53.247406Z",
     "start_time": "2023-11-29T20:30:50.459575Z"
    }
   },
   "id": "679446c5fc6cf27b"
  },
  {
   "cell_type": "markdown",
   "source": [
    "# Naive Bayes"
   ],
   "metadata": {
    "collapsed": false
   },
   "id": "17bb2b1fd80ac5ae"
  },
  {
   "cell_type": "code",
   "execution_count": 146,
   "outputs": [
    {
     "name": "stdout",
     "output_type": "stream",
     "text": [
      "Accuracy: 0.9032258064516129\n",
      "Classification Report:\n",
      "              precision    recall  f1-score   support\n",
      "\n",
      "           0       0.62      0.62      0.62         8\n",
      "           1       0.94      0.94      0.94        54\n",
      "\n",
      "    accuracy                           0.90        62\n",
      "   macro avg       0.78      0.78      0.78        62\n",
      "weighted avg       0.90      0.90      0.90        62\n"
     ]
    }
   ],
   "source": [
    "from sklearn.naive_bayes import GaussianNB\n",
    "from sklearn.metrics import classification_report\n",
    "\n",
    "y_labels = (y > 0).astype(int)\n",
    "\n",
    "X_train, X_test, y_train, y_test = train_test_split(X, y_labels, test_size=0.3, random_state=0)\n",
    "nb_classifier = GaussianNB()\n",
    "nb_classifier.fit(X_train, y_train)\n",
    "y_pred = nb_classifier.predict(X_test)\n",
    "accuracy = accuracy_score(y_test, y_pred)\n",
    "print(f'Accuracy: {accuracy}')\n",
    "\n",
    "# Display classification report\n",
    "print(\"Classification Report:\")\n",
    "print(classification_report(y_test, y_pred))"
   ],
   "metadata": {
    "collapsed": false,
    "ExecuteTime": {
     "end_time": "2023-11-29T20:30:53.255736Z",
     "start_time": "2023-11-29T20:30:53.248475Z"
    }
   },
   "id": "20036aeb412c6f6f"
  },
  {
   "cell_type": "markdown",
   "source": [
    "# Random Forest"
   ],
   "metadata": {
    "collapsed": false
   },
   "id": "6b6a643aca32412b"
  },
  {
   "cell_type": "code",
   "execution_count": 147,
   "outputs": [
    {
     "name": "stdout",
     "output_type": "stream",
     "text": [
      "Accuracy: 0.967741935483871\n",
      "Classification Report:\n",
      "              precision    recall  f1-score   support\n",
      "\n",
      "        -1.0       1.00      0.78      0.88         9\n",
      "         1.0       0.96      1.00      0.98        53\n",
      "\n",
      "    accuracy                           0.97        62\n",
      "   macro avg       0.98      0.89      0.93        62\n",
      "weighted avg       0.97      0.97      0.97        62\n"
     ]
    }
   ],
   "source": [
    "from sklearn.ensemble import RandomForestClassifier\n",
    "\n",
    "y_sign = np.sign(y)\n",
    "\n",
    "X_train, X_test, y_train, y_test = train_test_split(X, y_sign, test_size=0.3, random_state=3)\n",
    "rf_model = RandomForestClassifier(n_estimators=100, random_state=3)\n",
    "rf_model.fit(X_train, y_train)\n",
    "y_pred = rf_model.predict(X_test)\n",
    "accuracy = accuracy_score(y_test, y_pred)\n",
    "print(f'Accuracy: {accuracy}')\n",
    "\n",
    "# Display classification report\n",
    "print(\"Classification Report:\")\n",
    "print(classification_report(y_test, y_pred))"
   ],
   "metadata": {
    "collapsed": false,
    "ExecuteTime": {
     "end_time": "2023-11-29T20:30:53.319159Z",
     "start_time": "2023-11-29T20:30:53.256199Z"
    }
   },
   "id": "3c43c65e9470295b"
  },
  {
   "cell_type": "markdown",
   "source": [
    "# Baseline"
   ],
   "metadata": {
    "collapsed": false
   },
   "id": "1be54943c16d8686"
  },
  {
   "cell_type": "code",
   "execution_count": 148,
   "outputs": [
    {
     "name": "stdout",
     "output_type": "stream",
     "text": [
      "Accuracy: 0.967741935483871\n"
     ]
    }
   ],
   "source": [
    "X = inputs.iloc[:,2:] # using all features, except the fact that it is a time series (ignoring column 1 - Month)\n",
    "y = outputs.iloc[:,4] # toggle between 2,3,4 to predict Construction, Information and Total Private\n",
    "\n",
    "y_labels = (y > 0).astype(int)\n",
    "\n",
    "# predict next month's class to be the same as this month's class\n",
    "y_pred = y_labels.shift(1).dropna()\n",
    "\n",
    "# split the data into training and testing sets along with corresp. indices\n",
    "X_train, X_test, y_train, y_test, indices_train, indices_test = train_test_split(X, y_labels, np.arange(len(y_labels)), test_size=0.3, random_state=3)\n",
    "\n",
    "# check accuracy of baseline\n",
    "accuracy = np.sum(y_pred[indices_test] == y_test)/np.size(y_test)\n",
    "print(f'Accuracy: {accuracy}')"
   ],
   "metadata": {
    "collapsed": false,
    "ExecuteTime": {
     "end_time": "2023-11-29T20:30:53.324113Z",
     "start_time": "2023-11-29T20:30:53.320043Z"
    }
   },
   "id": "27c5ec857984ea9d"
  }
 ],
 "metadata": {
  "kernelspec": {
   "display_name": "Python 3",
   "language": "python",
   "name": "python3"
  },
  "language_info": {
   "codemirror_mode": {
    "name": "ipython",
    "version": 2
   },
   "file_extension": ".py",
   "mimetype": "text/x-python",
   "name": "python",
   "nbconvert_exporter": "python",
   "pygments_lexer": "ipython2",
   "version": "2.7.6"
  }
 },
 "nbformat": 4,
 "nbformat_minor": 5
}
