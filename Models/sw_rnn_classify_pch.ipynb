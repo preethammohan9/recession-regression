{
 "cells": [
  {
   "cell_type": "code",
   "execution_count": 38,
   "metadata": {},
   "outputs": [],
   "source": [
    "import matplotlib.pyplot as plt\n",
    "import pandas as pd\n",
    "import numpy as np\n",
    "\n",
    "import torch\n",
    "import torch.nn as nn"
   ]
  },
  {
   "cell_type": "code",
   "execution_count": 39,
   "metadata": {},
   "outputs": [],
   "source": [
    "device = 'cpu'"
   ]
  },
  {
   "cell_type": "code",
   "execution_count": 41,
   "metadata": {},
   "outputs": [],
   "source": [
    "from copy import deepcopy\n",
    "\n",
    "def prepare_shifted_df(df, n_steps, input_name):\n",
    "    df = deepcopy(df)\n",
    "    \n",
    "    # df.set_index('Month', inplace=True)\n",
    "    \n",
    "    for i in reversed(range(1, n_steps + 1)):\n",
    "        new_name = input_name + f\"(t-{i})\"\n",
    "        df[new_name] = df.iloc[:,0].shift(i)\n",
    "        \n",
    "    df.dropna(inplace=True)\n",
    "    \n",
    "    return df.iloc[:,1:]\n",
    "\n",
    "lookback = 36"
   ]
  },
  {
   "cell_type": "code",
   "execution_count": 43,
   "metadata": {},
   "outputs": [
    {
     "data": {
      "text/html": [
       "<div>\n",
       "<style scoped>\n",
       "    .dataframe tbody tr th:only-of-type {\n",
       "        vertical-align: middle;\n",
       "    }\n",
       "\n",
       "    .dataframe tbody tr th {\n",
       "        vertical-align: top;\n",
       "    }\n",
       "\n",
       "    .dataframe thead th {\n",
       "        text-align: right;\n",
       "    }\n",
       "</style>\n",
       "<table border=\"1\" class=\"dataframe\">\n",
       "  <thead>\n",
       "    <tr style=\"text-align: right;\">\n",
       "      <th></th>\n",
       "      <th>Unnamed: 0.1</th>\n",
       "      <th>Unnamed: 0</th>\n",
       "      <th>Month</th>\n",
       "      <th>Total_private_pch</th>\n",
       "      <th>Construction_pch</th>\n",
       "    </tr>\n",
       "  </thead>\n",
       "  <tbody>\n",
       "    <tr>\n",
       "      <th>0</th>\n",
       "      <td>0</td>\n",
       "      <td>0</td>\n",
       "      <td>1960-01-01</td>\n",
       "      <td>0.35148</td>\n",
       "      <td>-1.20994</td>\n",
       "    </tr>\n",
       "    <tr>\n",
       "      <th>1</th>\n",
       "      <td>1</td>\n",
       "      <td>1</td>\n",
       "      <td>1960-02-01</td>\n",
       "      <td>0.47860</td>\n",
       "      <td>1.05925</td>\n",
       "    </tr>\n",
       "    <tr>\n",
       "      <th>2</th>\n",
       "      <td>2</td>\n",
       "      <td>2</td>\n",
       "      <td>1960-03-01</td>\n",
       "      <td>-0.55860</td>\n",
       "      <td>-5.63380</td>\n",
       "    </tr>\n",
       "    <tr>\n",
       "      <th>3</th>\n",
       "      <td>3</td>\n",
       "      <td>3</td>\n",
       "      <td>1960-04-01</td>\n",
       "      <td>0.76205</td>\n",
       "      <td>4.26935</td>\n",
       "    </tr>\n",
       "    <tr>\n",
       "      <th>4</th>\n",
       "      <td>4</td>\n",
       "      <td>4</td>\n",
       "      <td>1960-05-01</td>\n",
       "      <td>-0.50995</td>\n",
       "      <td>0.56591</td>\n",
       "    </tr>\n",
       "    <tr>\n",
       "      <th>...</th>\n",
       "      <td>...</td>\n",
       "      <td>...</td>\n",
       "      <td>...</td>\n",
       "      <td>...</td>\n",
       "      <td>...</td>\n",
       "    </tr>\n",
       "    <tr>\n",
       "      <th>757</th>\n",
       "      <td>761</td>\n",
       "      <td>761</td>\n",
       "      <td>2023-06-01</td>\n",
       "      <td>0.06450</td>\n",
       "      <td>0.36588</td>\n",
       "    </tr>\n",
       "    <tr>\n",
       "      <th>758</th>\n",
       "      <td>762</td>\n",
       "      <td>762</td>\n",
       "      <td>2023-07-01</td>\n",
       "      <td>0.10867</td>\n",
       "      <td>0.15085</td>\n",
       "    </tr>\n",
       "    <tr>\n",
       "      <th>759</th>\n",
       "      <td>763</td>\n",
       "      <td>763</td>\n",
       "      <td>2023-08-01</td>\n",
       "      <td>0.08535</td>\n",
       "      <td>0.37655</td>\n",
       "    </tr>\n",
       "    <tr>\n",
       "      <th>760</th>\n",
       "      <td>764</td>\n",
       "      <td>764</td>\n",
       "      <td>2023-09-01</td>\n",
       "      <td>0.18401</td>\n",
       "      <td>0.16256</td>\n",
       "    </tr>\n",
       "    <tr>\n",
       "      <th>761</th>\n",
       "      <td>765</td>\n",
       "      <td>765</td>\n",
       "      <td>2023-10-01</td>\n",
       "      <td>0.07392</td>\n",
       "      <td>0.28714</td>\n",
       "    </tr>\n",
       "  </tbody>\n",
       "</table>\n",
       "<p>762 rows × 5 columns</p>\n",
       "</div>"
      ],
      "text/plain": [
       "     Unnamed: 0.1  Unnamed: 0       Month  Total_private_pch  Construction_pch\n",
       "0               0           0  1960-01-01            0.35148          -1.20994\n",
       "1               1           1  1960-02-01            0.47860           1.05925\n",
       "2               2           2  1960-03-01           -0.55860          -5.63380\n",
       "3               3           3  1960-04-01            0.76205           4.26935\n",
       "4               4           4  1960-05-01           -0.50995           0.56591\n",
       "..            ...         ...         ...                ...               ...\n",
       "757           761         761  2023-06-01            0.06450           0.36588\n",
       "758           762         762  2023-07-01            0.10867           0.15085\n",
       "759           763         763  2023-08-01            0.08535           0.37655\n",
       "760           764         764  2023-09-01            0.18401           0.16256\n",
       "761           765         765  2023-10-01            0.07392           0.28714\n",
       "\n",
       "[762 rows x 5 columns]"
      ]
     },
     "execution_count": 43,
     "metadata": {},
     "output_type": "execute_result"
    }
   ],
   "source": [
    "df = pd.read_csv('../Data/Employment_pch_1960_no_covid.csv')\n",
    "df"
   ]
  },
  {
   "cell_type": "code",
   "execution_count": 13,
   "metadata": {},
   "outputs": [],
   "source": [
    "df = pd.read_csv('../Data/Employment_pch_1960_no_covid.csv')\n",
    "df = df.iloc[:-1,1:]\n",
    "df.set_index('Month', inplace=True)\n",
    "# print(df)\n",
    "shifted_df0 = prepare_shifted_df(df[['Total_private_pch']], lookback, 'Total_private_pch')\n",
    "\n",
    "df = pd.read_csv('../Data/Input_features_1960_no_covid.csv')\n",
    "df = df.iloc[:,1:]\n",
    "df.set_index('Month', inplace=True)\n",
    "# print(df)\n",
    "shifted_df1 = prepare_shifted_df(df[['Fedfund_rate']], lookback, 'Fedfund_rate')\n",
    "shifted_df2 = prepare_shifted_df(df[['GDP_pch']], lookback, 'GDP_pch')\n",
    "shifted_df3 = prepare_shifted_df(df[['CPI_pc1']], lookback, 'CPI_pc1')\n",
    "shifted_df4 = prepare_shifted_df(df[['Loan_pch']], lookback, 'Loan_pch')\n",
    "shifted_df5 = prepare_shifted_df(df[['House_ch']], lookback, 'House_ch')"
   ]
  },
  {
   "cell_type": "code",
   "execution_count": 15,
   "metadata": {},
   "outputs": [],
   "source": [
    "from sklearn.preprocessing import MinMaxScaler\n",
    "scaler = MinMaxScaler(feature_range=(-1, 1))\n",
    "\n",
    "def scale_df(df, scaler):\n",
    "    df_np = df.to_numpy()\n",
    "    return scaler.fit_transform(df_np)"
   ]
  },
  {
   "cell_type": "code",
   "execution_count": 16,
   "metadata": {},
   "outputs": [
    {
     "data": {
      "text/html": [
       "<div>\n",
       "<style scoped>\n",
       "    .dataframe tbody tr th:only-of-type {\n",
       "        vertical-align: middle;\n",
       "    }\n",
       "\n",
       "    .dataframe tbody tr th {\n",
       "        vertical-align: top;\n",
       "    }\n",
       "\n",
       "    .dataframe thead th {\n",
       "        text-align: right;\n",
       "    }\n",
       "</style>\n",
       "<table border=\"1\" class=\"dataframe\">\n",
       "  <thead>\n",
       "    <tr style=\"text-align: right;\">\n",
       "      <th></th>\n",
       "      <th>Unnamed: 0.1</th>\n",
       "      <th>Unnamed: 0</th>\n",
       "      <th>Month</th>\n",
       "      <th>Fedfund_rate</th>\n",
       "      <th>GDP_pch</th>\n",
       "      <th>CPI_pc1</th>\n",
       "      <th>Loan_pch</th>\n",
       "      <th>House_ch</th>\n",
       "    </tr>\n",
       "  </thead>\n",
       "  <tbody>\n",
       "    <tr>\n",
       "      <th>0</th>\n",
       "      <td>0</td>\n",
       "      <td>0</td>\n",
       "      <td>1960-01-01</td>\n",
       "      <td>3.99</td>\n",
       "      <td>2.657590</td>\n",
       "      <td>1.24095</td>\n",
       "      <td>10.2</td>\n",
       "      <td>-197.0</td>\n",
       "    </tr>\n",
       "    <tr>\n",
       "      <th>1</th>\n",
       "      <td>1</td>\n",
       "      <td>1</td>\n",
       "      <td>1960-02-01</td>\n",
       "      <td>3.97</td>\n",
       "      <td>1.675410</td>\n",
       "      <td>1.41379</td>\n",
       "      <td>10.1</td>\n",
       "      <td>-164.0</td>\n",
       "    </tr>\n",
       "    <tr>\n",
       "      <th>2</th>\n",
       "      <td>2</td>\n",
       "      <td>2</td>\n",
       "      <td>1960-03-01</td>\n",
       "      <td>3.84</td>\n",
       "      <td>0.693230</td>\n",
       "      <td>1.51881</td>\n",
       "      <td>6.7</td>\n",
       "      <td>-511.0</td>\n",
       "    </tr>\n",
       "    <tr>\n",
       "      <th>3</th>\n",
       "      <td>3</td>\n",
       "      <td>3</td>\n",
       "      <td>1960-04-01</td>\n",
       "      <td>3.92</td>\n",
       "      <td>-0.288950</td>\n",
       "      <td>1.93237</td>\n",
       "      <td>6.6</td>\n",
       "      <td>-301.0</td>\n",
       "    </tr>\n",
       "    <tr>\n",
       "      <th>4</th>\n",
       "      <td>4</td>\n",
       "      <td>4</td>\n",
       "      <td>1960-05-01</td>\n",
       "      <td>3.85</td>\n",
       "      <td>0.086070</td>\n",
       "      <td>1.82507</td>\n",
       "      <td>3.3</td>\n",
       "      <td>-227.0</td>\n",
       "    </tr>\n",
       "    <tr>\n",
       "      <th>...</th>\n",
       "      <td>...</td>\n",
       "      <td>...</td>\n",
       "      <td>...</td>\n",
       "      <td>...</td>\n",
       "      <td>...</td>\n",
       "      <td>...</td>\n",
       "      <td>...</td>\n",
       "      <td>...</td>\n",
       "    </tr>\n",
       "    <tr>\n",
       "      <th>756</th>\n",
       "      <td>760</td>\n",
       "      <td>760</td>\n",
       "      <td>2023-05-01</td>\n",
       "      <td>5.06</td>\n",
       "      <td>1.310517</td>\n",
       "      <td>4.12884</td>\n",
       "      <td>6.0</td>\n",
       "      <td>40.0</td>\n",
       "    </tr>\n",
       "    <tr>\n",
       "      <th>757</th>\n",
       "      <td>761</td>\n",
       "      <td>761</td>\n",
       "      <td>2023-06-01</td>\n",
       "      <td>5.08</td>\n",
       "      <td>1.690863</td>\n",
       "      <td>3.09200</td>\n",
       "      <td>3.0</td>\n",
       "      <td>-143.0</td>\n",
       "    </tr>\n",
       "    <tr>\n",
       "      <th>758</th>\n",
       "      <td>762</td>\n",
       "      <td>762</td>\n",
       "      <td>2023-07-01</td>\n",
       "      <td>5.12</td>\n",
       "      <td>2.071210</td>\n",
       "      <td>3.29908</td>\n",
       "      <td>2.4</td>\n",
       "      <td>80.0</td>\n",
       "    </tr>\n",
       "    <tr>\n",
       "      <th>759</th>\n",
       "      <td>763</td>\n",
       "      <td>763</td>\n",
       "      <td>2023-08-01</td>\n",
       "      <td>5.33</td>\n",
       "      <td>2.071210</td>\n",
       "      <td>3.70750</td>\n",
       "      <td>6.3</td>\n",
       "      <td>-200.0</td>\n",
       "    </tr>\n",
       "    <tr>\n",
       "      <th>760</th>\n",
       "      <td>764</td>\n",
       "      <td>764</td>\n",
       "      <td>2023-09-01</td>\n",
       "      <td>5.33</td>\n",
       "      <td>2.071210</td>\n",
       "      <td>3.68990</td>\n",
       "      <td>4.4</td>\n",
       "      <td>-117.0</td>\n",
       "    </tr>\n",
       "  </tbody>\n",
       "</table>\n",
       "<p>761 rows × 8 columns</p>\n",
       "</div>"
      ],
      "text/plain": [
       "     Unnamed: 0.1  Unnamed: 0      Month  Fedfund_rate   GDP_pch  CPI_pc1  \\\n",
       "0               0           0 1960-01-01          3.99  2.657590  1.24095   \n",
       "1               1           1 1960-02-01          3.97  1.675410  1.41379   \n",
       "2               2           2 1960-03-01          3.84  0.693230  1.51881   \n",
       "3               3           3 1960-04-01          3.92 -0.288950  1.93237   \n",
       "4               4           4 1960-05-01          3.85  0.086070  1.82507   \n",
       "..            ...         ...        ...           ...       ...      ...   \n",
       "756           760         760 2023-05-01          5.06  1.310517  4.12884   \n",
       "757           761         761 2023-06-01          5.08  1.690863  3.09200   \n",
       "758           762         762 2023-07-01          5.12  2.071210  3.29908   \n",
       "759           763         763 2023-08-01          5.33  2.071210  3.70750   \n",
       "760           764         764 2023-09-01          5.33  2.071210  3.68990   \n",
       "\n",
       "     Loan_pch  House_ch  \n",
       "0        10.2    -197.0  \n",
       "1        10.1    -164.0  \n",
       "2         6.7    -511.0  \n",
       "3         6.6    -301.0  \n",
       "4         3.3    -227.0  \n",
       "..        ...       ...  \n",
       "756       6.0      40.0  \n",
       "757       3.0    -143.0  \n",
       "758       2.4      80.0  \n",
       "759       6.3    -200.0  \n",
       "760       4.4    -117.0  \n",
       "\n",
       "[761 rows x 8 columns]"
      ]
     },
     "execution_count": 16,
     "metadata": {},
     "output_type": "execute_result"
    }
   ],
   "source": [
    "# df_input = pd.read_csv('../Data/Input_features_1960_no_covid.csv')\n",
    "# df_input['Month'] = pd.to_datetime(df_input['Month'])\n",
    "# df_input"
   ]
  },
  {
   "cell_type": "code",
   "execution_count": 17,
   "metadata": {},
   "outputs": [
    {
     "data": {
      "text/plain": [
       "array([False, False, False, False, False, False])"
      ]
     },
     "execution_count": 17,
     "metadata": {},
     "output_type": "execute_result"
    }
   ],
   "source": [
    "X0 = scale_df(shifted_df0, scaler)\n",
    "X1 = scale_df(shifted_df1, scaler)\n",
    "X2= scale_df(shifted_df2, scaler)\n",
    "X3 = scale_df(shifted_df3, scaler)\n",
    "X4 = scale_df(shifted_df4, scaler)\n",
    "X5 = scale_df(shifted_df5, scaler)\n",
    "\n",
    "temp_list = [X0, X1, X2, X3, X4, X5]\n",
    "# print(X0)\n",
    "# print(type(X0.shape[0]))\n",
    "X = np.zeros([X0.shape[0], X0.shape[1], 6])\n",
    "# X.shape\n",
    "for i in range(6):\n",
    "    X[:,:,i] = temp_list[i]\n",
    "    \n",
    "print(f\"X shape is {X.shape}\")\n",
    "plt.plot(X0[:,0], label = 'Total private employment')\n",
    "plt.plot(X1[:,0], label = 'Fed funds rate')\n",
    "plt.plot(X2[:,0], label = 'GDP')\n",
    "plt.plot(X3[:,0], label = 'CPI')\n",
    "plt.plot(X4[:,0], label = 'Loan',  linestyle = 'dashed', color = 'gray')\n",
    "plt.plot(X5[:,0], label = 'House')\n",
    "\n",
    "plt.legend()\n",
    "plt.show()\n",
    "\n",
    "np.isnan(X).any(0).any(0)"
   ]
  },
  {
   "cell_type": "code",
   "execution_count": 18,
   "metadata": {},
   "outputs": [
    {
     "name": "stdout",
     "output_type": "stream",
     "text": [
      "            Total_private_pch\n",
      "Month                        \n",
      "1963-01-01            0.01919\n",
      "1963-02-01            0.18759\n",
      "1963-03-01            0.16171\n",
      "1963-04-01            0.51195\n",
      "1963-05-01            0.02536\n",
      "...                       ...\n",
      "2023-05-01            0.19161\n",
      "2023-06-01            0.06450\n",
      "2023-07-01            0.10867\n",
      "2023-08-01            0.08535\n",
      "2023-09-01            0.18401\n",
      "\n",
      "[725 rows x 1 columns]\n"
     ]
    },
    {
     "data": {
      "text/plain": [
       "((725, 36, 6), (725,))"
      ]
     },
     "execution_count": 18,
     "metadata": {},
     "output_type": "execute_result"
    }
   ],
   "source": [
    "y_df = pd.read_csv('../Data/Employment_pch_1960_no_covid.csv')\n",
    "\n",
    "y_df = y_df[['Month', 'Total_private_pch']]\n",
    "y_df = y_df.iloc[lookback:-1,:]\n",
    "y_df.set_index('Month', inplace = True)\n",
    "print(y_df)\n",
    "# assert(y_df.shape[0] == X.shape[0])\n",
    "                                 \n",
    "# shifted_df1\n",
    "y = y_df.to_numpy()\n",
    "# y = shifted_df_as_np[:, 0]\n",
    "y_dir = np.sign(y)\n",
    "y_dir[y_dir == -1] = 0\n",
    "y_dir = y_dir[:,0]\n",
    "# y_dir\n",
    "# X = dc(np.flip(X, axis=1)) # because we want to start from the earliest time)\n",
    "# # X\n",
    "\n",
    "X.shape, y_dir.shape"
   ]
  },
  {
   "cell_type": "code",
   "execution_count": 19,
   "metadata": {},
   "outputs": [
    {
     "data": {
      "text/plain": [
       "((507, 36, 6), (218, 36, 6), (507,), (218,))"
      ]
     },
     "execution_count": 19,
     "metadata": {},
     "output_type": "execute_result"
    }
   ],
   "source": [
    "from sklearn.model_selection import train_test_split\n",
    "X_train, X_test, y_train, y_test = train_test_split(X, y_dir, test_size=0.3, shuffle = False, random_state=8)\n",
    "X_train.shape, X_test.shape, y_train.shape, y_test.shape"
   ]
  },
  {
   "cell_type": "code",
   "execution_count": 20,
   "metadata": {},
   "outputs": [],
   "source": [
    "#add another dimension in the end for Pytorch LSTM\n",
    "# num_classes = 2\n",
    "# X_train = X_train.reshape((-1, lookback, 1))\n",
    "# X_test = X_test.reshape((-1, lookback, 1))\n",
    "\n",
    "# y_train = y_train.reshape((-1, 1))\n",
    "# y_test = y_test.reshape((-1, 1))\n",
    "\n",
    "\n",
    "\n",
    "# X_train.shape, X_test.shape, y_train.shape, y_test.shape"
   ]
  },
  {
   "cell_type": "code",
   "execution_count": 21,
   "metadata": {},
   "outputs": [
    {
     "data": {
      "text/plain": [
       "(torch.Size([507, 36, 6]),\n",
       " torch.Size([218, 36, 6]),\n",
       " torch.Size([507]),\n",
       " torch.Size([218]))"
      ]
     },
     "execution_count": 21,
     "metadata": {},
     "output_type": "execute_result"
    }
   ],
   "source": [
    "X_train = torch.tensor(X_train, dtype = torch.float32)\n",
    "X_test = torch.tensor(X_test, dtype = torch.float32)\n",
    "y_train = torch.tensor(y_train, dtype = torch.long)\n",
    "y_test = torch.tensor(y_test, dtype = torch.long)\n",
    "\n",
    "X_train.shape, X_test.shape, y_train.shape, y_test.shape"
   ]
  },
  {
   "cell_type": "code",
   "execution_count": 22,
   "metadata": {},
   "outputs": [
    {
     "data": {
      "text/plain": [
       "0"
      ]
     },
     "execution_count": 22,
     "metadata": {},
     "output_type": "execute_result"
    }
   ],
   "source": [
    "temp = np.nonzero(y_test < 0)\n",
    "len(temp)"
   ]
  },
  {
   "cell_type": "code",
   "execution_count": 23,
   "metadata": {},
   "outputs": [
    {
     "data": {
      "text/plain": [
       "<__main__.TimeSeriesDataset at 0x28240f310>"
      ]
     },
     "execution_count": 23,
     "metadata": {},
     "output_type": "execute_result"
    }
   ],
   "source": [
    "from torch.utils.data import Dataset\n",
    "\n",
    "class TimeSeriesDataset(Dataset):\n",
    "    def __init__(self, X, y):\n",
    "        self.X = X\n",
    "        self.y = y\n",
    "\n",
    "    def __len__(self):\n",
    "        return len(self.X)\n",
    "\n",
    "    def __getitem__(self, i):\n",
    "        return self.X[i], self.y[i]\n",
    "    \n",
    "train_dataset = TimeSeriesDataset(X_train, y_train)\n",
    "test_dataset = TimeSeriesDataset(X_test, y_test)\n",
    "train_dataset"
   ]
  },
  {
   "cell_type": "code",
   "execution_count": 24,
   "metadata": {},
   "outputs": [
    {
     "name": "stdout",
     "output_type": "stream",
     "text": [
      "32\n",
      "14\n",
      "torch.float32 torch.int64\n",
      "torch.Size([16, 36, 6]) torch.Size([16])\n"
     ]
    }
   ],
   "source": [
    "#wrap dataset in data loaders to get the batches\n",
    "from torch.utils.data import DataLoader\n",
    "\n",
    "batch_size = 16\n",
    "\n",
    "train_loader = DataLoader(train_dataset, batch_size=batch_size, shuffle=True)\n",
    "test_loader = DataLoader(test_dataset, batch_size=batch_size, shuffle=False)\n",
    "\n",
    "print(len(train_loader))\n",
    "print(len(test_loader))\n",
    "\n",
    "for _, batch in enumerate(train_loader):\n",
    "    x_batch, y_batch = batch[0].to(device), batch[1].to(device)\n",
    "    print(x_batch.dtype, y_batch.dtype)\n",
    "    print(x_batch.shape, y_batch.shape)\n",
    "    break"
   ]
  },
  {
   "cell_type": "code",
   "execution_count": 25,
   "metadata": {},
   "outputs": [],
   "source": [
    "# rnn for classification\n",
    "\n",
    "class RNN(nn.Module):\n",
    "    def __init__(self, input_size, hidden_size, num_layers, num_classes):\n",
    "        super(RNN, self).__init__()\n",
    "        self.num_layers = num_layers\n",
    "        self.hidden_size = hidden_size\n",
    "        self.rnn = nn.RNN(input_size, hidden_size, num_layers, nonlinearity='tanh', batch_first=True)\n",
    "        # -> x needs to be: (batch_size, seq, input_size)\n",
    "        \n",
    "        # or:\n",
    "        #self.gru = nn.GRU(input_size, hidden_size, num_layers, batch_first=True)\n",
    "        #self.lstm = nn.LSTM(input_size, hidden_size, num_layers, batch_first=True)\n",
    "        self.fc = nn.Linear(hidden_size, num_classes)\n",
    "        self.softmax = nn.LogSoftmax(dim=1)\n",
    "        \n",
    "    def forward(self, x):\n",
    "        # Set initial hidden states (and cell states for LSTM)\n",
    "        h0 = torch.zeros(self.num_layers, x.size(0), self.hidden_size).to(device) \n",
    "        #c0 = torch.zeros(self.num_layers, x.size(0), self.hidden_size).to(device) \n",
    "        \n",
    "        # Forward propagate RNN\n",
    "        out, _ = self.rnn(x, h0)  \n",
    "        # or:\n",
    "        #out, _ = self.lstm(x, (h0,c0))  \n",
    "        \n",
    "        # out: tensor of shape (batch_size, seq_length, hidden_size)\n",
    "        \n",
    "        # Decode the hidden state of the last time step\n",
    "        out = out[:, -1, :]\n",
    "        out = self.fc(out)\n",
    "        out = self.softmax(out)\n",
    "        return out\n",
    "    "
   ]
  },
  {
   "cell_type": "code",
   "execution_count": 26,
   "metadata": {},
   "outputs": [],
   "source": [
    "def train_one_epoch(dataloader, model, loss_function, optimizer):\n",
    "    model.train()\n",
    "    running_loss = 0.0\n",
    "    \n",
    "    for batch_index, batch in enumerate(dataloader):\n",
    "        x_batch, y_batch = batch[0].to(device), batch[1].to(device)\n",
    "        \n",
    "        output = model(x_batch)\n",
    "        loss = loss_function(output, y_batch)\n",
    "        running_loss += loss.item()\n",
    "        \n",
    "        loss.backward()\n",
    "        optimizer.step()\n",
    "        optimizer.zero_grad()\n",
    "\n",
    "        # if batch_index % 20 == 19:  # print every 20 batches\n",
    "        #     avg_loss_across_batches = running_loss / (20 * batch_size)\n",
    "        #     print('Batch {0}, Loss: {1:.3f}'.format(batch_index+1,\n",
    "        #                                             avg_loss_across_batches))\n",
    "        #     running_loss = 0.0\n",
    "    # print()\n",
    "    # all_train_loss.append(running_loss / (len(train_loader) * batch_size))"
   ]
  },
  {
   "cell_type": "code",
   "execution_count": 27,
   "metadata": {},
   "outputs": [],
   "source": [
    "def validate_one_epoch(dataloader, model, loss_function):\n",
    "    model.eval() #evaluation mode\n",
    "    running_loss = 0.0\n",
    "    \n",
    "    for batch_index, batch in enumerate(dataloader):\n",
    "        x_batch, y_batch = batch[0].to(device), batch[1].to(device)\n",
    "\n",
    "        with torch.no_grad(): #not calculating gradients because we're not updating model\n",
    "            output = model(x_batch)\n",
    "            loss = loss_function(output, y_batch)\n",
    "            running_loss += loss.item()\n",
    "\n",
    "    \n",
    "    # avg_loss_across_batches = running_loss / (len(dataloader) * batch_size)\n",
    "    # print('Val Loss: {0:.3f}'.format(avg_loss_across_batches))\n",
    "    # print('***************************************************')\n",
    "    # all_test_loss.append(running_loss / (len(test_loader) * batch_size))"
   ]
  },
  {
   "cell_type": "code",
   "execution_count": 28,
   "metadata": {},
   "outputs": [],
   "source": [
    "def error_rate(y_predict, y_actual):\n",
    "    assert(len(y_predict) == len(y_actual))\n",
    "    max_ind_train = torch.argmax(y_predict, axis = 1)\n",
    "    error = torch.sum(abs(y_actual - max_ind_train)) / len(max_ind_train)\n",
    "    return error"
   ]
  },
  {
   "cell_type": "code",
   "execution_count": 29,
   "metadata": {},
   "outputs": [
    {
     "data": {
      "text/plain": [
       "RNN(\n",
       "  (rnn): RNN(6, 64, num_layers=6, batch_first=True)\n",
       "  (fc): Linear(in_features=64, out_features=2, bias=True)\n",
       "  (softmax): LogSoftmax(dim=1)\n",
       ")"
      ]
     },
     "execution_count": 29,
     "metadata": {},
     "output_type": "execute_result"
    }
   ],
   "source": [
    "input_size = 6\n",
    "hidden_size = 64\n",
    "num_layers = 6\n",
    "num_classes = 2\n",
    "\n",
    "model = RNN(input_size, hidden_size, num_layers, num_classes).to(device)\n",
    "model"
   ]
  },
  {
   "cell_type": "code",
   "execution_count": 30,
   "metadata": {},
   "outputs": [
    {
     "name": "stdout",
     "output_type": "stream",
     "text": [
      "Epoch: 20\n",
      "training data error is 0.20710058510303497\n",
      "test data error is 0.13302752375602722\n",
      "Epoch: 40\n",
      "training data error is 0.1459566056728363\n",
      "test data error is 0.0458715595304966\n",
      "Epoch: 60\n",
      "training data error is 0.12426035851240158\n",
      "test data error is 0.03669724613428116\n",
      "Epoch: 80\n",
      "training data error is 0.11834319680929184\n",
      "test data error is 0.08715596050024033\n",
      "Epoch: 100\n",
      "training data error is 0.10453648865222931\n",
      "test data error is 0.04128440469503403\n",
      "Epoch: 120\n",
      "training data error is 0.08875739574432373\n",
      "test data error is 0.06422018259763718\n",
      "Epoch: 140\n",
      "training data error is 0.09072978049516678\n",
      "test data error is 0.06422018259763718\n",
      "Epoch: 160\n",
      "training data error is 0.10059171915054321\n",
      "test data error is 0.09633027762174606\n",
      "Epoch: 180\n",
      "training data error is 0.09072978049516678\n",
      "test data error is 0.07339449226856232\n",
      "Epoch: 200\n",
      "training data error is 0.09664694219827652\n",
      "test data error is 0.059633027762174606\n",
      "Epoch: 220\n",
      "training data error is 0.09467455744743347\n",
      "test data error is 0.08715596050024033\n",
      "Epoch: 240\n",
      "training data error is 0.09467455744743347\n",
      "test data error is 0.07798165082931519\n",
      "Epoch: 260\n",
      "training data error is 0.09467455744743347\n",
      "test data error is 0.10091742873191833\n",
      "Epoch: 280\n",
      "training data error is 0.08481262624263763\n",
      "test data error is 0.08715596050024033\n",
      "Epoch: 300\n",
      "training data error is 0.09467455744743347\n",
      "test data error is 0.0917431190609932\n",
      "Epoch: 320\n",
      "training data error is 0.08284023404121399\n",
      "test data error is 0.06422018259763718\n",
      "Epoch: 340\n",
      "training data error is 0.08284023404121399\n",
      "test data error is 0.08256880939006805\n",
      "Epoch: 360\n",
      "training data error is 0.08481262624263763\n",
      "test data error is 0.07798165082931519\n",
      "Epoch: 380\n",
      "training data error is 0.08481262624263763\n",
      "test data error is 0.06880734115839005\n",
      "Epoch: 400\n",
      "training data error is 0.08481262624263763\n",
      "test data error is 0.09633027762174606\n",
      "Epoch: 420\n",
      "training data error is 0.08678501099348068\n",
      "test data error is 0.1651376187801361\n",
      "Epoch: 440\n",
      "training data error is 0.08678501099348068\n",
      "test data error is 0.08256880939006805\n",
      "Epoch: 460\n",
      "training data error is 0.08678501099348068\n",
      "test data error is 0.12844036519527435\n",
      "Epoch: 480\n",
      "training data error is 0.08875739574432373\n",
      "test data error is 0.11009174585342407\n",
      "Epoch: 500\n",
      "training data error is 0.08678501099348068\n",
      "test data error is 0.10091742873191833\n",
      "Epoch: 520\n",
      "training data error is 0.08875739574432373\n",
      "test data error is 0.16055046021938324\n",
      "Epoch: 540\n",
      "training data error is 0.08086784929037094\n",
      "test data error is 0.09633027762174606\n",
      "Epoch: 560\n",
      "training data error is 0.07692307978868484\n",
      "test data error is 0.13302752375602722\n",
      "Epoch: 580\n",
      "training data error is 0.0749506875872612\n",
      "test data error is 0.14678898453712463\n",
      "Epoch: 600\n",
      "training data error is 0.07297830283641815\n",
      "test data error is 0.11926605552434921\n",
      "Epoch: 620\n",
      "training data error is 0.06903353333473206\n",
      "test data error is 0.11926605552434921\n",
      "Epoch: 640\n",
      "training data error is 0.06903353333473206\n",
      "test data error is 0.13302752375602722\n",
      "Epoch: 660\n",
      "training data error is 0.06903353333473206\n",
      "test data error is 0.14678898453712463\n",
      "Epoch: 680\n",
      "training data error is 0.06903353333473206\n",
      "test data error is 0.10091742873191833\n",
      "Epoch: 700\n",
      "training data error is 0.05917159840464592\n",
      "test data error is 0.17889907956123352\n",
      "Epoch: 720\n",
      "training data error is 0.06508875638246536\n",
      "test data error is 0.10091742873191833\n",
      "Epoch: 740\n",
      "training data error is 0.05128205195069313\n",
      "test data error is 0.13302752375602722\n",
      "Epoch: 760\n",
      "training data error is 0.047337278723716736\n",
      "test data error is 0.13302752375602722\n",
      "Epoch: 780\n",
      "training data error is 0.04536489024758339\n",
      "test data error is 0.09633027762174606\n",
      "Epoch: 800\n",
      "training data error is 0.03550295904278755\n",
      "test data error is 0.13302752375602722\n",
      "Epoch: 820\n",
      "training data error is 0.049309663474559784\n",
      "test data error is 0.14220184087753296\n",
      "Epoch: 840\n",
      "training data error is 0.023668639361858368\n",
      "test data error is 0.11009174585342407\n",
      "Epoch: 860\n",
      "training data error is 0.02958579920232296\n",
      "test data error is 0.0917431190609932\n",
      "Epoch: 880\n",
      "training data error is 0.019723866134881973\n",
      "test data error is 0.1055045872926712\n",
      "Epoch: 900\n",
      "training data error is 0.025641025975346565\n",
      "test data error is 0.11467889696359634\n",
      "Epoch: 920\n",
      "training data error is 0.03155818581581116\n",
      "test data error is 0.08715596050024033\n",
      "Epoch: 940\n",
      "training data error is 0.019723866134881973\n",
      "test data error is 0.08715596050024033\n",
      "Epoch: 960\n",
      "training data error is 0.023668639361858368\n",
      "test data error is 0.08715596050024033\n",
      "Epoch: 980\n",
      "training data error is 0.01577909290790558\n",
      "test data error is 0.1055045872926712\n",
      "Epoch: 1000\n",
      "training data error is 0.0788954645395279\n",
      "test data error is 0.17431192100048065\n"
     ]
    }
   ],
   "source": [
    "learning_rate = 0.005\n",
    "loss_function = nn.NLLLoss()\n",
    "optimizer = torch.optim.SGD(model.parameters(), lr=learning_rate)\n",
    "\n",
    "all_train_error = []\n",
    "all_test_error = []\n",
    "\n",
    "num_epochs = 1000\n",
    "best_error = 1.0\n",
    "best_model_state = {}\n",
    "for epoch in range(num_epochs):\n",
    "    \n",
    "    train_one_epoch(train_loader,model,loss_function,optimizer)\n",
    "    validate_one_epoch(test_loader, model, loss_function)\n",
    "\n",
    "    with torch.no_grad():\n",
    "        # predicted_train = model(X_train.to(device)).to('cpu')\n",
    "        predicted_train = model(X_train)\n",
    "        train_error = error_rate(predicted_train, y_train)\n",
    "        all_train_error.append(train_error)\n",
    "\n",
    "    with torch.no_grad():\n",
    "        # predicted_test = model(X_test.to(device)).to('cpu')\n",
    "        predicted_test = model(X_test)\n",
    "        test_error = error_rate(predicted_test, y_test)\n",
    "        all_test_error.append(test_error)\n",
    "\n",
    "    if epoch % 20 == 19:\n",
    "        print(f'Epoch: {epoch + 1}')\n",
    "        print(f\"training data error is {train_error}\")\n",
    "        print(f\"test data error is {test_error}\")\n",
    "#         print(len(predicted_train))\n",
    "#         print(len(predicted_test))\n",
    "    if test_error < best_error:\n",
    "        best_model_state = deepcopy(model.state_dict())\n",
    "        best_error = test_error\n"
   ]
  },
  {
   "cell_type": "code",
   "execution_count": 31,
   "metadata": {},
   "outputs": [
    {
     "data": {
      "text/plain": [
       "RNN(\n",
       "  (rnn): RNN(6, 64, num_layers=6, batch_first=True)\n",
       "  (fc): Linear(in_features=64, out_features=2, bias=True)\n",
       "  (softmax): LogSoftmax(dim=1)\n",
       ")"
      ]
     },
     "execution_count": 31,
     "metadata": {},
     "output_type": "execute_result"
    }
   ],
   "source": [
    "best_model = RNN(input_size, hidden_size, num_layers, num_classes).to(device)\n",
    "best_model.load_state_dict(best_model_state)\n",
    "best_model.eval()"
   ]
  },
  {
   "cell_type": "code",
   "execution_count": 32,
   "metadata": {},
   "outputs": [
    {
     "name": "stdout",
     "output_type": "stream",
     "text": [
      "training data error is 0.11834319680929184\n",
      "test data error is 0.01834862306714058\n"
     ]
    }
   ],
   "source": [
    "with torch.no_grad():\n",
    "    predicted_train = best_model(X_train.to(device)).to('cpu')\n",
    "train_error = error_rate(predicted_train, y_train)\n",
    "print(f\"training data error is {train_error}\")\n",
    "\n",
    "with torch.no_grad():\n",
    "    predicted_test = best_model(X_test.to(device)).to('cpu')\n",
    "test_error = error_rate(predicted_test, y_test)\n",
    "print(f\"test data error is {test_error}\")"
   ]
  },
  {
   "cell_type": "code",
   "execution_count": 33,
   "metadata": {},
   "outputs": [
    {
     "data": {
      "image/png": "[encoded data removed]",
      "text/plain": [
       "<Figure size 640x480 with 1 Axes>"
      ]
     },
     "metadata": {},
     "output_type": "display_data"
    }
   ],
   "source": [
    "plt.plot(all_train_error, label = 'Train error')\n",
    "plt.plot(all_test_error, label = 'Test error')\n",
    "plt.legend()\n",
    "plt.show()"
   ]
  },
  {
   "cell_type": "code",
   "execution_count": 34,
   "metadata": {},
   "outputs": [
    {
     "name": "stdout",
     "output_type": "stream",
     "text": [
      "Model's state_dict:\n",
      "rnn.weight_ih_l0 \t torch.Size([64, 6])\n",
      "rnn.weight_hh_l0 \t torch.Size([64, 64])\n",
      "rnn.bias_ih_l0 \t torch.Size([64])\n",
      "rnn.bias_hh_l0 \t torch.Size([64])\n",
      "rnn.weight_ih_l1 \t torch.Size([64, 64])\n",
      "rnn.weight_hh_l1 \t torch.Size([64, 64])\n",
      "rnn.bias_ih_l1 \t torch.Size([64])\n",
      "rnn.bias_hh_l1 \t torch.Size([64])\n",
      "rnn.weight_ih_l2 \t torch.Size([64, 64])\n",
      "rnn.weight_hh_l2 \t torch.Size([64, 64])\n",
      "rnn.bias_ih_l2 \t torch.Size([64])\n",
      "rnn.bias_hh_l2 \t torch.Size([64])\n",
      "rnn.weight_ih_l3 \t torch.Size([64, 64])\n",
      "rnn.weight_hh_l3 \t torch.Size([64, 64])\n",
      "rnn.bias_ih_l3 \t torch.Size([64])\n",
      "rnn.bias_hh_l3 \t torch.Size([64])\n",
      "rnn.weight_ih_l4 \t torch.Size([64, 64])\n",
      "rnn.weight_hh_l4 \t torch.Size([64, 64])\n",
      "rnn.bias_ih_l4 \t torch.Size([64])\n",
      "rnn.bias_hh_l4 \t torch.Size([64])\n",
      "rnn.weight_ih_l5 \t torch.Size([64, 64])\n",
      "rnn.weight_hh_l5 \t torch.Size([64, 64])\n",
      "rnn.bias_ih_l5 \t torch.Size([64])\n",
      "rnn.bias_hh_l5 \t torch.Size([64])\n",
      "fc.weight \t torch.Size([2, 64])\n",
      "fc.bias \t torch.Size([2])\n"
     ]
    }
   ],
   "source": [
    "print(\"Model's state_dict:\")\n",
    "for param_tensor in best_model.state_dict():\n",
    "    print(param_tensor, \"\\t\", best_model.state_dict()[param_tensor].size())"
   ]
  },
  {
   "cell_type": "code",
   "execution_count": 35,
   "metadata": {},
   "outputs": [],
   "source": [
    "#save model\n",
    "# torch.save(best_model_state, './sw_rnn_classify_construction_savedmodel.pt')\n",
    "\n",
    "\n",
    "# model_scripted = torch.jit.script(model) # Export to TorchScript\n",
    "# model_scripted.save('model_scripted.pt') # Save"
   ]
  },
  {
   "cell_type": "code",
   "execution_count": 36,
   "metadata": {},
   "outputs": [],
   "source": [
    "#load model\n",
    "# model2 = RNN(input_size, hidden_size, num_layers, num_classes).to(device)\n",
    "# model2.load_state_dict(torch.load('./sw_rnn_classify_construction_savedmodel.pt'))\n",
    "# model2.eval()"
   ]
  },
  {
   "cell_type": "code",
   "execution_count": 37,
   "metadata": {},
   "outputs": [],
   "source": [
    "# predicted_test2 = model2(X_test)\n",
    "# test_error2 = error_rate(predicted_test2, y_test)\n",
    "# print(f\"Saved model produces test data error =  {test_error2}\")"
   ]
  },
  {
   "cell_type": "code",
   "execution_count": null,
   "metadata": {},
   "outputs": [],
   "source": []
  },
  {
   "cell_type": "code",
   "execution_count": null,
   "metadata": {},
   "outputs": [],
   "source": []
  }
 ],
 "metadata": {
  "kernelspec": {
   "display_name": "Python 3 (ipykernel)",
   "language": "python",
   "name": "python3"
  },
  "language_info": {
   "codemirror_mode": {
    "name": "ipython",
    "version": 3
   },
   "file_extension": ".py",
   "mimetype": "text/x-python",
   "name": "python",
   "nbconvert_exporter": "python",
   "pygments_lexer": "ipython3",
   "version": "3.11.5"
  }
 },
 "nbformat": 4,
 "nbformat_minor": 2
}
