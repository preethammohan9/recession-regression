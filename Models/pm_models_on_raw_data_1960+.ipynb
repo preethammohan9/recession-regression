{
 "cells": [
  {
   "cell_type": "code",
   "execution_count": 1,
   "id": "initial_id",
   "metadata": {
    "collapsed": true,
    "ExecuteTime": {
     "end_time": "2023-11-29T20:41:18.435455Z",
     "start_time": "2023-11-29T20:41:16.702822Z"
    }
   },
   "outputs": [],
   "source": [
    "import pandas as pd\n",
    "import numpy as np\n",
    "import scipy.optimize as optimize\n",
    "import os\n",
    "import sys\n",
    "import collections\n",
    "import itertools\n",
    "import matplotlib.pyplot as plt\n",
    "import torch\n",
    "from sklearn.model_selection import train_test_split\n",
    "from sklearn.linear_model import LinearRegression\n",
    "from sklearn.linear_model import LogisticRegression\n",
    "from sklearn.tree import DecisionTreeClassifier\n",
    "from sklearn.svm import SVC\n",
    "from scipy.spatial import distance\n",
    "from sklearn.neighbors import KNeighborsClassifier\n",
    "from sklearn.model_selection import GridSearchCV\n",
    "from sklearn.metrics import classification_report\n",
    "import sklearn.metrics\n",
    "from scipy.stats import mode\n",
    "from scipy.spatial.distance import squareform\n",
    "from fastdtw import fastdtw\n",
    "from sklearn.neighbors import KNeighborsClassifier\n",
    "from sklearn.metrics import accuracy_score\n",
    "from sklearn.naive_bayes import GaussianNB\n",
    "from sklearn.metrics import classification_report\n",
    "from sklearn.ensemble import RandomForestClassifier"
   ]
  },
  {
   "cell_type": "code",
   "execution_count": 2,
   "outputs": [
    {
     "data": {
      "text/plain": "     Unnamed: 0       Month  Fedfund_rate   GDP_pch  CPI_pc1  Loan_pch  \\\n0             0  1960-01-01          3.99  2.657590  1.24095      10.2   \n1             1  1960-02-01          3.97  1.675410  1.41379      10.1   \n2             2  1960-03-01          3.84  0.693230  1.51881       6.7   \n3             3  1960-04-01          3.92 -0.288950  1.93237       6.6   \n4             4  1960-05-01          3.85  0.086070  1.82507       3.3   \n..          ...         ...           ...       ...      ...       ...   \n760         760  2023-05-01          5.06  1.310517  4.12884       6.0   \n761         761  2023-06-01          5.08  1.690863  3.09200       3.0   \n762         762  2023-07-01          5.12  2.071210  3.29908       2.4   \n763         763  2023-08-01          5.33  2.071210  3.70750       6.3   \n764         764  2023-09-01          5.33  2.071210  3.68990       4.4   \n\n     House_ch  \n0      -197.0  \n1      -164.0  \n2      -511.0  \n3      -301.0  \n4      -227.0  \n..        ...  \n760      40.0  \n761    -143.0  \n762      80.0  \n763    -200.0  \n764    -117.0  \n\n[765 rows x 7 columns]",
      "text/html": "<div>\n<style scoped>\n    .dataframe tbody tr th:only-of-type {\n        vertical-align: middle;\n    }\n\n    .dataframe tbody tr th {\n        vertical-align: top;\n    }\n\n    .dataframe thead th {\n        text-align: right;\n    }\n</style>\n<table border=\"1\" class=\"dataframe\">\n  <thead>\n    <tr style=\"text-align: right;\">\n      <th></th>\n      <th>Unnamed: 0</th>\n      <th>Month</th>\n      <th>Fedfund_rate</th>\n      <th>GDP_pch</th>\n      <th>CPI_pc1</th>\n      <th>Loan_pch</th>\n      <th>House_ch</th>\n    </tr>\n  </thead>\n  <tbody>\n    <tr>\n      <th>0</th>\n      <td>0</td>\n      <td>1960-01-01</td>\n      <td>3.99</td>\n      <td>2.657590</td>\n      <td>1.24095</td>\n      <td>10.2</td>\n      <td>-197.0</td>\n    </tr>\n    <tr>\n      <th>1</th>\n      <td>1</td>\n      <td>1960-02-01</td>\n      <td>3.97</td>\n      <td>1.675410</td>\n      <td>1.41379</td>\n      <td>10.1</td>\n      <td>-164.0</td>\n    </tr>\n    <tr>\n      <th>2</th>\n      <td>2</td>\n      <td>1960-03-01</td>\n      <td>3.84</td>\n      <td>0.693230</td>\n      <td>1.51881</td>\n      <td>6.7</td>\n      <td>-511.0</td>\n    </tr>\n    <tr>\n      <th>3</th>\n      <td>3</td>\n      <td>1960-04-01</td>\n      <td>3.92</td>\n      <td>-0.288950</td>\n      <td>1.93237</td>\n      <td>6.6</td>\n      <td>-301.0</td>\n    </tr>\n    <tr>\n      <th>4</th>\n      <td>4</td>\n      <td>1960-05-01</td>\n      <td>3.85</td>\n      <td>0.086070</td>\n      <td>1.82507</td>\n      <td>3.3</td>\n      <td>-227.0</td>\n    </tr>\n    <tr>\n      <th>...</th>\n      <td>...</td>\n      <td>...</td>\n      <td>...</td>\n      <td>...</td>\n      <td>...</td>\n      <td>...</td>\n      <td>...</td>\n    </tr>\n    <tr>\n      <th>760</th>\n      <td>760</td>\n      <td>2023-05-01</td>\n      <td>5.06</td>\n      <td>1.310517</td>\n      <td>4.12884</td>\n      <td>6.0</td>\n      <td>40.0</td>\n    </tr>\n    <tr>\n      <th>761</th>\n      <td>761</td>\n      <td>2023-06-01</td>\n      <td>5.08</td>\n      <td>1.690863</td>\n      <td>3.09200</td>\n      <td>3.0</td>\n      <td>-143.0</td>\n    </tr>\n    <tr>\n      <th>762</th>\n      <td>762</td>\n      <td>2023-07-01</td>\n      <td>5.12</td>\n      <td>2.071210</td>\n      <td>3.29908</td>\n      <td>2.4</td>\n      <td>80.0</td>\n    </tr>\n    <tr>\n      <th>763</th>\n      <td>763</td>\n      <td>2023-08-01</td>\n      <td>5.33</td>\n      <td>2.071210</td>\n      <td>3.70750</td>\n      <td>6.3</td>\n      <td>-200.0</td>\n    </tr>\n    <tr>\n      <th>764</th>\n      <td>764</td>\n      <td>2023-09-01</td>\n      <td>5.33</td>\n      <td>2.071210</td>\n      <td>3.68990</td>\n      <td>4.4</td>\n      <td>-117.0</td>\n    </tr>\n  </tbody>\n</table>\n<p>765 rows × 7 columns</p>\n</div>"
     },
     "execution_count": 2,
     "metadata": {},
     "output_type": "execute_result"
    }
   ],
   "source": [
    "input_data = pd.read_csv('../Data/Input_features_1960.csv')\n",
    "input_data"
   ],
   "metadata": {
    "collapsed": false,
    "ExecuteTime": {
     "end_time": "2023-11-29T20:41:18.447978Z",
     "start_time": "2023-11-29T20:41:18.435946Z"
    }
   },
   "id": "17057b3114752868"
  },
  {
   "cell_type": "code",
   "execution_count": 3,
   "outputs": [
    {
     "data": {
      "text/plain": "     Unnamed: 0       Month  Total_private_pch  Construction_pch\n0             0  1960-01-01            0.35148          -1.20994\n1             1  1960-02-01            0.47860           1.05925\n2             2  1960-03-01           -0.55860          -5.63380\n3             3  1960-04-01            0.76205           4.26935\n4             4  1960-05-01           -0.50995           0.56591\n..          ...         ...                ...               ...\n760         760  2023-05-01            0.19161           0.31642\n761         761  2023-06-01            0.06450           0.36588\n762         762  2023-07-01            0.10867           0.15085\n763         763  2023-08-01            0.08535           0.37655\n764         764  2023-09-01            0.18401           0.16256\n\n[765 rows x 4 columns]",
      "text/html": "<div>\n<style scoped>\n    .dataframe tbody tr th:only-of-type {\n        vertical-align: middle;\n    }\n\n    .dataframe tbody tr th {\n        vertical-align: top;\n    }\n\n    .dataframe thead th {\n        text-align: right;\n    }\n</style>\n<table border=\"1\" class=\"dataframe\">\n  <thead>\n    <tr style=\"text-align: right;\">\n      <th></th>\n      <th>Unnamed: 0</th>\n      <th>Month</th>\n      <th>Total_private_pch</th>\n      <th>Construction_pch</th>\n    </tr>\n  </thead>\n  <tbody>\n    <tr>\n      <th>0</th>\n      <td>0</td>\n      <td>1960-01-01</td>\n      <td>0.35148</td>\n      <td>-1.20994</td>\n    </tr>\n    <tr>\n      <th>1</th>\n      <td>1</td>\n      <td>1960-02-01</td>\n      <td>0.47860</td>\n      <td>1.05925</td>\n    </tr>\n    <tr>\n      <th>2</th>\n      <td>2</td>\n      <td>1960-03-01</td>\n      <td>-0.55860</td>\n      <td>-5.63380</td>\n    </tr>\n    <tr>\n      <th>3</th>\n      <td>3</td>\n      <td>1960-04-01</td>\n      <td>0.76205</td>\n      <td>4.26935</td>\n    </tr>\n    <tr>\n      <th>4</th>\n      <td>4</td>\n      <td>1960-05-01</td>\n      <td>-0.50995</td>\n      <td>0.56591</td>\n    </tr>\n    <tr>\n      <th>...</th>\n      <td>...</td>\n      <td>...</td>\n      <td>...</td>\n      <td>...</td>\n    </tr>\n    <tr>\n      <th>760</th>\n      <td>760</td>\n      <td>2023-05-01</td>\n      <td>0.19161</td>\n      <td>0.31642</td>\n    </tr>\n    <tr>\n      <th>761</th>\n      <td>761</td>\n      <td>2023-06-01</td>\n      <td>0.06450</td>\n      <td>0.36588</td>\n    </tr>\n    <tr>\n      <th>762</th>\n      <td>762</td>\n      <td>2023-07-01</td>\n      <td>0.10867</td>\n      <td>0.15085</td>\n    </tr>\n    <tr>\n      <th>763</th>\n      <td>763</td>\n      <td>2023-08-01</td>\n      <td>0.08535</td>\n      <td>0.37655</td>\n    </tr>\n    <tr>\n      <th>764</th>\n      <td>764</td>\n      <td>2023-09-01</td>\n      <td>0.18401</td>\n      <td>0.16256</td>\n    </tr>\n  </tbody>\n</table>\n<p>765 rows × 4 columns</p>\n</div>"
     },
     "execution_count": 3,
     "metadata": {},
     "output_type": "execute_result"
    }
   ],
   "source": [
    "output_data = pd.read_csv('../Data/Employment_pch_1960.csv')\n",
    "output_data = output_data[:-1]\n",
    "output_data"
   ],
   "metadata": {
    "collapsed": false,
    "ExecuteTime": {
     "end_time": "2023-11-29T20:41:18.451804Z",
     "start_time": "2023-11-29T20:41:18.445916Z"
    }
   },
   "id": "de9a86d3f485c16a"
  },
  {
   "cell_type": "markdown",
   "source": [
    "# Linear Regression"
   ],
   "metadata": {
    "collapsed": false
   },
   "id": "8fe69e8188f27259"
  },
  {
   "cell_type": "code",
   "execution_count": 4,
   "outputs": [
    {
     "data": {
      "text/plain": "-0.09581145742076091"
     },
     "execution_count": 4,
     "metadata": {},
     "output_type": "execute_result"
    }
   ],
   "source": [
    "X = input_data.iloc[:,2:]\n",
    "y = output_data.iloc[:,2]\n",
    "X_train, X_test, y_train, y_test = train_test_split(X, y, test_size=0.3, random_state=0)\n",
    "model = LinearRegression()\n",
    "model.fit(X_train, y_train)\n",
    "pred = model.predict(X_test)\n",
    "model.score(X_test, y_test)"
   ],
   "metadata": {
    "collapsed": false,
    "ExecuteTime": {
     "end_time": "2023-11-29T20:41:18.465719Z",
     "start_time": "2023-11-29T20:41:18.453573Z"
    }
   },
   "id": "375592297dffd28"
  },
  {
   "cell_type": "code",
   "execution_count": 5,
   "outputs": [
    {
     "data": {
      "text/plain": "0.8"
     },
     "execution_count": 5,
     "metadata": {},
     "output_type": "execute_result"
    }
   ],
   "source": [
    "pred_sign = np.sign(pred)\n",
    "y_test_sign = np.sign(y_test)\n",
    "classification_accuracy = 1 - 0.5 * np.sum(np.abs(pred_sign - y_test_sign)) / np.size(y_test_sign)\n",
    "classification_accuracy"
   ],
   "metadata": {
    "collapsed": false,
    "ExecuteTime": {
     "end_time": "2023-11-29T20:41:18.495187Z",
     "start_time": "2023-11-29T20:41:18.459804Z"
    }
   },
   "id": "6d93238f084cf5e5"
  },
  {
   "cell_type": "code",
   "execution_count": 6,
   "outputs": [
    {
     "data": {
      "text/plain": "0.7588785046728972"
     },
     "execution_count": 6,
     "metadata": {},
     "output_type": "execute_result"
    }
   ],
   "source": [
    "pred_train = model.predict(X_train)\n",
    "pred_train_sign = np.sign(pred_train)\n",
    "y_train_sign = np.sign(y_train)\n",
    "train_accuracy = 1 - 0.5*np.sum(np.abs(pred_train_sign - y_train_sign))/np.size(y_train_sign)\n",
    "train_accuracy # train accuracy for classification via linear regression"
   ],
   "metadata": {
    "collapsed": false,
    "ExecuteTime": {
     "end_time": "2023-11-29T20:41:18.495965Z",
     "start_time": "2023-11-29T20:41:18.463947Z"
    }
   },
   "id": "59098527dd2aa239"
  },
  {
   "cell_type": "markdown",
   "source": [
    "# Logistic Regression"
   ],
   "metadata": {
    "collapsed": false
   },
   "id": "165b29752d82ff45"
  },
  {
   "cell_type": "code",
   "execution_count": 7,
   "outputs": [
    {
     "data": {
      "text/plain": "0.8391304347826087"
     },
     "execution_count": 7,
     "metadata": {},
     "output_type": "execute_result"
    }
   ],
   "source": [
    "X = input_data.iloc[:,2:]\n",
    "y = output_data.iloc[:,2]\n",
    "y = np.sign(y)\n",
    "X_train, X_test, y_train, y_test = train_test_split(X, y, test_size=0.3, random_state=0)\n",
    "model = LogisticRegression()\n",
    "model.fit(X_train, y_train)\n",
    "model.score(X_test, y_test)  # test accuracy (boolean labels)"
   ],
   "metadata": {
    "collapsed": false,
    "ExecuteTime": {
     "end_time": "2023-11-29T20:41:18.512679Z",
     "start_time": "2023-11-29T20:41:18.468536Z"
    }
   },
   "id": "5a1c6bd7fa8a28a7"
  },
  {
   "cell_type": "markdown",
   "source": [
    "# Decision Tree Classifier"
   ],
   "metadata": {
    "collapsed": false
   },
   "id": "f1de06e271395f79"
  },
  {
   "cell_type": "code",
   "execution_count": 8,
   "outputs": [
    {
     "data": {
      "text/plain": "0.8130434782608695"
     },
     "execution_count": 8,
     "metadata": {},
     "output_type": "execute_result"
    }
   ],
   "source": [
    "X = input_data.iloc[:,2:]\n",
    "y = output_data.iloc[:,2]\n",
    "y = np.sign(y)\n",
    "X_train, X_test, y_train, y_test = train_test_split(X, y, test_size=0.3, random_state=0)\n",
    "model = DecisionTreeClassifier()\n",
    "model.fit(X_train, y_train)\n",
    "model.score(X_test, y_test)  # test accuracy (boolean labels)"
   ],
   "metadata": {
    "collapsed": false,
    "ExecuteTime": {
     "end_time": "2023-11-29T20:41:18.513051Z",
     "start_time": "2023-11-29T20:41:18.478037Z"
    }
   },
   "id": "3125f86959681242"
  },
  {
   "cell_type": "markdown",
   "source": [
    "# SVM Classifier"
   ],
   "metadata": {
    "collapsed": false
   },
   "id": "cbf89a15753b2bce"
  },
  {
   "cell_type": "code",
   "execution_count": 9,
   "outputs": [
    {
     "data": {
      "text/plain": "0.782608695652174"
     },
     "execution_count": 9,
     "metadata": {},
     "output_type": "execute_result"
    }
   ],
   "source": [
    "X = input_data.iloc[:,2:]\n",
    "y = output_data.iloc[:,2]\n",
    "y = np.sign(y)\n",
    "X_train, X_test, y_train, y_test = train_test_split(X, y, test_size=0.3, random_state=0)\n",
    "model = SVC()\n",
    "model.fit(X_train, y_train)\n",
    "model.score(X_test, y_test)  # test accuracy (boolean labels)"
   ],
   "metadata": {
    "collapsed": false,
    "ExecuteTime": {
     "end_time": "2023-11-29T20:41:18.553271Z",
     "start_time": "2023-11-29T20:41:18.484597Z"
    }
   },
   "id": "b814b651af2e5018"
  },
  {
   "cell_type": "markdown",
   "source": [
    "# KNN (with dynamic time warping)"
   ],
   "metadata": {
    "collapsed": false
   },
   "id": "f840dd93eec90bc8"
  },
  {
   "cell_type": "code",
   "execution_count": 10,
   "outputs": [
    {
     "name": "stdout",
     "output_type": "stream",
     "text": [
      "Accuracy: 0.7565217391304347\n"
     ]
    }
   ],
   "source": [
    "from fastdtw import fastdtw\n",
    "from sklearn.neighbors import KNeighborsClassifier\n",
    "from sklearn.metrics import accuracy_score\n",
    "\n",
    "def calculate_dtw(series1, series2):\n",
    "    distance_dtw, _ = fastdtw(series1, series2)\n",
    "    return distance_dtw\n",
    "\n",
    "X_train, X_test, y_train, y_test = train_test_split(X, y, test_size=0.3, random_state=0)\n",
    "\n",
    "knn_model = KNeighborsClassifier(n_neighbors=4, metric=calculate_dtw)\n",
    "knn_model.fit(X_train, y_train)\n",
    "y_pred = knn_model.predict(X_test)\n",
    "accuracy = accuracy_score(y_test, y_pred)\n",
    "print(f'Accuracy: {accuracy}')"
   ],
   "metadata": {
    "collapsed": false,
    "ExecuteTime": {
     "end_time": "2023-11-29T20:41:20.868033Z",
     "start_time": "2023-11-29T20:41:18.498520Z"
    }
   },
   "id": "c37fb25f08a61877"
  },
  {
   "cell_type": "markdown",
   "source": [
    "# Naive Bayes"
   ],
   "metadata": {
    "collapsed": false
   },
   "id": "6c8b58bfc76fc13e"
  },
  {
   "cell_type": "code",
   "execution_count": 11,
   "outputs": [
    {
     "name": "stdout",
     "output_type": "stream",
     "text": [
      "Accuracy: 0.7782608695652173\n",
      "Classification Report:\n",
      "              precision    recall  f1-score   support\n",
      "\n",
      "           0       0.43      0.33      0.37        46\n",
      "           1       0.84      0.89      0.87       184\n",
      "\n",
      "    accuracy                           0.78       230\n",
      "   macro avg       0.63      0.61      0.62       230\n",
      "weighted avg       0.76      0.78      0.77       230\n"
     ]
    }
   ],
   "source": [
    "from sklearn.naive_bayes import GaussianNB\n",
    "from sklearn.metrics import classification_report\n",
    "\n",
    "y_labels = (y > 0).astype(int)\n",
    "\n",
    "X_train, X_test, y_train, y_test = train_test_split(X, y_labels, test_size=0.3, random_state=0)\n",
    "nb_classifier = GaussianNB()\n",
    "nb_classifier.fit(X_train, y_train)\n",
    "y_pred = nb_classifier.predict(X_test)\n",
    "accuracy = accuracy_score(y_test, y_pred)\n",
    "print(f'Accuracy: {accuracy}')\n",
    "\n",
    "# Display classification report\n",
    "print(\"Classification Report:\")\n",
    "print(classification_report(y_test, y_pred))"
   ],
   "metadata": {
    "collapsed": false,
    "ExecuteTime": {
     "end_time": "2023-11-29T20:41:20.877049Z",
     "start_time": "2023-11-29T20:41:20.868627Z"
    }
   },
   "id": "309533f14ead1793"
  },
  {
   "cell_type": "markdown",
   "source": [
    "# Random Forest"
   ],
   "metadata": {
    "collapsed": false
   },
   "id": "f19b1caec92d46e2"
  },
  {
   "cell_type": "code",
   "execution_count": 12,
   "outputs": [
    {
     "name": "stdout",
     "output_type": "stream",
     "text": [
      "Accuracy: 0.8652173913043478\n",
      "Classification Report:\n",
      "              precision    recall  f1-score   support\n",
      "\n",
      "        -1.0       0.76      0.48      0.59        46\n",
      "         1.0       0.88      0.96      0.92       184\n",
      "\n",
      "    accuracy                           0.87       230\n",
      "   macro avg       0.82      0.72      0.75       230\n",
      "weighted avg       0.86      0.87      0.85       230\n"
     ]
    }
   ],
   "source": [
    "from sklearn.ensemble import RandomForestClassifier\n",
    "\n",
    "y_sign = np.sign(y)\n",
    "\n",
    "X_train, X_test, y_train, y_test = train_test_split(X, y_sign, test_size=0.3, random_state=0)\n",
    "rf_model = RandomForestClassifier(n_estimators=100, random_state=3)\n",
    "rf_model.fit(X_train, y_train)\n",
    "y_pred = rf_model.predict(X_test)\n",
    "accuracy = accuracy_score(y_test, y_pred)\n",
    "print(f'Accuracy: {accuracy}')\n",
    "\n",
    "# Display classification report\n",
    "print(\"Classification Report:\")\n",
    "print(classification_report(y_test, y_pred))"
   ],
   "metadata": {
    "collapsed": false,
    "ExecuteTime": {
     "end_time": "2023-11-29T20:41:20.971201Z",
     "start_time": "2023-11-29T20:41:20.877495Z"
    }
   },
   "id": "c71eb9800542c01a"
  },
  {
   "cell_type": "markdown",
   "source": [
    "# Baseline"
   ],
   "metadata": {
    "collapsed": false
   },
   "id": "272b63091ff41aa0"
  },
  {
   "cell_type": "code",
   "execution_count": 13,
   "outputs": [
    {
     "name": "stdout",
     "output_type": "stream",
     "text": [
      "Accuracy: 0.8913043478260869\n"
     ]
    }
   ],
   "source": [
    "X = input_data.iloc[:,2:]\n",
    "y = output_data.iloc[:,2]\n",
    "\n",
    "y_labels = (y > 0).astype(int)\n",
    "\n",
    "# predict next month's class to be the same as this month's class\n",
    "y_pred = y_labels.shift(1).dropna()\n",
    "\n",
    "# split the data into training and testing sets along with corresp. indices\n",
    "X_train, X_test, y_train, y_test, indices_train, indices_test = train_test_split(X, y_labels, np.arange(len(y_labels)), test_size=0.3, random_state=0)\n",
    "\n",
    "# check accuracy of baseline\n",
    "accuracy = np.sum(y_pred[indices_test] == y_test) / np.size(y_test)\n",
    "print(f'Accuracy: {accuracy}')"
   ],
   "metadata": {
    "collapsed": false,
    "ExecuteTime": {
     "end_time": "2023-11-29T20:41:20.975191Z",
     "start_time": "2023-11-29T20:41:20.972178Z"
    }
   },
   "id": "7cdf7a373e6968ef"
  }
 ],
 "metadata": {
  "kernelspec": {
   "display_name": "Python 3",
   "language": "python",
   "name": "python3"
  },
  "language_info": {
   "codemirror_mode": {
    "name": "ipython",
    "version": 2
   },
   "file_extension": ".py",
   "mimetype": "text/x-python",
   "name": "python",
   "nbconvert_exporter": "python",
   "pygments_lexer": "ipython2",
   "version": "2.7.6"
  }
 },
 "nbformat": 4,
 "nbformat_minor": 5
}
