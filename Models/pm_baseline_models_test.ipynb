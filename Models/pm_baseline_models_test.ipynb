{
 "cells": [
  {
   "cell_type": "code",
   "execution_count": 1,
   "id": "cc38746aad506c13",
   "metadata": {
    "ExecuteTime": {
     "end_time": "2023-12-02T03:37:18.712033Z",
     "start_time": "2023-12-02T03:37:18.096981Z"
    }
   },
   "outputs": [],
   "source": [
    "import pandas as pd\n",
    "import numpy as np\n",
    "from sklearn.model_selection import train_test_split\n",
    "from sklearn.linear_model import LinearRegression"
   ]
  },
  {
   "cell_type": "markdown",
   "id": "8519ae92c47d57a9",
   "metadata": {},
   "source": [
    "# Loading 1960+ data"
   ]
  },
  {
   "cell_type": "code",
   "execution_count": 13,
   "id": "41113a3028eb643c",
   "metadata": {
    "ExecuteTime": {
     "end_time": "2023-12-02T03:37:18.722857Z",
     "start_time": "2023-12-02T03:37:18.713461Z"
    }
   },
   "outputs": [
    {
     "data": {
      "text/html": [
       "<div>\n",
       "<style scoped>\n",
       "    .dataframe tbody tr th:only-of-type {\n",
       "        vertical-align: middle;\n",
       "    }\n",
       "\n",
       "    .dataframe tbody tr th {\n",
       "        vertical-align: top;\n",
       "    }\n",
       "\n",
       "    .dataframe thead th {\n",
       "        text-align: right;\n",
       "    }\n",
       "</style>\n",
       "<table border=\"1\" class=\"dataframe\">\n",
       "  <thead>\n",
       "    <tr style=\"text-align: right;\">\n",
       "      <th></th>\n",
       "      <th>Fedfund_rate</th>\n",
       "      <th>GDP_pch</th>\n",
       "      <th>CPI_pc1</th>\n",
       "      <th>Loan_pch</th>\n",
       "      <th>House_ch</th>\n",
       "    </tr>\n",
       "  </thead>\n",
       "  <tbody>\n",
       "    <tr>\n",
       "      <th>0</th>\n",
       "      <td>3.99</td>\n",
       "      <td>2.657590</td>\n",
       "      <td>1.24095</td>\n",
       "      <td>10.2</td>\n",
       "      <td>-197.0</td>\n",
       "    </tr>\n",
       "    <tr>\n",
       "      <th>1</th>\n",
       "      <td>3.97</td>\n",
       "      <td>1.675410</td>\n",
       "      <td>1.41379</td>\n",
       "      <td>10.1</td>\n",
       "      <td>-164.0</td>\n",
       "    </tr>\n",
       "    <tr>\n",
       "      <th>2</th>\n",
       "      <td>3.84</td>\n",
       "      <td>0.693230</td>\n",
       "      <td>1.51881</td>\n",
       "      <td>6.7</td>\n",
       "      <td>-511.0</td>\n",
       "    </tr>\n",
       "    <tr>\n",
       "      <th>3</th>\n",
       "      <td>3.92</td>\n",
       "      <td>-0.288950</td>\n",
       "      <td>1.93237</td>\n",
       "      <td>6.6</td>\n",
       "      <td>-301.0</td>\n",
       "    </tr>\n",
       "    <tr>\n",
       "      <th>4</th>\n",
       "      <td>3.85</td>\n",
       "      <td>0.086070</td>\n",
       "      <td>1.82507</td>\n",
       "      <td>3.3</td>\n",
       "      <td>-227.0</td>\n",
       "    </tr>\n",
       "    <tr>\n",
       "      <th>...</th>\n",
       "      <td>...</td>\n",
       "      <td>...</td>\n",
       "      <td>...</td>\n",
       "      <td>...</td>\n",
       "      <td>...</td>\n",
       "    </tr>\n",
       "    <tr>\n",
       "      <th>756</th>\n",
       "      <td>5.06</td>\n",
       "      <td>1.310517</td>\n",
       "      <td>4.12884</td>\n",
       "      <td>6.0</td>\n",
       "      <td>40.0</td>\n",
       "    </tr>\n",
       "    <tr>\n",
       "      <th>757</th>\n",
       "      <td>5.08</td>\n",
       "      <td>1.690863</td>\n",
       "      <td>3.09200</td>\n",
       "      <td>3.0</td>\n",
       "      <td>-143.0</td>\n",
       "    </tr>\n",
       "    <tr>\n",
       "      <th>758</th>\n",
       "      <td>5.12</td>\n",
       "      <td>2.071210</td>\n",
       "      <td>3.29908</td>\n",
       "      <td>2.4</td>\n",
       "      <td>80.0</td>\n",
       "    </tr>\n",
       "    <tr>\n",
       "      <th>759</th>\n",
       "      <td>5.33</td>\n",
       "      <td>2.071210</td>\n",
       "      <td>3.70750</td>\n",
       "      <td>6.3</td>\n",
       "      <td>-200.0</td>\n",
       "    </tr>\n",
       "    <tr>\n",
       "      <th>760</th>\n",
       "      <td>5.33</td>\n",
       "      <td>2.071210</td>\n",
       "      <td>3.68990</td>\n",
       "      <td>4.4</td>\n",
       "      <td>-117.0</td>\n",
       "    </tr>\n",
       "  </tbody>\n",
       "</table>\n",
       "<p>761 rows × 5 columns</p>\n",
       "</div>"
      ],
      "text/plain": [
       "     Fedfund_rate   GDP_pch  CPI_pc1  Loan_pch  House_ch\n",
       "0            3.99  2.657590  1.24095      10.2    -197.0\n",
       "1            3.97  1.675410  1.41379      10.1    -164.0\n",
       "2            3.84  0.693230  1.51881       6.7    -511.0\n",
       "3            3.92 -0.288950  1.93237       6.6    -301.0\n",
       "4            3.85  0.086070  1.82507       3.3    -227.0\n",
       "..            ...       ...      ...       ...       ...\n",
       "756          5.06  1.310517  4.12884       6.0      40.0\n",
       "757          5.08  1.690863  3.09200       3.0    -143.0\n",
       "758          5.12  2.071210  3.29908       2.4      80.0\n",
       "759          5.33  2.071210  3.70750       6.3    -200.0\n",
       "760          5.33  2.071210  3.68990       4.4    -117.0\n",
       "\n",
       "[761 rows x 5 columns]"
      ]
     },
     "execution_count": 13,
     "metadata": {},
     "output_type": "execute_result"
    }
   ],
   "source": [
    "input_data = pd.read_csv('../Data/Input_features_1960_no_covid.csv')\n",
    "# input_data = input_data.drop([722,723,724,725]) # removing COVID-19 affected months (2020-03 to 2020-06)\n",
    "# input_data = input_data.reset_index(drop=True)\n",
    "# input_data.iloc[:, 2:]\n",
    "input_data = input_data.iloc[:,3:]\n",
    "input_data"
   ]
  },
  {
   "cell_type": "code",
   "execution_count": 14,
   "id": "dfd04aac42ce9fd1",
   "metadata": {
    "ExecuteTime": {
     "end_time": "2023-12-02T03:37:18.728103Z",
     "start_time": "2023-12-02T03:37:18.722177Z"
    }
   },
   "outputs": [
    {
     "data": {
      "text/html": [
       "<div>\n",
       "<style scoped>\n",
       "    .dataframe tbody tr th:only-of-type {\n",
       "        vertical-align: middle;\n",
       "    }\n",
       "\n",
       "    .dataframe tbody tr th {\n",
       "        vertical-align: top;\n",
       "    }\n",
       "\n",
       "    .dataframe thead th {\n",
       "        text-align: right;\n",
       "    }\n",
       "</style>\n",
       "<table border=\"1\" class=\"dataframe\">\n",
       "  <thead>\n",
       "    <tr style=\"text-align: right;\">\n",
       "      <th></th>\n",
       "      <th>Unnamed: 0.1</th>\n",
       "      <th>Unnamed: 0</th>\n",
       "      <th>Month</th>\n",
       "      <th>Total_private_pch</th>\n",
       "      <th>Construction_pch</th>\n",
       "    </tr>\n",
       "  </thead>\n",
       "  <tbody>\n",
       "    <tr>\n",
       "      <th>0</th>\n",
       "      <td>0</td>\n",
       "      <td>0</td>\n",
       "      <td>1960-01-01</td>\n",
       "      <td>0.35148</td>\n",
       "      <td>-1.20994</td>\n",
       "    </tr>\n",
       "    <tr>\n",
       "      <th>1</th>\n",
       "      <td>1</td>\n",
       "      <td>1</td>\n",
       "      <td>1960-02-01</td>\n",
       "      <td>0.47860</td>\n",
       "      <td>1.05925</td>\n",
       "    </tr>\n",
       "    <tr>\n",
       "      <th>2</th>\n",
       "      <td>2</td>\n",
       "      <td>2</td>\n",
       "      <td>1960-03-01</td>\n",
       "      <td>-0.55860</td>\n",
       "      <td>-5.63380</td>\n",
       "    </tr>\n",
       "    <tr>\n",
       "      <th>3</th>\n",
       "      <td>3</td>\n",
       "      <td>3</td>\n",
       "      <td>1960-04-01</td>\n",
       "      <td>0.76205</td>\n",
       "      <td>4.26935</td>\n",
       "    </tr>\n",
       "    <tr>\n",
       "      <th>4</th>\n",
       "      <td>4</td>\n",
       "      <td>4</td>\n",
       "      <td>1960-05-01</td>\n",
       "      <td>-0.50995</td>\n",
       "      <td>0.56591</td>\n",
       "    </tr>\n",
       "    <tr>\n",
       "      <th>...</th>\n",
       "      <td>...</td>\n",
       "      <td>...</td>\n",
       "      <td>...</td>\n",
       "      <td>...</td>\n",
       "      <td>...</td>\n",
       "    </tr>\n",
       "    <tr>\n",
       "      <th>757</th>\n",
       "      <td>761</td>\n",
       "      <td>761</td>\n",
       "      <td>2023-06-01</td>\n",
       "      <td>0.06450</td>\n",
       "      <td>0.36588</td>\n",
       "    </tr>\n",
       "    <tr>\n",
       "      <th>758</th>\n",
       "      <td>762</td>\n",
       "      <td>762</td>\n",
       "      <td>2023-07-01</td>\n",
       "      <td>0.10867</td>\n",
       "      <td>0.15085</td>\n",
       "    </tr>\n",
       "    <tr>\n",
       "      <th>759</th>\n",
       "      <td>763</td>\n",
       "      <td>763</td>\n",
       "      <td>2023-08-01</td>\n",
       "      <td>0.08535</td>\n",
       "      <td>0.37655</td>\n",
       "    </tr>\n",
       "    <tr>\n",
       "      <th>760</th>\n",
       "      <td>764</td>\n",
       "      <td>764</td>\n",
       "      <td>2023-09-01</td>\n",
       "      <td>0.18401</td>\n",
       "      <td>0.16256</td>\n",
       "    </tr>\n",
       "    <tr>\n",
       "      <th>761</th>\n",
       "      <td>765</td>\n",
       "      <td>765</td>\n",
       "      <td>2023-10-01</td>\n",
       "      <td>0.07392</td>\n",
       "      <td>0.28714</td>\n",
       "    </tr>\n",
       "  </tbody>\n",
       "</table>\n",
       "<p>762 rows × 5 columns</p>\n",
       "</div>"
      ],
      "text/plain": [
       "     Unnamed: 0.1  Unnamed: 0       Month  Total_private_pch  Construction_pch\n",
       "0               0           0  1960-01-01            0.35148          -1.20994\n",
       "1               1           1  1960-02-01            0.47860           1.05925\n",
       "2               2           2  1960-03-01           -0.55860          -5.63380\n",
       "3               3           3  1960-04-01            0.76205           4.26935\n",
       "4               4           4  1960-05-01           -0.50995           0.56591\n",
       "..            ...         ...         ...                ...               ...\n",
       "757           761         761  2023-06-01            0.06450           0.36588\n",
       "758           762         762  2023-07-01            0.10867           0.15085\n",
       "759           763         763  2023-08-01            0.08535           0.37655\n",
       "760           764         764  2023-09-01            0.18401           0.16256\n",
       "761           765         765  2023-10-01            0.07392           0.28714\n",
       "\n",
       "[762 rows x 5 columns]"
      ]
     },
     "execution_count": 14,
     "metadata": {},
     "output_type": "execute_result"
    }
   ],
   "source": [
    "output_data = pd.read_csv('../Data/Employment_pch_1960_no_covid.csv')\n",
    "output_data\n",
    "# output_data = output_data[:-1] # ensuring input and output start and end at the same timepoints\n",
    "# output_data = output_data.drop([722,723,724,725]) # removing COVID-19 affected months (2020-03 to 2020-06)\n",
    "# output_data = output_data.reset_index(drop=True)\n",
    "# output_data.iloc[:, 2]"
   ]
  },
  {
   "cell_type": "markdown",
   "id": "60ad6be958432617",
   "metadata": {},
   "source": [
    "# Naive Forecasting (using 1960+ data)"
   ]
  },
  {
   "cell_type": "code",
   "execution_count": null,
   "id": "3c1a513d2d448195",
   "metadata": {
    "ExecuteTime": {
     "end_time": "2023-12-02T03:37:18.744768Z",
     "start_time": "2023-12-02T03:37:18.729763Z"
    }
   },
   "outputs": [],
   "source": [
    "X = input_data.iloc[:, 2:]\n",
    "y = output_data.iloc[:, 2]\n",
    "\n",
    "y_labels = (y > 0).astype(int)\n",
    "\n",
    "# predict next month's class to be the same as this month's class\n",
    "y_pred = y_labels.shift(1).fillna(0)\n",
    "\n",
    "# split the data into training and testing sets along with corresp. indices\n",
    "X_train, X_test, y_train, y_test, indices_train, indices_test = train_test_split(X, y_labels, np.arange(len(y_labels)),\n",
    "                                                                                 test_size=0.3, random_state=8,\n",
    "                                                                                 shuffle=True)\n",
    "\n",
    "# check accuracy of baseline for classification\n",
    "accuracy = np.sum(y_pred[indices_test] == y_test) / np.size(y_test)\n",
    "print(f'Classification Accuracy - Naive Forecasting (Baseline, 1960+): {accuracy}')"
   ]
  },
  {
   "cell_type": "markdown",
   "id": "f8a6b832508efdc9",
   "metadata": {},
   "source": [
    "# Linear Regression (using 1960+ data)"
   ]
  },
  {
   "cell_type": "code",
   "execution_count": null,
   "id": "9afc8975c0f676d5",
   "metadata": {
    "ExecuteTime": {
     "end_time": "2023-12-02T03:37:18.773311Z",
     "start_time": "2023-12-02T03:37:18.738413Z"
    }
   },
   "outputs": [],
   "source": [
    "X = input_data.iloc[:,2:]\n",
    "y = output_data.iloc[:,2]\n",
    "X_train, X_test, y_train, y_test = train_test_split(X, y, test_size=0.3, random_state=8, shuffle=True)\n",
    "model = LinearRegression()\n",
    "model.fit(X_train, y_train)\n",
    "pred = model.predict(X_test)\n",
    "r2_score = model.score(X_test, y_test)\n",
    "print(f'R2 Score - Linear Regression (Baseline, 1960+): {r2_score}')"
   ]
  },
  {
   "cell_type": "markdown",
   "id": "3a3390a20a7619ce",
   "metadata": {},
   "source": [
    "# Loading 2006+ data"
   ]
  },
  {
   "cell_type": "code",
   "execution_count": null,
   "id": "bc4144f6033d27e8",
   "metadata": {
    "ExecuteTime": {
     "end_time": "2023-12-02T03:37:18.773805Z",
     "start_time": "2023-12-02T03:37:18.742592Z"
    }
   },
   "outputs": [],
   "source": [
    "inputs = pd.read_csv('../Data/all_inputs_cleaned.csv')\n",
    "outputs = pd.read_csv('../Data/all_outputs_cleaned.csv')"
   ]
  },
  {
   "cell_type": "code",
   "execution_count": null,
   "id": "8b7dca4fe3c220f5",
   "metadata": {
    "ExecuteTime": {
     "end_time": "2023-12-02T03:37:18.790336Z",
     "start_time": "2023-12-02T03:37:18.753277Z"
    }
   },
   "outputs": [],
   "source": [
    "inputs.iloc[:, 2:]"
   ]
  },
  {
   "cell_type": "code",
   "execution_count": null,
   "id": "f6078d39d8fbf00a",
   "metadata": {
    "ExecuteTime": {
     "end_time": "2023-12-02T03:37:18.790546Z",
     "start_time": "2023-12-02T03:37:18.756492Z"
    }
   },
   "outputs": [],
   "source": [
    "outputs.iloc[:, 4]"
   ]
  },
  {
   "cell_type": "markdown",
   "id": "f6336d9ff8f1d57a",
   "metadata": {},
   "source": [
    "# Naive Forecasting (using 2006+ data)"
   ]
  },
  {
   "cell_type": "code",
   "execution_count": null,
   "id": "d50f642d331bbab6",
   "metadata": {
    "ExecuteTime": {
     "end_time": "2023-12-02T03:37:18.790637Z",
     "start_time": "2023-12-02T03:37:18.761941Z"
    }
   },
   "outputs": [],
   "source": [
    "X = inputs.iloc[:, 2:]  # using all features, except the fact that it is a time series (ignoring column 1 - Month)\n",
    "y = outputs.iloc[:, 4]  # toggle between 2,3,4 to predict Construction, Information and Total Private\n",
    "\n",
    "y_labels = (y > 0).astype(int)\n",
    "\n",
    "# predict next month's class to be the same as this month's class\n",
    "y_pred = y_labels.shift(1).dropna()\n",
    "\n",
    "# split the data into training and testing sets along with corresp. indices\n",
    "_, _, _, y_test, _, indices_test = train_test_split(X, y_labels, np.arange(len(y_labels)), test_size=0.3, random_state=0)\n",
    "\n",
    "# check accuracy of baseline for classification\n",
    "accuracy = np.sum(y_pred[indices_test] == y_test) / np.size(y_test)\n",
    "print(f'Classification Accuracy - Naive Forecasting (Baseline, 2006+): {accuracy}')"
   ]
  },
  {
   "cell_type": "markdown",
   "id": "dfc218037d65063b",
   "metadata": {},
   "source": [
    "# Linear Regression (using 2006+ data)"
   ]
  },
  {
   "cell_type": "code",
   "execution_count": null,
   "id": "initial_id",
   "metadata": {
    "ExecuteTime": {
     "end_time": "2023-12-02T03:37:18.807765Z",
     "start_time": "2023-12-02T03:37:18.764945Z"
    }
   },
   "outputs": [],
   "source": [
    "X = inputs.iloc[:, 2:]  # using all features, except the fact that it is a time series (ignoring column 1 - Month)\n",
    "y = outputs.iloc[:, 4]  # toggle between 2,3,4 to predict Construction, Information and Total Private\n",
    "\n",
    "X_train, X_test, y_train, y_test = train_test_split(X, y, test_size=0.3, random_state=0)\n",
    "model = LinearRegression()\n",
    "model.fit(X_train, y_train)\n",
    "pred = model.predict(X_test)\n",
    "r2_score = model.score(X_test, y_test)\n",
    "print(f'R2 Score - Linear Regression (Baseline, 2006+): {r2_score}')"
   ]
  }
 ],
 "metadata": {
  "kernelspec": {
   "display_name": "Python 3 (ipykernel)",
   "language": "python",
   "name": "python3"
  },
  "language_info": {
   "codemirror_mode": {
    "name": "ipython",
    "version": 3
   },
   "file_extension": ".py",
   "mimetype": "text/x-python",
   "name": "python",
   "nbconvert_exporter": "python",
   "pygments_lexer": "ipython3",
   "version": "3.11.5"
  }
 },
 "nbformat": 4,
 "nbformat_minor": 5
}
