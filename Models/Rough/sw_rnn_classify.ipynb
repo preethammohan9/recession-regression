{
 "cells": [
  {
   "cell_type": "code",
   "execution_count": 1,
   "metadata": {},
   "outputs": [],
   "source": [
    "import matplotlib.pyplot as plt\n",
    "import pandas as pd\n",
    "import numpy as np\n",
    "\n",
    "import torch\n",
    "import torch.nn as nn"
   ]
  },
  {
   "cell_type": "code",
   "execution_count": 2,
   "metadata": {},
   "outputs": [],
   "source": [
    "device = 'cpu'"
   ]
  },
  {
   "cell_type": "code",
   "execution_count": 3,
   "metadata": {},
   "outputs": [
    {
     "name": "stdout",
     "output_type": "stream",
     "text": [
      "(1017, 3)\n"
     ]
    }
   ],
   "source": [
    "df = pd.read_csv('../Data/Employment_change_193902.csv')\n",
    "df = df.iloc[:,1:]\n",
    "df.set_index('Month', inplace=True)\n",
    "print(df.shape)\n",
    "# print(df.head(10))\n",
    "#check if there is any na \n",
    "df.isnull().any().any()\n",
    "# print(df)\n",
    "# plt.plot(df['Month'], df['Total_private'])\n",
    "\n",
    "df1 = df[['Total_private']]\n",
    "# print(df1)"
   ]
  },
  {
   "cell_type": "code",
   "execution_count": 4,
   "metadata": {},
   "outputs": [
    {
     "name": "stdout",
     "output_type": "stream",
     "text": [
      "(1015, 3)\n"
     ]
    },
    {
     "data": {
      "text/html": [
       "<div>\n",
       "<style scoped>\n",
       "    .dataframe tbody tr th:only-of-type {\n",
       "        vertical-align: middle;\n",
       "    }\n",
       "\n",
       "    .dataframe tbody tr th {\n",
       "        vertical-align: top;\n",
       "    }\n",
       "\n",
       "    .dataframe thead th {\n",
       "        text-align: right;\n",
       "    }\n",
       "</style>\n",
       "<table border=\"1\" class=\"dataframe\">\n",
       "  <thead>\n",
       "    <tr style=\"text-align: right;\">\n",
       "      <th></th>\n",
       "      <th>Total_private</th>\n",
       "      <th>Total_private(t-1)</th>\n",
       "      <th>Total_private(t-2)</th>\n",
       "    </tr>\n",
       "    <tr>\n",
       "      <th>Month</th>\n",
       "      <th></th>\n",
       "      <th></th>\n",
       "      <th></th>\n",
       "    </tr>\n",
       "  </thead>\n",
       "  <tbody>\n",
       "    <tr>\n",
       "      <th>1939-04-01</th>\n",
       "      <td>-186.0</td>\n",
       "      <td>179.0</td>\n",
       "      <td>164.0</td>\n",
       "    </tr>\n",
       "    <tr>\n",
       "      <th>1939-05-01</th>\n",
       "      <td>201.0</td>\n",
       "      <td>-186.0</td>\n",
       "      <td>179.0</td>\n",
       "    </tr>\n",
       "    <tr>\n",
       "      <th>1939-06-01</th>\n",
       "      <td>206.0</td>\n",
       "      <td>201.0</td>\n",
       "      <td>-186.0</td>\n",
       "    </tr>\n",
       "    <tr>\n",
       "      <th>1939-07-01</th>\n",
       "      <td>-99.0</td>\n",
       "      <td>206.0</td>\n",
       "      <td>201.0</td>\n",
       "    </tr>\n",
       "    <tr>\n",
       "      <th>1939-08-01</th>\n",
       "      <td>217.0</td>\n",
       "      <td>-99.0</td>\n",
       "      <td>206.0</td>\n",
       "    </tr>\n",
       "    <tr>\n",
       "      <th>1939-09-01</th>\n",
       "      <td>338.0</td>\n",
       "      <td>217.0</td>\n",
       "      <td>-99.0</td>\n",
       "    </tr>\n",
       "    <tr>\n",
       "      <th>1939-10-01</th>\n",
       "      <td>367.0</td>\n",
       "      <td>338.0</td>\n",
       "      <td>217.0</td>\n",
       "    </tr>\n",
       "    <tr>\n",
       "      <th>1939-11-01</th>\n",
       "      <td>39.0</td>\n",
       "      <td>367.0</td>\n",
       "      <td>338.0</td>\n",
       "    </tr>\n",
       "    <tr>\n",
       "      <th>1939-12-01</th>\n",
       "      <td>47.0</td>\n",
       "      <td>39.0</td>\n",
       "      <td>367.0</td>\n",
       "    </tr>\n",
       "    <tr>\n",
       "      <th>1940-01-01</th>\n",
       "      <td>45.0</td>\n",
       "      <td>47.0</td>\n",
       "      <td>39.0</td>\n",
       "    </tr>\n",
       "    <tr>\n",
       "      <th>1940-02-01</th>\n",
       "      <td>112.0</td>\n",
       "      <td>45.0</td>\n",
       "      <td>47.0</td>\n",
       "    </tr>\n",
       "    <tr>\n",
       "      <th>1940-03-01</th>\n",
       "      <td>109.0</td>\n",
       "      <td>112.0</td>\n",
       "      <td>45.0</td>\n",
       "    </tr>\n",
       "    <tr>\n",
       "      <th>1940-04-01</th>\n",
       "      <td>-125.0</td>\n",
       "      <td>109.0</td>\n",
       "      <td>112.0</td>\n",
       "    </tr>\n",
       "    <tr>\n",
       "      <th>1940-05-01</th>\n",
       "      <td>158.0</td>\n",
       "      <td>-125.0</td>\n",
       "      <td>109.0</td>\n",
       "    </tr>\n",
       "    <tr>\n",
       "      <th>1940-06-01</th>\n",
       "      <td>52.0</td>\n",
       "      <td>158.0</td>\n",
       "      <td>-125.0</td>\n",
       "    </tr>\n",
       "    <tr>\n",
       "      <th>1940-07-01</th>\n",
       "      <td>-78.0</td>\n",
       "      <td>52.0</td>\n",
       "      <td>158.0</td>\n",
       "    </tr>\n",
       "    <tr>\n",
       "      <th>1940-08-01</th>\n",
       "      <td>389.0</td>\n",
       "      <td>-78.0</td>\n",
       "      <td>52.0</td>\n",
       "    </tr>\n",
       "    <tr>\n",
       "      <th>1940-09-01</th>\n",
       "      <td>428.0</td>\n",
       "      <td>389.0</td>\n",
       "      <td>-78.0</td>\n",
       "    </tr>\n",
       "    <tr>\n",
       "      <th>1940-10-01</th>\n",
       "      <td>416.0</td>\n",
       "      <td>428.0</td>\n",
       "      <td>389.0</td>\n",
       "    </tr>\n",
       "    <tr>\n",
       "      <th>1940-11-01</th>\n",
       "      <td>359.0</td>\n",
       "      <td>416.0</td>\n",
       "      <td>428.0</td>\n",
       "    </tr>\n",
       "  </tbody>\n",
       "</table>\n",
       "</div>"
      ],
      "text/plain": [
       "            Total_private  Total_private(t-1)  Total_private(t-2)\n",
       "Month                                                            \n",
       "1939-04-01         -186.0               179.0               164.0\n",
       "1939-05-01          201.0              -186.0               179.0\n",
       "1939-06-01          206.0               201.0              -186.0\n",
       "1939-07-01          -99.0               206.0               201.0\n",
       "1939-08-01          217.0               -99.0               206.0\n",
       "1939-09-01          338.0               217.0               -99.0\n",
       "1939-10-01          367.0               338.0               217.0\n",
       "1939-11-01           39.0               367.0               338.0\n",
       "1939-12-01           47.0                39.0               367.0\n",
       "1940-01-01           45.0                47.0                39.0\n",
       "1940-02-01          112.0                45.0                47.0\n",
       "1940-03-01          109.0               112.0                45.0\n",
       "1940-04-01         -125.0               109.0               112.0\n",
       "1940-05-01          158.0              -125.0               109.0\n",
       "1940-06-01           52.0               158.0              -125.0\n",
       "1940-07-01          -78.0                52.0               158.0\n",
       "1940-08-01          389.0               -78.0                52.0\n",
       "1940-09-01          428.0               389.0               -78.0\n",
       "1940-10-01          416.0               428.0               389.0\n",
       "1940-11-01          359.0               416.0               428.0"
      ]
     },
     "execution_count": 4,
     "metadata": {},
     "output_type": "execute_result"
    }
   ],
   "source": [
    "from copy import deepcopy as dc\n",
    "\n",
    "def prepare_shifted_df(df, n_steps):\n",
    "    df = dc(df)\n",
    "    \n",
    "    # df.set_index('Month', inplace=True)\n",
    "    \n",
    "    for i in range(1, n_steps + 1):\n",
    "        df[f'Total_private(t-{i})'] = df['Total_private'].shift(i)\n",
    "        \n",
    "    df.dropna(inplace=True)\n",
    "    \n",
    "    return df\n",
    "\n",
    "lookback = 2\n",
    "shifted_df = prepare_shifted_df(df1, lookback)\n",
    "print(shifted_df.shape)\n",
    "shifted_df.head(20)\n",
    "# print(type(shifted_df))"
   ]
  },
  {
   "cell_type": "code",
   "execution_count": 5,
   "metadata": {},
   "outputs": [],
   "source": [
    "# from sklearn.preprocessing import MinMaxScaler\n",
    "\n",
    "# scaler = MinMaxScaler(feature_range=(-1, 1))\n",
    "# shifted_df_as_np = scaler.fit_transform(shifted_df_as_np)\n",
    "\n",
    "# shifted_df_as_np.shape\n",
    "\n",
    "# plt.plot(shifted_df_as_np[:,0])"
   ]
  },
  {
   "cell_type": "code",
   "execution_count": 6,
   "metadata": {},
   "outputs": [
    {
     "data": {
      "text/plain": [
       "((1015, 2), (1015,))"
      ]
     },
     "execution_count": 6,
     "metadata": {},
     "output_type": "execute_result"
    }
   ],
   "source": [
    "shifted_df_as_np = shifted_df.to_numpy()\n",
    "# shifted_df_as_np\n",
    "shifted_df_as_np.shape\n",
    "\n",
    "X = shifted_df_as_np[:, 1:]\n",
    "y = shifted_df_as_np[:, 0]\n",
    "y_dir = np.sign(y)\n",
    "y_dir[y_dir == -1] = 0\n",
    "X = dc(np.flip(X, axis=1)) # because we want to start from the earliest time)\n",
    "# X\n",
    "\n",
    "X.shape, y_dir.shape\n",
    "# print(X)\n",
    "# print(y_dir)\n",
    "# plt.plot(y_dir)\n"
   ]
  },
  {
   "cell_type": "code",
   "execution_count": 7,
   "metadata": {},
   "outputs": [
    {
     "data": {
      "text/plain": [
       "((710, 2), (305, 2), (710,), (305,))"
      ]
     },
     "execution_count": 7,
     "metadata": {},
     "output_type": "execute_result"
    }
   ],
   "source": [
    "from sklearn.model_selection import train_test_split\n",
    "X_train, X_test, y_train, y_test = train_test_split(X, y_dir, test_size=0.3, shuffle = True, random_state=30)\n",
    "X_train.shape, X_test.shape, y_train.shape, y_test.shape"
   ]
  },
  {
   "cell_type": "code",
   "execution_count": 8,
   "metadata": {},
   "outputs": [],
   "source": [
    "# split_index = int(len(X) * 0.7)\n",
    "# # split_index\n",
    "# X_train = X[:split_index]\n",
    "# X_test = X[split_index:]\n",
    "\n",
    "# y_train = y_dir[:split_index]\n",
    "# y_test = y_dir[split_index:]\n",
    "\n",
    "# X_train.shape, X_test.shape, y_train.shape, y_test.shape\n",
    "# # y_test"
   ]
  },
  {
   "cell_type": "code",
   "execution_count": 9,
   "metadata": {},
   "outputs": [
    {
     "data": {
      "text/plain": [
       "((710, 2, 1), (305, 2, 1), (710,), (305,))"
      ]
     },
     "execution_count": 9,
     "metadata": {},
     "output_type": "execute_result"
    }
   ],
   "source": [
    "#add another dimension in the end for Pytorch LSTM\n",
    "# num_classes = 2\n",
    "X_train = X_train.reshape((-1, lookback, 1))\n",
    "X_test = X_test.reshape((-1, lookback, 1))\n",
    "\n",
    "# y_train = y_train.reshape((-1, 1))\n",
    "# y_test = y_test.reshape((-1, 1))\n",
    "\n",
    "\n",
    "\n",
    "X_train.shape, X_test.shape, y_train.shape, y_test.shape"
   ]
  },
  {
   "cell_type": "code",
   "execution_count": 10,
   "metadata": {},
   "outputs": [
    {
     "data": {
      "text/plain": [
       "(torch.Size([710, 2, 1]),\n",
       " torch.Size([305, 2, 1]),\n",
       " torch.Size([710]),\n",
       " torch.Size([305]))"
      ]
     },
     "execution_count": 10,
     "metadata": {},
     "output_type": "execute_result"
    }
   ],
   "source": [
    "X_train = torch.tensor(X_train, dtype = torch.float32)\n",
    "X_test = torch.tensor(X_test, dtype = torch.float32)\n",
    "y_train = torch.tensor(y_train, dtype = torch.long)\n",
    "y_test = torch.tensor(y_test, dtype = torch.long)\n",
    "\n",
    "X_train.shape, X_test.shape, y_train.shape, y_test.shape"
   ]
  },
  {
   "cell_type": "code",
   "execution_count": 11,
   "metadata": {},
   "outputs": [
    {
     "data": {
      "text/plain": [
       "<__main__.TimeSeriesDataset at 0x172e4cb10>"
      ]
     },
     "execution_count": 11,
     "metadata": {},
     "output_type": "execute_result"
    }
   ],
   "source": [
    "from torch.utils.data import Dataset\n",
    "\n",
    "class TimeSeriesDataset(Dataset):\n",
    "    def __init__(self, X, y):\n",
    "        self.X = X\n",
    "        self.y = y\n",
    "\n",
    "    def __len__(self):\n",
    "        return len(self.X)\n",
    "\n",
    "    def __getitem__(self, i):\n",
    "        return self.X[i], self.y[i]\n",
    "    \n",
    "train_dataset = TimeSeriesDataset(X_train, y_train)\n",
    "test_dataset = TimeSeriesDataset(X_test, y_test)\n",
    "train_dataset"
   ]
  },
  {
   "cell_type": "code",
   "execution_count": 12,
   "metadata": {},
   "outputs": [
    {
     "name": "stdout",
     "output_type": "stream",
     "text": [
      "45\n",
      "20\n",
      "torch.float32 torch.int64\n",
      "torch.Size([16, 2, 1]) torch.Size([16])\n"
     ]
    }
   ],
   "source": [
    "#wrap dataset in data loaders to get the batches\n",
    "from torch.utils.data import DataLoader\n",
    "\n",
    "batch_size = 16\n",
    "\n",
    "train_loader = DataLoader(train_dataset, batch_size=batch_size, shuffle=True)\n",
    "test_loader = DataLoader(test_dataset, batch_size=batch_size, shuffle=False)\n",
    "\n",
    "print(len(train_loader))\n",
    "print(len(test_loader))\n",
    "\n",
    "for _, batch in enumerate(train_loader):\n",
    "    x_batch, y_batch = batch[0].to(device), batch[1].to(device)\n",
    "    print(x_batch.dtype, y_batch.dtype)\n",
    "    print(x_batch.shape, y_batch.shape)\n",
    "    break"
   ]
  },
  {
   "cell_type": "code",
   "execution_count": 13,
   "metadata": {},
   "outputs": [],
   "source": [
    "# rnn for classification\n",
    "\n",
    "class RNN(nn.Module):\n",
    "    def __init__(self, input_size, hidden_size, num_layers, num_classes):\n",
    "        super(RNN, self).__init__()\n",
    "        self.num_layers = num_layers\n",
    "        self.hidden_size = hidden_size\n",
    "        self.rnn = nn.RNN(input_size, hidden_size, num_layers, nonlinearity='relu', batch_first=True)\n",
    "        # -> x needs to be: (batch_size, seq, input_size)\n",
    "        \n",
    "        # or:\n",
    "        #self.gru = nn.GRU(input_size, hidden_size, num_layers, batch_first=True)\n",
    "        #self.lstm = nn.LSTM(input_size, hidden_size, num_layers, batch_first=True)\n",
    "        self.fc = nn.Linear(hidden_size, num_classes)\n",
    "        self.softmax = nn.LogSoftmax(dim=1)\n",
    "        \n",
    "    def forward(self, x):\n",
    "        # Set initial hidden states (and cell states for LSTM)\n",
    "        h0 = torch.zeros(self.num_layers, x.size(0), self.hidden_size).to(device) \n",
    "        #c0 = torch.zeros(self.num_layers, x.size(0), self.hidden_size).to(device) \n",
    "        \n",
    "        # Forward propagate RNN\n",
    "        out, _ = self.rnn(x, h0)  \n",
    "        # or:\n",
    "        #out, _ = self.lstm(x, (h0,c0))  \n",
    "        \n",
    "        # out: tensor of shape (batch_size, seq_length, hidden_size)\n",
    "        \n",
    "        # Decode the hidden state of the last time step\n",
    "        out = out[:, -1, :]\n",
    "        out = self.fc(out)\n",
    "        out = self.softmax(out)\n",
    "        return out\n",
    "    "
   ]
  },
  {
   "cell_type": "code",
   "execution_count": 14,
   "metadata": {},
   "outputs": [],
   "source": [
    "# class LSTM(nn.Module):\n",
    "#     def __init__(self, input_size, hidden_size, num_stacked_layers):\n",
    "#         super().__init__()\n",
    "#         self.hidden_size = hidden_size\n",
    "#         self.num_stacked_layers = num_stacked_layers\n",
    "\n",
    "#         self.lstm = nn.LSTM(input_size, hidden_size, num_stacked_layers, \n",
    "#                             batch_first=True)\n",
    "        \n",
    "#         self.fc = nn.Linear(hidden_size, 1)\n",
    "\n",
    "#     def forward(self, x):\n",
    "#         batch_size = x.size(0)\n",
    "#         h0 = torch.zeros(self.num_stacked_layers, batch_size, self.hidden_size).to(device)\n",
    "#         c0 = torch.zeros(self.num_stacked_layers, batch_size, self.hidden_size).to(device)\n",
    "        \n",
    "#         out, _ = self.lstm(x, (h0, c0))\n",
    "#         out = self.fc(out[:, -1, :])\n",
    "#         return out\n",
    "\n",
    "# model = LSTM(1, 4, 1)\n",
    "# model.to(device)\n",
    "# model"
   ]
  },
  {
   "cell_type": "code",
   "execution_count": 15,
   "metadata": {},
   "outputs": [],
   "source": [
    "def train_one_epoch(dataloader, model, loss_function, optimizer):\n",
    "    model.train()\n",
    "    running_loss = 0.0\n",
    "    \n",
    "    for batch_index, batch in enumerate(dataloader):\n",
    "        x_batch, y_batch = batch[0].to(device), batch[1].to(device)\n",
    "        \n",
    "        output = model(x_batch)\n",
    "        loss = loss_function(output, y_batch)\n",
    "        running_loss += loss.item()\n",
    "        \n",
    "        loss.backward()\n",
    "        optimizer.step()\n",
    "        optimizer.zero_grad()\n",
    "\n",
    "        # if batch_index % 20 == 19:  # print every 20 batches\n",
    "        #     avg_loss_across_batches = running_loss / (20 * batch_size)\n",
    "        #     print('Batch {0}, Loss: {1:.3f}'.format(batch_index+1,\n",
    "        #                                             avg_loss_across_batches))\n",
    "        #     running_loss = 0.0\n",
    "    # print()\n",
    "    # all_train_loss.append(running_loss / (len(train_loader) * batch_size))"
   ]
  },
  {
   "cell_type": "code",
   "execution_count": 16,
   "metadata": {},
   "outputs": [],
   "source": [
    "def validate_one_epoch(dataloader, model, loss_function):\n",
    "    model.eval() #evaluation mode\n",
    "    running_loss = 0.0\n",
    "    \n",
    "    for batch_index, batch in enumerate(dataloader):\n",
    "        x_batch, y_batch = batch[0].to(device), batch[1].to(device)\n",
    "\n",
    "        with torch.no_grad(): #not calculating gradients because we're not updating model\n",
    "            output = model(x_batch)\n",
    "            loss = loss_function(output, y_batch)\n",
    "            running_loss += loss.item()\n",
    "\n",
    "    \n",
    "    # avg_loss_across_batches = running_loss / (len(dataloader) * batch_size)\n",
    "    # print('Val Loss: {0:.3f}'.format(avg_loss_across_batches))\n",
    "    # print('***************************************************')\n",
    "    # all_test_loss.append(running_loss / (len(test_loader) * batch_size))"
   ]
  },
  {
   "cell_type": "code",
   "execution_count": 17,
   "metadata": {},
   "outputs": [],
   "source": [
    "# batch= next(iter(train_loader))\n",
    "# X_batch, y_batch = batch[0].to(device), batch[1].to(device)\n",
    "# print(X_batch.shape)\n",
    "# print(y_batch.shape)\n",
    "# output = model(X_batch)\n",
    "# print(output)\n",
    "# print(output.shape)\n",
    "# print(y_batch.shape)\n",
    "# loss_function = nn.NLLLoss()\n",
    "# print(y_batch)\n",
    "# loss = loss_function(output, y_batch)"
   ]
  },
  {
   "cell_type": "code",
   "execution_count": 18,
   "metadata": {},
   "outputs": [],
   "source": [
    "def error_rate(y_predict, y_actual):\n",
    "    assert(len(y_predict) == len(y_actual))\n",
    "    max_ind_train = torch.argmax(y_predict, axis = 1)\n",
    "    error = torch.sum(abs(y_actual - max_ind_train)) / len(max_ind_train)\n",
    "    return error"
   ]
  },
  {
   "cell_type": "code",
   "execution_count": 19,
   "metadata": {},
   "outputs": [
    {
     "data": {
      "text/plain": [
       "RNN(\n",
       "  (rnn): RNN(1, 128, num_layers=8, batch_first=True)\n",
       "  (fc): Linear(in_features=128, out_features=2, bias=True)\n",
       "  (softmax): LogSoftmax(dim=1)\n",
       ")"
      ]
     },
     "execution_count": 19,
     "metadata": {},
     "output_type": "execute_result"
    }
   ],
   "source": [
    "input_size = 1\n",
    "hidden_size = 128\n",
    "num_layers = 8\n",
    "num_classes = 2\n",
    "\n",
    "model = RNN(input_size, hidden_size, num_layers, num_classes).to(device)\n",
    "model"
   ]
  },
  {
   "cell_type": "code",
   "execution_count": 20,
   "metadata": {},
   "outputs": [],
   "source": [
    "# import torchinfo"
   ]
  },
  {
   "cell_type": "code",
   "execution_count": 21,
   "metadata": {},
   "outputs": [
    {
     "name": "stdout",
     "output_type": "stream",
     "text": [
      "Epoch: 10\n",
      "training data error is 0.23239436745643616\n",
      "test data error is 0.2262295037508011\n",
      "710\n",
      "305\n",
      "Epoch: 20\n",
      "training data error is 0.23239436745643616\n",
      "test data error is 0.2262295037508011\n",
      "710\n",
      "305\n",
      "Epoch: 30\n",
      "training data error is 0.23239436745643616\n",
      "test data error is 0.2262295037508011\n",
      "710\n",
      "305\n",
      "Epoch: 40\n",
      "training data error is 0.13380281627178192\n",
      "test data error is 0.12459016591310501\n",
      "710\n",
      "305\n",
      "Epoch: 50\n",
      "training data error is 0.13239437341690063\n",
      "test data error is 0.12459016591310501\n",
      "710\n",
      "305\n",
      "Epoch: 60\n",
      "training data error is 0.1352112740278244\n",
      "test data error is 0.12459016591310501\n",
      "710\n",
      "305\n",
      "Epoch: 70\n",
      "training data error is 0.1352112740278244\n",
      "test data error is 0.12459016591310501\n",
      "710\n",
      "305\n",
      "Epoch: 80\n",
      "training data error is 0.1352112740278244\n",
      "test data error is 0.12459016591310501\n",
      "710\n",
      "305\n",
      "Epoch: 90\n",
      "training data error is 0.1352112740278244\n",
      "test data error is 0.12459016591310501\n",
      "710\n",
      "305\n",
      "Epoch: 100\n",
      "training data error is 0.1366197168827057\n",
      "test data error is 0.12459016591310501\n",
      "710\n",
      "305\n"
     ]
    }
   ],
   "source": [
    "learning_rate = 0.002\n",
    "loss_function = nn.NLLLoss()\n",
    "optimizer = torch.optim.SGD(model.parameters(), lr=learning_rate)\n",
    "\n",
    "all_train_error = []\n",
    "all_test_error = []\n",
    "\n",
    "num_epochs = 100\n",
    "for epoch in range(num_epochs):\n",
    "    \n",
    "    train_one_epoch(train_loader,model,loss_function,optimizer)\n",
    "    validate_one_epoch(test_loader, model, loss_function)\n",
    "\n",
    "    with torch.no_grad():\n",
    "        # predicted_train = model(X_train.to(device)).to('cpu')\n",
    "        predicted_train = model(X_train)\n",
    "        train_error = error_rate(predicted_train, y_train)\n",
    "        all_train_error.append(train_error)\n",
    "\n",
    "    with torch.no_grad():\n",
    "        # predicted_test = model(X_test.to(device)).to('cpu')\n",
    "        predicted_test = model(X_test)\n",
    "        test_error = error_rate(predicted_test, y_test)\n",
    "        all_test_error.append(test_error)\n",
    "\n",
    "    if epoch % 10 == 9:\n",
    "        print(f'Epoch: {epoch + 1}')\n",
    "        print(f\"training data error is {train_error}\")\n",
    "        print(f\"test data error is {test_error}\")\n",
    "        print(len(predicted_train))\n",
    "        print(len(predicted_test))"
   ]
  },
  {
   "cell_type": "code",
   "execution_count": 22,
   "metadata": {},
   "outputs": [
    {
     "name": "stdout",
     "output_type": "stream",
     "text": [
      "training data error is 0.1366197168827057\n",
      "test data error is 0.12459016591310501\n"
     ]
    }
   ],
   "source": [
    "with torch.no_grad():\n",
    "    predicted_train = model(X_train.to(device)).to('cpu')\n",
    "train_error = error_rate(predicted_train, y_train)\n",
    "print(f\"training data error is {train_error}\")\n",
    "\n",
    "with torch.no_grad():\n",
    "    predicted_test = model(X_test.to(device)).to('cpu')\n",
    "test_error = error_rate(predicted_test, y_test)\n",
    "print(f\"test data error is {test_error}\")"
   ]
  },
  {
   "cell_type": "code",
   "execution_count": 23,
   "metadata": {},
   "outputs": [
    {
     "data": {
      "image/png": "[encoded data removed]",
      "text/plain": [
       "<Figure size 640x480 with 1 Axes>"
      ]
     },
     "metadata": {},
     "output_type": "display_data"
    }
   ],
   "source": [
    "plt.plot(all_train_error, label = 'Train error')\n",
    "plt.plot(all_test_error, label = 'Test error')\n",
    "plt.legend()\n",
    "plt.show()"
   ]
  },
  {
   "cell_type": "code",
   "execution_count": 24,
   "metadata": {},
   "outputs": [],
   "source": [
    "# train_predictions = predicted.flatten()\n",
    "\n",
    "# #get the original scale\n",
    "# dummies = np.zeros((X_train.shape[0], lookback+1))\n",
    "# dummies[:, 0] = train_predictions\n",
    "# dummies = scaler.inverse_transform(dummies)\n",
    "\n",
    "# train_predictions = dc(dummies[:, 0])\n",
    "# # train_predictions"
   ]
  },
  {
   "cell_type": "code",
   "execution_count": 25,
   "metadata": {},
   "outputs": [],
   "source": [
    "# dummies = np.zeros((X_train.shape[0], lookback+1))\n",
    "# dummies[:, 0] = y_train.flatten()\n",
    "# dummies = scaler.inverse_transform(dummies)\n",
    "\n",
    "# new_y_train = dc(dummies[:, 0])\n",
    "# # new_y_train"
   ]
  },
  {
   "cell_type": "code",
   "execution_count": 26,
   "metadata": {},
   "outputs": [],
   "source": [
    "# plt.plot(y_train, label='Actual')\n",
    "# plt.plot(train_predictions, label='Predicted')\n",
    "# plt.xlabel('Month')\n",
    "# plt.ylabel('Total private')\n",
    "# plt.title('Training data')\n",
    "# plt.legend()\n",
    "# plt.show()"
   ]
  },
  {
   "cell_type": "code",
   "execution_count": 27,
   "metadata": {},
   "outputs": [],
   "source": [
    "# test_predictions = model(X_test.to(device)).detach().cpu().numpy().flatten()\n",
    "\n",
    "# dummies = np.zeros((X_test.shape[0], lookback+1))\n",
    "# dummies[:, 0] = test_predictions\n",
    "# dummies = scaler.inverse_transform(dummies)\n",
    "\n",
    "# test_predictions = dc(dummies[:, 0])\n",
    "# # test_predictions"
   ]
  },
  {
   "cell_type": "code",
   "execution_count": 28,
   "metadata": {},
   "outputs": [],
   "source": [
    "# dummies = np.zeros((X_test.shape[0], lookback+1))\n",
    "# dummies[:, 0] = y_test.flatten()\n",
    "# dummies = scaler.inverse_transform(dummies)\n",
    "\n",
    "# new_y_test = dc(dummies[:, 0])\n",
    "# new_y_test"
   ]
  },
  {
   "cell_type": "code",
   "execution_count": 29,
   "metadata": {},
   "outputs": [],
   "source": [
    "# plt.plot(new_y_test, label='Actual')\n",
    "# plt.plot(test_predictions, label='Predicted')\n",
    "# plt.xlabel('Month')\n",
    "# plt.ylabel('Total private')\n",
    "# plt.title('Testing data')\n",
    "# plt.legend()\n",
    "# plt.show()"
   ]
  }
 ],
 "metadata": {
  "kernelspec": {
   "display_name": "Python 3 (ipykernel)",
   "language": "python",
   "name": "python3"
  },
  "language_info": {
   "codemirror_mode": {
    "name": "ipython",
    "version": 3
   },
   "file_extension": ".py",
   "mimetype": "text/x-python",
   "name": "python",
   "nbconvert_exporter": "python",
   "pygments_lexer": "ipython3",
   "version": "3.11.5"
  }
 },
 "nbformat": 4,
 "nbformat_minor": 2
}
