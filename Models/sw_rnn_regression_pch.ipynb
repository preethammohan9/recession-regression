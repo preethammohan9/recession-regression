{
 "cells": [
  {
   "cell_type": "code",
   "execution_count": null,
   "metadata": {},
   "outputs": [],
   "source": [
    "import matplotlib.pyplot as plt\n",
    "import pandas as pd\n",
    "import numpy as np\n",
    "\n",
    "import torch\n",
    "import torch.nn as nn"
   ]
  },
  {
   "cell_type": "code",
   "execution_count": null,
   "metadata": {},
   "outputs": [],
   "source": [
    "device = 'cpu'"
   ]
  },
  {
   "cell_type": "markdown",
   "metadata": {},
   "source": [
    "# Prepare data"
   ]
  },
  {
   "cell_type": "code",
   "execution_count": null,
   "metadata": {},
   "outputs": [],
   "source": [
    "from copy import deepcopy\n",
    "\n",
    "def prepare_shifted_df(df, n_steps, input_name):\n",
    "    df = deepcopy(df)\n",
    "    \n",
    "    # df.set_index('Month', inplace=True)\n",
    "    \n",
    "    for i in reversed(range(1, n_steps + 1)):\n",
    "        new_name = input_name + f\"(t-{i})\"\n",
    "        df[new_name] = df.iloc[:,0].shift(i)\n",
    "        \n",
    "    df.dropna(inplace=True)\n",
    "    \n",
    "    return df.iloc[:,1:]\n",
    "\n",
    "lookback = 6"
   ]
  },
  {
   "cell_type": "code",
   "execution_count": null,
   "metadata": {},
   "outputs": [],
   "source": [
    "df = pd.read_csv('../Data/Employment_pch_1960_no_covid.csv')\n",
    "# df = pd.read_csv('../Data/Output_employpch_unemployrate_1960.csv')\n",
    "df = df.iloc[:,1:]\n",
    "df.set_index('Month', inplace=True)\n",
    "shifted_df0 = prepare_shifted_df(df[['Total_private_pch']], lookback, 'Tota_private_pch')\n",
    "# print(shifted_df0)\n",
    "\n",
    "df = pd.read_csv('../Data/Input_features_1960_no_covid.csv')\n",
    "df = df.iloc[:,1:]\n",
    "df.set_index('Month', inplace=True)\n",
    "# print(df)\n",
    "shifted_df1 = prepare_shifted_df(df[['Fedfund_rate']], lookback, 'Fedfund_rate')\n",
    "shifted_df2 = prepare_shifted_df(df[['GDP_pch']], lookback, 'GDP_pch')\n",
    "shifted_df3 = prepare_shifted_df(df[['CPI_pc1']], lookback, 'CPI_pc1')\n",
    "shifted_df4 = prepare_shifted_df(df[['Loan_pch']], lookback, 'Loan_pch')\n",
    "shifted_df5 = prepare_shifted_df(df[['House_ch']], lookback, 'House_ch')"
   ]
  },
  {
   "cell_type": "code",
   "execution_count": null,
   "metadata": {},
   "outputs": [],
   "source": [
    "from sklearn.preprocessing import MinMaxScaler\n",
    "scaler = MinMaxScaler(feature_range=(-1, 1))\n",
    "\n",
    "def scale_df(df, scaler):\n",
    "    df_np = df.to_numpy()\n",
    "    return scaler.fit_transform(df_np)"
   ]
  },
  {
   "cell_type": "code",
   "execution_count": null,
   "metadata": {},
   "outputs": [],
   "source": [
    "X0 = scale_df(shifted_df0, scaler)\n",
    "X1 = scale_df(shifted_df1, scaler)\n",
    "X2= scale_df(shifted_df2, scaler)\n",
    "X3 = scale_df(shifted_df3, scaler)\n",
    "X4 = scale_df(shifted_df4, scaler)\n",
    "X5 = scale_df(shifted_df5, scaler)\n",
    "\n",
    "temp_list = [X0, X1, X2, X3, X4, X5]\n",
    "# temp_list = [X1, X2, X3, X4, X5]\n",
    "\n",
    "X = np.zeros([X0.shape[0], X0.shape[1], 6])\n",
    "\n",
    "for i in range(len(temp_list)):\n",
    "    X[:,:,i] = temp_list[i]\n",
    "    \n",
    "print(f\"X shape is {X.shape}\")\n",
    "plt.plot(X0[:,0], label = 'Total private employment')\n",
    "# plt.plot(X0[:,0], label = 'Unemployment rate')\n",
    "plt.plot(X1[:,0], label = 'Fed funds rate')\n",
    "plt.plot(X2[:,0], label = 'GDP')\n",
    "plt.plot(X3[:,0], label = 'CPI')\n",
    "plt.plot(X4[:,0], label = 'Loan')\n",
    "plt.plot(X5[:,0], label = 'House')\n",
    "\n",
    "plt.legend()\n",
    "plt.show()\n",
    "\n",
    "np.isnan(X).any(0).any(0)"
   ]
  },
  {
   "cell_type": "code",
   "execution_count": null,
   "metadata": {},
   "outputs": [],
   "source": [
    "y_df = pd.read_csv('../Data/Employment_pch_1960_no_covid.csv')\n",
    "# y_df = pd.read_csv('../Data/Output_employpch_unemployrate_1960.csv')\n",
    "\n",
    "y_df = y_df[['Month', 'Total_private_pch']]\n",
    "y_df = y_df.iloc[lookback:,:]\n",
    "y_df.set_index('Month', inplace = True)\n",
    "\n",
    "assert(y_df.shape[0] == X.shape[0])\n",
    "\n",
    "y = y_df.to_numpy()\n",
    "\n",
    "X.shape, y.shape"
   ]
  },
  {
   "cell_type": "markdown",
   "metadata": {},
   "source": [
    "**Train test split**"
   ]
  },
  {
   "cell_type": "code",
   "execution_count": null,
   "metadata": {},
   "outputs": [],
   "source": [
    "from sklearn.model_selection import train_test_split\n",
    "X_train, X_test, y_train, y_test = train_test_split(X, y, test_size=0.3, shuffle = False, random_state=8)\n",
    "X_train.shape, X_test.shape, y_train.shape, y_test.shape\n"
   ]
  },
  {
   "cell_type": "code",
   "execution_count": null,
   "metadata": {},
   "outputs": [],
   "source": [
    "X_train = torch.tensor(X_train, dtype = torch.float32)\n",
    "X_test = torch.tensor(X_test, dtype = torch.float32)\n",
    "y_train = torch.tensor(y_train, dtype = torch.float32)\n",
    "y_test = torch.tensor(y_test, dtype = torch.float32)\n",
    "\n",
    "X_train.shape, X_test.shape, y_train.shape, y_test.shape"
   ]
  },
  {
   "cell_type": "markdown",
   "metadata": {},
   "source": [
    "**build custom dataset for Pytorch**"
   ]
  },
  {
   "cell_type": "code",
   "execution_count": null,
   "metadata": {},
   "outputs": [],
   "source": [
    "from torch.utils.data import Dataset\n",
    "\n",
    "class TimeSeriesDataset(Dataset):\n",
    "    def __init__(self, X, y):\n",
    "        self.X = X\n",
    "        self.y = y\n",
    "\n",
    "    def __len__(self):\n",
    "        return len(self.X)\n",
    "\n",
    "    def __getitem__(self, i):\n",
    "        return self.X[i], self.y[i]\n",
    "    \n",
    "train_dataset = TimeSeriesDataset(X_train, y_train)\n",
    "test_dataset = TimeSeriesDataset(X_test, y_test)\n",
    "train_dataset"
   ]
  },
  {
   "cell_type": "code",
   "execution_count": null,
   "metadata": {},
   "outputs": [],
   "source": [
    "#wrap dataset in data loaders to get the batches\n",
    "from torch.utils.data import DataLoader\n",
    "\n",
    "batch_size = 16\n",
    "\n",
    "train_loader = DataLoader(train_dataset, batch_size=batch_size, shuffle=True)\n",
    "test_loader = DataLoader(test_dataset, batch_size=batch_size, shuffle=False)\n",
    "\n",
    "for _, batch in enumerate(train_loader):\n",
    "    x_batch, y_batch = batch[0].to(device), batch[1].to(device)\n",
    "    print(x_batch.dtype, y_batch.dtype)\n",
    "    print(x_batch.shape, y_batch.shape)\n",
    "    break"
   ]
  },
  {
   "cell_type": "markdown",
   "metadata": {},
   "source": [
    "# Define rnn class, train loop and test loop functions"
   ]
  },
  {
   "cell_type": "code",
   "execution_count": null,
   "metadata": {},
   "outputs": [],
   "source": [
    "# rnn for classification\n",
    "\n",
    "class RNN(nn.Module):\n",
    "    def __init__(self, input_size, hidden_size, num_layers):\n",
    "        super(RNN, self).__init__()\n",
    "        self.num_layers = num_layers\n",
    "        self.hidden_size = hidden_size\n",
    "        self.rnn = nn.RNN(input_size, hidden_size, num_layers, nonlinearity='tanh', batch_first=True)\n",
    "        # -> x needs to be: (batch_size, seq, input_size)\n",
    "        \n",
    "        # or:\n",
    "        #self.gru = nn.GRU(input_size, hidden_size, num_layers, batch_first=True)\n",
    "        #self.lstm = nn.LSTM(input_size, hidden_size, num_layers, batch_first=True)\n",
    "        self.fc = nn.Linear(hidden_size, 1)\n",
    "        \n",
    "    def forward(self, x):\n",
    "        # Set initial hidden states (and cell states for LSTM)\n",
    "        h0 = torch.zeros(self.num_layers, x.size(0), self.hidden_size).to(device) \n",
    "        #c0 = torch.zeros(self.num_layers, x.size(0), self.hidden_size).to(device) \n",
    "        \n",
    "        # Forward propagate RNN\n",
    "        out, _ = self.rnn(x, h0)  \n",
    "        # or:\n",
    "        #out, _ = self.lstm(x, (h0,c0))  \n",
    "        \n",
    "        # out: tensor of shape (batch_size, seq_length, hidden_size)\n",
    "        \n",
    "        # Decode the hidden state of the last time step\n",
    "        out = self.fc(out[:, -1, :])\n",
    "\n",
    "        return out\n",
    "    "
   ]
  },
  {
   "cell_type": "code",
   "execution_count": null,
   "metadata": {},
   "outputs": [],
   "source": [
    "def train_one_epoch(dataloader, model, loss_function, optimizer):\n",
    "    model.train()\n",
    "    running_loss = 0.0\n",
    "    \n",
    "    for batch_index, batch in enumerate(dataloader):\n",
    "        x_batch, y_batch = batch[0].to(device), batch[1].to(device)\n",
    "        \n",
    "        output = model(x_batch)\n",
    "        loss = loss_function(output, y_batch)\n",
    "        running_loss += loss.item()\n",
    "        \n",
    "        loss.backward()\n",
    "        optimizer.step()\n",
    "        optimizer.zero_grad()"
   ]
  },
  {
   "cell_type": "code",
   "execution_count": null,
   "metadata": {},
   "outputs": [],
   "source": [
    "def validate_one_epoch(dataloader, model, loss_function):\n",
    "    model.eval() #evaluation mode\n",
    "    running_loss = 0.0\n",
    "    \n",
    "    for batch_index, batch in enumerate(dataloader):\n",
    "        x_batch, y_batch = batch[0].to(device), batch[1].to(device)\n",
    "\n",
    "        with torch.no_grad(): #not calculating gradients because we're not updating model\n",
    "            output = model(x_batch)\n",
    "            loss = loss_function(output, y_batch)\n",
    "            running_loss += loss.item()\n",
    "\n",
    "    "
   ]
  },
  {
   "cell_type": "markdown",
   "metadata": {},
   "source": [
    "**Define error for testing purposes**"
   ]
  },
  {
   "cell_type": "code",
   "execution_count": null,
   "metadata": {},
   "outputs": [],
   "source": [
    "def mse_calc(y_predict, y_actual):\n",
    "    assert(len(y_predict) == len(y_actual))\n",
    "    mse = torch.sum(torch.square(y_actual-y_predict)) / len(y_predict)\n",
    "    return mse"
   ]
  },
  {
   "cell_type": "markdown",
   "metadata": {},
   "source": [
    "# Training RNN\n",
    "**Initialize the RNN model with parameters**"
   ]
  },
  {
   "cell_type": "code",
   "execution_count": null,
   "metadata": {},
   "outputs": [],
   "source": [
    "input_size = 6\n",
    "hidden_size = 128\n",
    "num_layers = 6\n",
    "\n",
    "model = RNN(input_size, hidden_size, num_layers).to(device)\n",
    "model"
   ]
  },
  {
   "cell_type": "markdown",
   "metadata": {},
   "source": [
    "**Hyperparamters and loss function**"
   ]
  },
  {
   "cell_type": "code",
   "execution_count": null,
   "metadata": {},
   "outputs": [],
   "source": [
    "learning_rate = 0.005\n",
    "loss_function = nn.MSELoss()\n",
    "optimizer = torch.optim.SGD(model.parameters(), lr=learning_rate)\n",
    "\n",
    "all_train_error = []\n",
    "all_test_error = []\n",
    "\n",
    "num_epochs = 1000\n",
    "best_error = 10.0\n",
    "best_model_state = {}\n",
    "for epoch in range(num_epochs):\n",
    "    \n",
    "    train_one_epoch(train_loader,model,loss_function,optimizer)\n",
    "    validate_one_epoch(test_loader, model, loss_function)\n",
    "\n",
    "    with torch.no_grad():\n",
    "        # predicted_train = model(X_train.to(device)).to('cpu')\n",
    "        predicted_train = model(X_train)\n",
    "        train_error = mse_calc(predicted_train, y_train)\n",
    "        all_train_error.append(train_error)\n",
    "\n",
    "    with torch.no_grad():\n",
    "        # predicted_test = model(X_test.to(device)).to('cpu')\n",
    "        predicted_test = model(X_test)\n",
    "        test_error = mse_calc(predicted_test, y_test)\n",
    "        all_test_error.append(test_error)\n",
    "\n",
    "    if epoch % 50 == 49:\n",
    "        print(f'Epoch: {epoch + 1}')\n",
    "        print(f\"training data error is {train_error}\")\n",
    "        print(f\"test data error is {test_error}\")\n",
    "    if test_error < best_error:\n",
    "        best_model_state = deepcopy(model.state_dict())\n",
    "        best_error = test_error\n"
   ]
  },
  {
   "cell_type": "code",
   "execution_count": null,
   "metadata": {},
   "outputs": [],
   "source": [
    "best_model = RNN(input_size, hidden_size, num_layers).to(device)\n",
    "best_model.load_state_dict(best_model_state)\n",
    "best_model.eval()"
   ]
  },
  {
   "cell_type": "code",
   "execution_count": null,
   "metadata": {},
   "outputs": [],
   "source": [
    "with torch.no_grad():\n",
    "    predicted_train = best_model(X_train.to(device)).to('cpu')\n",
    "train_error = mse_calc(predicted_train, y_train)\n",
    "print(f\"training regression data error is {train_error}\")\n",
    "\n",
    "with torch.no_grad():\n",
    "    predicted_test = best_model(X_test.to(device)).to('cpu')\n",
    "test_error = mse_calc(predicted_test, y_test)\n",
    "print(f\"test regression data error is {test_error}\")"
   ]
  },
  {
   "cell_type": "code",
   "execution_count": null,
   "metadata": {},
   "outputs": [],
   "source": [
    "plt.plot(all_train_error, label = 'Train error')\n",
    "plt.plot(all_test_error, label = 'Test error')\n",
    "plt.ylim(0,0.2)\n",
    "plt.legend()\n",
    "plt.show()"
   ]
  },
  {
   "cell_type": "code",
   "execution_count": null,
   "metadata": {},
   "outputs": [],
   "source": [
    "plt.plot(y_train, label = 'Actual')\n",
    "plt.plot(predicted_train, label = 'predicted')\n",
    "# plt.xlim(400, 550)\n",
    "# plt.ylim(-1, 1)\n",
    "plt.title('Training data')\n",
    "plt.legend()\n",
    "plt.show"
   ]
  },
  {
   "cell_type": "code",
   "execution_count": null,
   "metadata": {},
   "outputs": [],
   "source": [
    "plt.plot(y_test, label = 'Actual')\n",
    "plt.plot(predicted_test, label = 'Predicted')\n",
    "plt.title('Test data')\n",
    "plt.xlabel('Sample')\n",
    "plt.ylabel('Employment percentage change (%)')\n",
    "# plt.ylim(-1, 1)\n",
    "plt.legend()\n",
    "plt.show"
   ]
  },
  {
   "cell_type": "code",
   "execution_count": null,
   "metadata": {},
   "outputs": [],
   "source": [
    "def classify_error(y_predict, y_actual):\n",
    "    assert(len(y_predict) == len(y_actual))\n",
    "    actual_sign = torch.sign(y_actual)\n",
    "    predict_sign = torch.sign(y_predict)\n",
    "    error = torch.sum(torch.abs(actual_sign - predict_sign) )/2 / len(y_actual)\n",
    "    return error"
   ]
  },
  {
   "cell_type": "code",
   "execution_count": null,
   "metadata": {},
   "outputs": [],
   "source": [
    "train_error = classify_error(predicted_train, y_train)\n",
    "test_error = classify_error(predicted_test, y_test)\n",
    "print(f\"training data classification error is {train_error}\")\n",
    "print(f\"test data classification error is {test_error}\")"
   ]
  },
  {
   "cell_type": "code",
   "execution_count": null,
   "metadata": {},
   "outputs": [],
   "source": [
    "from sklearn.metrics import r2_score\n",
    "res = r2_score(y_test, predicted_test)\n",
    "res"
   ]
  },
  {
   "cell_type": "code",
   "execution_count": null,
   "metadata": {},
   "outputs": [],
   "source": [
    "# print(\"Model's state_dict:\")\n",
    "# for param_tensor in model.state_dict():\n",
    "#     print(param_tensor, \"\\t\", model.state_dict()[param_tensor].size())"
   ]
  },
  {
   "cell_type": "code",
   "execution_count": null,
   "metadata": {},
   "outputs": [],
   "source": [
    "# Checking percentage of negative employment change\n",
    "# temp = y_test[y_test < 0]\n",
    "# len(temp)\n",
    "# len(y_test)\n",
    "# len(temp) / len(y_test)"
   ]
  },
  {
   "cell_type": "code",
   "execution_count": null,
   "metadata": {},
   "outputs": [],
   "source": [
    "#save model\n",
    "# torch.save(best_model_state, './sw_rnn_classify_construction_savedmodel.pt')\n",
    "\n",
    "\n",
    "# model_scripted = torch.jit.script(model) # Export to TorchScript\n",
    "# model_scripted.save('model_scripted.pt') # Save"
   ]
  },
  {
   "cell_type": "code",
   "execution_count": null,
   "metadata": {},
   "outputs": [],
   "source": [
    "#load model\n",
    "# model2 = RNN(input_size, hidden_size, num_layers, num_classes).to(device)\n",
    "# model2.load_state_dict(torch.load('./sw_rnn_classify_construction_savedmodel.pt'))\n",
    "# model2.eval()"
   ]
  },
  {
   "cell_type": "code",
   "execution_count": null,
   "metadata": {},
   "outputs": [],
   "source": [
    "# predicted_test2 = model2(X_test)\n",
    "# test_error2 = error_rate(predicted_test2, y_test)\n",
    "# print(f\"Saved model produces test data error =  {test_error2}\")"
   ]
  }
 ],
 "metadata": {
  "kernelspec": {
   "display_name": "Python 3 (ipykernel)",
   "language": "python",
   "name": "python3"
  },
  "language_info": {
   "codemirror_mode": {
    "name": "ipython",
    "version": 3
   },
   "file_extension": ".py",
   "mimetype": "text/x-python",
   "name": "python",
   "nbconvert_exporter": "python",
   "pygments_lexer": "ipython3",
   "version": "3.11.5"
  }
 },
 "nbformat": 4,
 "nbformat_minor": 2
}
