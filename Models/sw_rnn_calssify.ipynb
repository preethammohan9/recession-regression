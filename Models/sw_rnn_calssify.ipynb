{
 "cells": [
  {
   "cell_type": "code",
   "execution_count": null,
   "metadata": {},
   "outputs": [],
   "source": [
    "import matplotlib.pyplot as plt\n",
    "import pandas as pd\n",
    "import numpy as np\n",
    "\n",
    "import torch\n",
    "import torch.nn as nn"
   ]
  },
  {
   "cell_type": "code",
   "execution_count": null,
   "metadata": {},
   "outputs": [],
   "source": [
    "device = 'mps'"
   ]
  },
  {
   "cell_type": "code",
   "execution_count": null,
   "metadata": {},
   "outputs": [],
   "source": [
    "df = pd.read_csv('../Data/Raw/USTotalPrivate.csv')\n",
    "df['DATE'] = pd.to_datetime(df['DATE'])\n",
    "df = df[(df['DATE'] < '2020-04-01') | (df['DATE'] > '2020-08-01')  ]\n",
    "df_diff = df.diff(axis = 0)\n",
    "df_diff['DATE'] = df['DATE']\n",
    "df_diff\n",
    "df_diff.rename(columns = {'USPRIV' : 'Total_priv', 'DATE': 'Month'}, inplace = True)\n",
    "df_diff = df_diff.iloc[1:,:]\n",
    "df = df_diff\n",
    "# df['Total_priv_dir'] = df['Total_priv'].apply(lambda x: 1 if x>=0 else -1) \n",
    "# df = df[['Month', 'Total_priv_dir']]\n",
    "\n",
    "# df.isnull().any().any()\n",
    "# print(df)\n",
    "# plt.plot(df['Month'], df['Total_priv'])"
   ]
  },
  {
   "cell_type": "code",
   "execution_count": null,
   "metadata": {},
   "outputs": [],
   "source": [
    "from copy import deepcopy as dc\n",
    "\n",
    "def prepare_dataframe_for_lstm(df, n_steps):\n",
    "    df = dc(df)\n",
    "    \n",
    "    df.set_index('Month', inplace=True)\n",
    "    \n",
    "    for i in range(1, n_steps + 1):\n",
    "        df[f'Total_priv(t-{i})'] = df['Total_priv'].shift(i)\n",
    "        \n",
    "    df.dropna(inplace=True)\n",
    "    \n",
    "    return df\n",
    "\n",
    "lookback = 7\n",
    "shifted_df = prepare_dataframe_for_lstm(df, lookback)\n",
    "# shifted_df.head(20)"
   ]
  },
  {
   "cell_type": "code",
   "execution_count": null,
   "metadata": {},
   "outputs": [],
   "source": [
    "shifted_df_as_np = shifted_df.to_numpy()\n",
    "\n",
    "# shifted_df_as_np\n",
    "shifted_df_as_np.shape\n",
    "# plt.plot(shifted_df_as_np[:,0])"
   ]
  },
  {
   "cell_type": "code",
   "execution_count": null,
   "metadata": {},
   "outputs": [],
   "source": [
    "# from sklearn.preprocessing import MinMaxScaler\n",
    "\n",
    "# scaler = MinMaxScaler(feature_range=(-1, 1))\n",
    "# shifted_df_as_np = scaler.fit_transform(shifted_df_as_np)\n",
    "\n",
    "# shifted_df_as_np.shape\n",
    "\n",
    "# plt.plot(shifted_df_as_np[:,0])"
   ]
  },
  {
   "cell_type": "code",
   "execution_count": null,
   "metadata": {},
   "outputs": [],
   "source": [
    "X = shifted_df_as_np[:, 1:]\n",
    "y = shifted_df_as_np[:, 0]\n",
    "y_dir = np.sign(y)\n",
    "y_dir[y_dir == -1] = 0\n",
    "X = dc(np.flip(X, axis=1)) # because we want to start from the earliest time)\n",
    "# X\n",
    "\n",
    "X.shape, y_dir.shape\n",
    "# print(X)\n",
    "# print(y_dir)\n",
    "# plt.plot(y_dir)\n"
   ]
  },
  {
   "cell_type": "code",
   "execution_count": null,
   "metadata": {},
   "outputs": [],
   "source": [
    "split_index = int(len(X) * 0.8)\n",
    "# split_index\n",
    "X_train = X[:split_index]\n",
    "X_test = X[split_index:]\n",
    "\n",
    "y_train = y_dir[:split_index]\n",
    "y_test = y_dir[split_index:]\n",
    "\n",
    "X_train.shape, X_test.shape, y_train.shape, y_test.shape\n",
    "# y_test"
   ]
  },
  {
   "cell_type": "code",
   "execution_count": null,
   "metadata": {},
   "outputs": [],
   "source": [
    "#add another dimension in the end for Pytorch LSTM\n",
    "num_classes = 2\n",
    "X_train = X_train.reshape((-1, lookback, 1))\n",
    "X_test = X_test.reshape((-1, lookback, 1))\n",
    "\n",
    "# y_train = y_train.reshape((-1, 1))\n",
    "# y_test = y_test.reshape((-1, 1))\n",
    "\n",
    "\n",
    "\n",
    "X_train.shape, X_test.shape, y_train.shape, y_test.shape"
   ]
  },
  {
   "cell_type": "code",
   "execution_count": null,
   "metadata": {},
   "outputs": [],
   "source": [
    "X_train = torch.tensor(X_train, dtype = torch.float32)\n",
    "y_train = torch.tensor(y_train, dtype = torch.float32)\n",
    "X_test = torch.tensor(X_test, dtype = torch.long)\n",
    "y_test = torch.tensor(y_test, dtype = torch.long)\n",
    "\n",
    "X_train.shape, X_test.shape, y_train.shape, y_test.shape"
   ]
  },
  {
   "cell_type": "code",
   "execution_count": null,
   "metadata": {},
   "outputs": [],
   "source": [
    "from torch.utils.data import Dataset\n",
    "\n",
    "class TimeSeriesDataset(Dataset):\n",
    "    def __init__(self, X, y):\n",
    "        self.X = X\n",
    "        self.y = y\n",
    "\n",
    "    def __len__(self):\n",
    "        return len(self.X)\n",
    "\n",
    "    def __getitem__(self, i):\n",
    "        return self.X[i], self.y[i]\n",
    "    \n",
    "train_dataset = TimeSeriesDataset(X_train, y_train)\n",
    "test_dataset = TimeSeriesDataset(X_test, y_test)"
   ]
  },
  {
   "cell_type": "code",
   "execution_count": null,
   "metadata": {},
   "outputs": [],
   "source": [
    "train_dataset"
   ]
  },
  {
   "cell_type": "code",
   "execution_count": null,
   "metadata": {},
   "outputs": [],
   "source": [
    "#wrap dataset in data loaders to get the batches\n",
    "from torch.utils.data import DataLoader\n",
    "\n",
    "batch_size = 16\n",
    "\n",
    "train_loader = DataLoader(train_dataset, batch_size=batch_size, shuffle=True)\n",
    "test_loader = DataLoader(test_dataset, batch_size=batch_size, shuffle=False)"
   ]
  },
  {
   "cell_type": "code",
   "execution_count": null,
   "metadata": {},
   "outputs": [],
   "source": [
    "for _, batch in enumerate(train_loader):\n",
    "    x_batch, y_batch = batch[0].to(device), batch[1].to(device)\n",
    "    print(x_batch.dtype, y_batch.dtype)\n",
    "    break"
   ]
  },
  {
   "cell_type": "code",
   "execution_count": null,
   "metadata": {},
   "outputs": [],
   "source": [
    "# rnn for classification\n",
    "\n",
    "class RNN(nn.Module):\n",
    "    def __init__(self, input_size, hidden_size, num_layers, num_classes):\n",
    "        super(RNN, self).__init__()\n",
    "        self.num_layers = num_layers\n",
    "        self.hidden_size = hidden_size\n",
    "        self.rnn = nn.RNN(input_size, hidden_size, num_layers, batch_first=True)\n",
    "        # -> x needs to be: (batch_size, seq, input_size)\n",
    "        \n",
    "        # or:\n",
    "        #self.gru = nn.GRU(input_size, hidden_size, num_layers, batch_first=True)\n",
    "        #self.lstm = nn.LSTM(input_size, hidden_size, num_layers, batch_first=True)\n",
    "        self.fc = nn.Linear(hidden_size, num_classes)\n",
    "        self.softmax = nn.LogSoftmax(dim=1)\n",
    "        \n",
    "    def forward(self, x):\n",
    "        # Set initial hidden states (and cell states for LSTM)\n",
    "        h0 = torch.zeros(self.num_layers, x.size(0), self.hidden_size).to(device) \n",
    "        #c0 = torch.zeros(self.num_layers, x.size(0), self.hidden_size).to(device) \n",
    "        \n",
    "        # x: (n, 28, 28), h0: (2, n, 128)\n",
    "        \n",
    "        # Forward propagate RNN\n",
    "        out, _ = self.rnn(x, h0)  \n",
    "        # or:\n",
    "        #out, _ = self.lstm(x, (h0,c0))  \n",
    "        \n",
    "        # out: tensor of shape (batch_size, seq_length, hidden_size)\n",
    "        # out: (n, 28, 128)\n",
    "        \n",
    "        # Decode the hidden state of the last time step\n",
    "        out = out[:, -1, :]\n",
    "        # out: (n, 128)\n",
    "         \n",
    "        out = self.fc(out)\n",
    "        # out: (n, 10)\n",
    "        out = self.softmax(out)\n",
    "        return out\n",
    "    \n",
    "# num_classes = 2\n",
    "num_epochs = 10\n",
    "# batch_size = 16\n",
    "# learning_rate = 0.001\n",
    "\n",
    "input_size = 1\n",
    "# sequence_length = 28\n",
    "hidden_size = 32\n",
    "num_layers = 5\n",
    "\n",
    "model = RNN(input_size, hidden_size, num_layers, num_classes).to(device)"
   ]
  },
  {
   "cell_type": "code",
   "execution_count": null,
   "metadata": {},
   "outputs": [],
   "source": [
    "learning_rate = 0.001\n",
    "num_epochs = 10\n",
    "loss_function = nn.NLLLoss()\n",
    "optimizer = torch.optim.SGD(model.parameters(), lr=learning_rate)"
   ]
  },
  {
   "cell_type": "code",
   "execution_count": null,
   "metadata": {},
   "outputs": [],
   "source": [
    "# class LSTM(nn.Module):\n",
    "#     def __init__(self, input_size, hidden_size, num_stacked_layers):\n",
    "#         super().__init__()\n",
    "#         self.hidden_size = hidden_size\n",
    "#         self.num_stacked_layers = num_stacked_layers\n",
    "\n",
    "#         self.lstm = nn.LSTM(input_size, hidden_size, num_stacked_layers, \n",
    "#                             batch_first=True)\n",
    "        \n",
    "#         self.fc = nn.Linear(hidden_size, 1)\n",
    "\n",
    "#     def forward(self, x):\n",
    "#         batch_size = x.size(0)\n",
    "#         h0 = torch.zeros(self.num_stacked_layers, batch_size, self.hidden_size).to(device)\n",
    "#         c0 = torch.zeros(self.num_stacked_layers, batch_size, self.hidden_size).to(device)\n",
    "        \n",
    "#         out, _ = self.lstm(x, (h0, c0))\n",
    "#         out = self.fc(out[:, -1, :])\n",
    "#         return out\n",
    "\n",
    "# model = LSTM(1, 4, 1)\n",
    "# model.to(device)\n",
    "# model"
   ]
  },
  {
   "cell_type": "code",
   "execution_count": null,
   "metadata": {},
   "outputs": [],
   "source": [
    "def train_one_epoch():\n",
    "    model.train(True)\n",
    "    print(f'Epoch: {epoch + 1}')\n",
    "    running_loss = 0.0\n",
    "    \n",
    "    for batch_index, batch in enumerate(train_loader):\n",
    "        x_batch, y_batch = batch[0].to(device), batch[1].to(device)\n",
    "        # print(y_batch)\n",
    "        \n",
    "        output = model(x_batch)\n",
    "        # print(output)\n",
    "        y_batch = y_batch.long()\n",
    "        loss = loss_function(output, y_batch)\n",
    "        running_loss += loss.item()\n",
    "        \n",
    "        loss.backward()\n",
    "        optimizer.step()\n",
    "        optimizer.zero_grad()\n",
    "\n",
    "        if batch_index % 20 == 19:  # print every 100 batches\n",
    "            avg_loss_across_batches = running_loss / 100\n",
    "            print('Batch {0}, Loss: {1:.3f}'.format(batch_index+1,\n",
    "                                                    avg_loss_across_batches))\n",
    "            running_loss = 0.0\n",
    "    print()"
   ]
  },
  {
   "cell_type": "code",
   "execution_count": null,
   "metadata": {},
   "outputs": [],
   "source": [
    "def validate_one_epoch():\n",
    "    model.train(False) #evaluation mode\n",
    "    running_loss = 0.0\n",
    "    \n",
    "    for batch_index, batch in enumerate(test_loader):\n",
    "        x_batch, y_batch = batch[0].to(device), batch[1].to(device)\n",
    "        x_batch = x_batch.float()\n",
    "        y_batch = y_batch.long()\n",
    "        \n",
    "        with torch.no_grad(): #not calculating gradients because we're not updating model\n",
    "            output = model(x_batch)\n",
    "            loss = loss_function(output, y_batch)\n",
    "            running_loss += loss.item()\n",
    "\n",
    "    avg_loss_across_batches = running_loss / len(test_loader)\n",
    "    \n",
    "    print('Val Loss: {0:.3f}'.format(avg_loss_across_batches))\n",
    "    print('***************************************************')\n",
    "    print()"
   ]
  },
  {
   "cell_type": "code",
   "execution_count": null,
   "metadata": {},
   "outputs": [],
   "source": [
    "# batch= next(iter(train_loader))\n",
    "# X_batch, y_batch = batch[0].to(device), batch[1].to(device)\n",
    "# print(X_batch.shape)\n",
    "# print(y_batch.shape)\n",
    "# output = model(X_batch)\n",
    "# print(output)\n",
    "# print(output.shape)\n",
    "# print(y_batch.shape)\n",
    "# loss_function = nn.NLLLoss()\n",
    "# print(y_batch)\n",
    "# loss = loss_function(output, y_batch)"
   ]
  },
  {
   "cell_type": "code",
   "execution_count": null,
   "metadata": {},
   "outputs": [],
   "source": [
    "for epoch in range(num_epochs):\n",
    "    train_one_epoch()\n",
    "    validate_one_epoch()"
   ]
  },
  {
   "cell_type": "code",
   "execution_count": null,
   "metadata": {},
   "outputs": [],
   "source": [
    "with torch.no_grad():\n",
    "    predicted = model(X_train.to(device)).to('cpu').numpy()\n",
    "# print(predicted)\n",
    "# print(type(predicted))\n",
    "max_ind = np.argmax(predicted, axis = 1)\n",
    "# print(max_ind.shape)\n",
    "# print(max_ind)\n",
    "# print(type(y_train))\n",
    "# print(y_train)\n",
    "# print(max_ind)\n",
    "error = np.sum(abs(y_train.numpy() - max_ind)) / len(max_ind)\n",
    "# print(error)\n",
    "print(f\"training data error is {error}\")\n",
    "\n",
    "# plt.plot(y_train, label='Actual Close')\n",
    "# plt.plot(max_ind, label='Predicted Close')\n",
    "# plt.xlabel('Month')\n",
    "# plt.ylabel('Total private employment')\n",
    "# plt.legend()\n",
    "# plt.show()"
   ]
  },
  {
   "cell_type": "code",
   "execution_count": null,
   "metadata": {},
   "outputs": [],
   "source": [
    "with torch.no_grad():\n",
    "    predicted = model(X_test.to(device)).to('cpu').numpy()\n",
    "# print(predicted)\n",
    "# print(type(predicted))\n",
    "max_ind = np.argmax(predicted, axis = 1)\n",
    "# print(max_ind.shape)\n",
    "# print(max_ind)\n",
    "# print(type(y_train))\n",
    "# print(y_train)\n",
    "# print(max_ind)\n",
    "error = np.sum(abs(y_test.numpy() - max_ind)) / len(max_ind)\n",
    "# print(error)\n",
    "print(f\"test data error is {error}\")"
   ]
  },
  {
   "cell_type": "code",
   "execution_count": null,
   "metadata": {},
   "outputs": [],
   "source": [
    "# train_predictions = predicted.flatten()\n",
    "\n",
    "# #get the original scale\n",
    "# dummies = np.zeros((X_train.shape[0], lookback+1))\n",
    "# dummies[:, 0] = train_predictions\n",
    "# dummies = scaler.inverse_transform(dummies)\n",
    "\n",
    "# train_predictions = dc(dummies[:, 0])\n",
    "# # train_predictions"
   ]
  },
  {
   "cell_type": "code",
   "execution_count": null,
   "metadata": {},
   "outputs": [],
   "source": [
    "# dummies = np.zeros((X_train.shape[0], lookback+1))\n",
    "# dummies[:, 0] = y_train.flatten()\n",
    "# dummies = scaler.inverse_transform(dummies)\n",
    "\n",
    "# new_y_train = dc(dummies[:, 0])\n",
    "# # new_y_train"
   ]
  },
  {
   "cell_type": "code",
   "execution_count": null,
   "metadata": {},
   "outputs": [],
   "source": [
    "# plt.plot(y_train, label='Actual')\n",
    "# plt.plot(train_predictions, label='Predicted')\n",
    "# plt.xlabel('Month')\n",
    "# plt.ylabel('Total private')\n",
    "# plt.title('Training data')\n",
    "# plt.legend()\n",
    "# plt.show()"
   ]
  },
  {
   "cell_type": "code",
   "execution_count": null,
   "metadata": {},
   "outputs": [],
   "source": [
    "# test_predictions = model(X_test.to(device)).detach().cpu().numpy().flatten()\n",
    "\n",
    "# dummies = np.zeros((X_test.shape[0], lookback+1))\n",
    "# dummies[:, 0] = test_predictions\n",
    "# dummies = scaler.inverse_transform(dummies)\n",
    "\n",
    "# test_predictions = dc(dummies[:, 0])\n",
    "# # test_predictions"
   ]
  },
  {
   "cell_type": "code",
   "execution_count": null,
   "metadata": {},
   "outputs": [],
   "source": [
    "# dummies = np.zeros((X_test.shape[0], lookback+1))\n",
    "# dummies[:, 0] = y_test.flatten()\n",
    "# dummies = scaler.inverse_transform(dummies)\n",
    "\n",
    "# new_y_test = dc(dummies[:, 0])\n",
    "# new_y_test"
   ]
  },
  {
   "cell_type": "code",
   "execution_count": null,
   "metadata": {},
   "outputs": [],
   "source": [
    "# plt.plot(new_y_test, label='Actual')\n",
    "# plt.plot(test_predictions, label='Predicted')\n",
    "# plt.xlabel('Month')\n",
    "# plt.ylabel('Total private')\n",
    "# plt.title('Testing data')\n",
    "# plt.legend()\n",
    "# plt.show()"
   ]
  }
 ],
 "metadata": {
  "kernelspec": {
   "display_name": "base",
   "language": "python",
   "name": "python3"
  },
  "language_info": {
   "codemirror_mode": {
    "name": "ipython",
    "version": 3
   },
   "file_extension": ".py",
   "mimetype": "text/x-python",
   "name": "python",
   "nbconvert_exporter": "python",
   "pygments_lexer": "ipython3",
   "version": "3.11.5"
  }
 },
 "nbformat": 4,
 "nbformat_minor": 2
}
