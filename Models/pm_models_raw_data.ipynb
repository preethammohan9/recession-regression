{
 "cells": [
  {
   "cell_type": "code",
   "execution_count": 1,
   "id": "initial_id",
   "metadata": {
    "collapsed": true,
    "ExecuteTime": {
     "end_time": "2023-11-29T11:56:17.583130Z",
     "start_time": "2023-11-29T11:56:16.059575Z"
    }
   },
   "outputs": [],
   "source": [
    "import pandas as pd\n",
    "import numpy as np\n",
    "import scipy.optimize as optimize\n",
    "import os\n",
    "import sys\n",
    "import collections\n",
    "import itertools\n",
    "import matplotlib.pyplot as plt\n",
    "import torch\n",
    "from sklearn.model_selection import train_test_split\n",
    "from sklearn.linear_model import LinearRegression\n",
    "from sklearn.linear_model import LogisticRegression\n",
    "from sklearn.tree import DecisionTreeClassifier\n",
    "from sklearn.svm import SVC\n",
    "from scipy.spatial import distance\n",
    "from sklearn.neighbors import KNeighborsClassifier\n",
    "from sklearn.model_selection import GridSearchCV\n",
    "from sklearn.metrics import classification_report\n",
    "import sklearn.metrics\n",
    "from scipy.stats import mode\n",
    "from scipy.spatial.distance import squareform\n",
    "from fastdtw import fastdtw\n",
    "from sklearn.neighbors import KNeighborsClassifier\n",
    "from sklearn.metrics import accuracy_score\n",
    "from sklearn.naive_bayes import GaussianNB\n",
    "from sklearn.metrics import classification_report\n",
    "from sklearn.ensemble import RandomForestClassifier"
   ]
  },
  {
   "cell_type": "markdown",
   "source": [
    "# Data Cleaning (from raw) -- longer time horizon"
   ],
   "metadata": {
    "collapsed": false
   },
   "id": "3c8f173ff5589251"
  },
  {
   "cell_type": "code",
   "execution_count": 2,
   "outputs": [],
   "source": [
    "gdp = pd.read_csv('../Data/Raw/input/GDP.csv')\n",
    "ffer = pd.read_csv('../Data/Raw/input/FEDFUNDS.csv')\n",
    "cpi = pd.read_csv('../Data/Raw/input/CPIAUCSL.csv')"
   ],
   "metadata": {
    "collapsed": false,
    "ExecuteTime": {
     "end_time": "2023-11-29T11:56:17.593503Z",
     "start_time": "2023-11-29T11:56:17.583935Z"
    }
   },
   "id": "b23db7c691bc2ba3"
  },
  {
   "cell_type": "code",
   "execution_count": 3,
   "outputs": [
    {
     "name": "stdout",
     "output_type": "stream",
     "text": [
      "DATE       datetime64[ns]\n",
      "GDP_PCH           float64\n",
      "dtype: object\n",
      "int64 int64 float64\n",
      "Original Quarterly Data:\n",
      "          DATE  GDP_PCH\n",
      "0   1947-04-01  1.15313\n",
      "1   1947-07-01  1.47052\n",
      "2   1947-10-01  4.07076\n",
      "3   1948-01-01  2.30880\n",
      "4   1948-04-01  2.56828\n",
      "..         ...      ...\n",
      "301 2022-07-01  1.76308\n",
      "302 2022-10-01  1.59174\n",
      "303 2023-01-01  1.53434\n",
      "304 2023-04-01  0.93017\n",
      "305 2023-07-01  2.07121\n",
      "\n",
      "[306 rows x 2 columns]\n",
      "\n",
      "Monthly Data with Linear Interpolation:\n",
      "          DATE   GDP_PCH\n",
      "0   1947-04-01  1.153130\n",
      "1   1947-05-01  1.257764\n",
      "2   1947-06-01  1.365886\n",
      "3   1947-07-01  1.470520\n",
      "4   1947-08-01  2.346688\n",
      "..         ...       ...\n",
      "911 2023-03-01  1.138273\n",
      "912 2023-04-01  0.930170\n",
      "913 2023-05-01  1.306337\n",
      "914 2023-06-01  1.695043\n",
      "915 2023-07-01  2.071210\n",
      "\n",
      "[916 rows x 2 columns]\n"
     ]
    }
   ],
   "source": [
    "# Linear interpolation for GDP data\n",
    "gdp['DATE'] = pd.to_datetime(gdp['DATE'])\n",
    "print(gdp.dtypes)\n",
    "\n",
    "timestamps_quarterly = gdp['DATE'].astype(np.int64)\n",
    "timestamps_monthly = pd.date_range(start=timestamps_quarterly.min(), end=timestamps_quarterly.max(), freq='MS').astype(np.int64)\n",
    "gdp_quarterly = np.array(gdp['GDP_PCH'])\n",
    "\n",
    "print(timestamps_quarterly.dtype, timestamps_monthly.dtype, gdp_quarterly.dtype)\n",
    "\n",
    "gdp_monthly = np.interp(timestamps_monthly, timestamps_quarterly, gdp_quarterly)\n",
    "\n",
    "timestamps_monthly = pd.to_datetime(timestamps_monthly)\n",
    "\n",
    "df_interpolated_gdp = pd.DataFrame({'DATE': timestamps_monthly, 'GDP_PCH': gdp_monthly})\n",
    "\n",
    "print(\"Original Quarterly Data:\")\n",
    "print(gdp[['DATE', 'GDP_PCH']])\n",
    "print(\"\\nMonthly Data with Linear Interpolation:\")\n",
    "print(df_interpolated_gdp)"
   ],
   "metadata": {
    "collapsed": false,
    "ExecuteTime": {
     "end_time": "2023-11-29T11:56:17.624187Z",
     "start_time": "2023-11-29T11:56:17.591924Z"
    }
   },
   "id": "dbbe189afecf772e"
  },
  {
   "cell_type": "code",
   "execution_count": 4,
   "outputs": [],
   "source": [
    "ffer['DATE'] = pd.to_datetime(ffer['DATE'])\n",
    "cpi['DATE'] = pd.to_datetime(cpi['DATE'])\n"
   ],
   "metadata": {
    "collapsed": false,
    "ExecuteTime": {
     "end_time": "2023-11-29T11:56:17.628707Z",
     "start_time": "2023-11-29T11:56:17.604891Z"
    }
   },
   "id": "e5b7ab16653cb3bf"
  },
  {
   "cell_type": "code",
   "execution_count": 5,
   "outputs": [],
   "source": [
    "input_data = pd.merge(df_interpolated_gdp, ffer, on='DATE', how='inner')\n",
    "input_data = pd.merge(input_data, cpi, on='DATE', how='inner')"
   ],
   "metadata": {
    "collapsed": false,
    "ExecuteTime": {
     "end_time": "2023-11-29T11:56:17.629713Z",
     "start_time": "2023-11-29T11:56:17.608418Z"
    }
   },
   "id": "3cd4d4c9b9b73d66"
  },
  {
   "cell_type": "code",
   "execution_count": 6,
   "outputs": [
    {
     "data": {
      "text/plain": "          DATE   GDP_PCH  FEDFUNDS  CPIAUCSL_PC1\n0   1954-07-01  1.262560      0.80       0.26129\n1   1954-08-01  1.590166      1.22       0.00000\n2   1954-09-01  1.917772      1.07      -0.29751\n3   1954-10-01  2.234810      0.85      -0.85343\n4   1954-11-01  2.606190      0.83      -0.26071\n..         ...       ...       ...           ...\n824 2023-03-01  1.138273      4.65       4.98692\n825 2023-04-01  0.930170      4.83       4.95719\n826 2023-05-01  1.306337      5.06       4.12884\n827 2023-06-01  1.695043      5.08       3.09200\n828 2023-07-01  2.071210      5.12       3.29908\n\n[829 rows x 4 columns]",
      "text/html": "<div>\n<style scoped>\n    .dataframe tbody tr th:only-of-type {\n        vertical-align: middle;\n    }\n\n    .dataframe tbody tr th {\n        vertical-align: top;\n    }\n\n    .dataframe thead th {\n        text-align: right;\n    }\n</style>\n<table border=\"1\" class=\"dataframe\">\n  <thead>\n    <tr style=\"text-align: right;\">\n      <th></th>\n      <th>DATE</th>\n      <th>GDP_PCH</th>\n      <th>FEDFUNDS</th>\n      <th>CPIAUCSL_PC1</th>\n    </tr>\n  </thead>\n  <tbody>\n    <tr>\n      <th>0</th>\n      <td>1954-07-01</td>\n      <td>1.262560</td>\n      <td>0.80</td>\n      <td>0.26129</td>\n    </tr>\n    <tr>\n      <th>1</th>\n      <td>1954-08-01</td>\n      <td>1.590166</td>\n      <td>1.22</td>\n      <td>0.00000</td>\n    </tr>\n    <tr>\n      <th>2</th>\n      <td>1954-09-01</td>\n      <td>1.917772</td>\n      <td>1.07</td>\n      <td>-0.29751</td>\n    </tr>\n    <tr>\n      <th>3</th>\n      <td>1954-10-01</td>\n      <td>2.234810</td>\n      <td>0.85</td>\n      <td>-0.85343</td>\n    </tr>\n    <tr>\n      <th>4</th>\n      <td>1954-11-01</td>\n      <td>2.606190</td>\n      <td>0.83</td>\n      <td>-0.26071</td>\n    </tr>\n    <tr>\n      <th>...</th>\n      <td>...</td>\n      <td>...</td>\n      <td>...</td>\n      <td>...</td>\n    </tr>\n    <tr>\n      <th>824</th>\n      <td>2023-03-01</td>\n      <td>1.138273</td>\n      <td>4.65</td>\n      <td>4.98692</td>\n    </tr>\n    <tr>\n      <th>825</th>\n      <td>2023-04-01</td>\n      <td>0.930170</td>\n      <td>4.83</td>\n      <td>4.95719</td>\n    </tr>\n    <tr>\n      <th>826</th>\n      <td>2023-05-01</td>\n      <td>1.306337</td>\n      <td>5.06</td>\n      <td>4.12884</td>\n    </tr>\n    <tr>\n      <th>827</th>\n      <td>2023-06-01</td>\n      <td>1.695043</td>\n      <td>5.08</td>\n      <td>3.09200</td>\n    </tr>\n    <tr>\n      <th>828</th>\n      <td>2023-07-01</td>\n      <td>2.071210</td>\n      <td>5.12</td>\n      <td>3.29908</td>\n    </tr>\n  </tbody>\n</table>\n<p>829 rows × 4 columns</p>\n</div>"
     },
     "execution_count": 6,
     "metadata": {},
     "output_type": "execute_result"
    }
   ],
   "source": [
    "input_data"
   ],
   "metadata": {
    "collapsed": false,
    "ExecuteTime": {
     "end_time": "2023-11-29T11:56:17.630020Z",
     "start_time": "2023-11-29T11:56:17.614331Z"
    }
   },
   "id": "17057b3114752868"
  },
  {
   "cell_type": "code",
   "execution_count": 7,
   "outputs": [],
   "source": [
    "# output_data = pd.read_csv('../Data/Raw/output/UNRATE.csv')\n",
    "# output_data\n",
    "# output_data['DATE'] = pd.to_datetime(output_data['DATE'])\n",
    "# output_data['UNRATE_ADDCH'] = output_data['UNRATE'].diff()"
   ],
   "metadata": {
    "collapsed": false,
    "ExecuteTime": {
     "end_time": "2023-11-29T11:56:17.630053Z",
     "start_time": "2023-11-29T11:56:17.618556Z"
    }
   },
   "id": "da21af3970439e39"
  },
  {
   "cell_type": "code",
   "execution_count": 8,
   "outputs": [],
   "source": [
    "output_data = pd.read_csv('../Data/Raw/output/USPRIV.csv')\n",
    "output_data['DATE'] = pd.to_datetime(output_data['DATE'])"
   ],
   "metadata": {
    "collapsed": false,
    "ExecuteTime": {
     "end_time": "2023-11-29T11:56:17.630082Z",
     "start_time": "2023-11-29T11:56:17.620706Z"
    }
   },
   "id": "de9a86d3f485c16a"
  },
  {
   "cell_type": "code",
   "execution_count": 9,
   "outputs": [
    {
     "data": {
      "text/plain": "           DATE  USPRIV_PCH\n0    1939-02-01     0.63235\n1    1939-03-01     0.68585\n2    1939-04-01    -0.70782\n3    1939-05-01     0.77035\n4    1939-06-01     0.78348\n...         ...         ...\n1012 2023-06-01     0.06450\n1013 2023-07-01     0.10867\n1014 2023-08-01     0.08535\n1015 2023-09-01     0.18401\n1016 2023-10-01     0.07392\n\n[1017 rows x 2 columns]",
      "text/html": "<div>\n<style scoped>\n    .dataframe tbody tr th:only-of-type {\n        vertical-align: middle;\n    }\n\n    .dataframe tbody tr th {\n        vertical-align: top;\n    }\n\n    .dataframe thead th {\n        text-align: right;\n    }\n</style>\n<table border=\"1\" class=\"dataframe\">\n  <thead>\n    <tr style=\"text-align: right;\">\n      <th></th>\n      <th>DATE</th>\n      <th>USPRIV_PCH</th>\n    </tr>\n  </thead>\n  <tbody>\n    <tr>\n      <th>0</th>\n      <td>1939-02-01</td>\n      <td>0.63235</td>\n    </tr>\n    <tr>\n      <th>1</th>\n      <td>1939-03-01</td>\n      <td>0.68585</td>\n    </tr>\n    <tr>\n      <th>2</th>\n      <td>1939-04-01</td>\n      <td>-0.70782</td>\n    </tr>\n    <tr>\n      <th>3</th>\n      <td>1939-05-01</td>\n      <td>0.77035</td>\n    </tr>\n    <tr>\n      <th>4</th>\n      <td>1939-06-01</td>\n      <td>0.78348</td>\n    </tr>\n    <tr>\n      <th>...</th>\n      <td>...</td>\n      <td>...</td>\n    </tr>\n    <tr>\n      <th>1012</th>\n      <td>2023-06-01</td>\n      <td>0.06450</td>\n    </tr>\n    <tr>\n      <th>1013</th>\n      <td>2023-07-01</td>\n      <td>0.10867</td>\n    </tr>\n    <tr>\n      <th>1014</th>\n      <td>2023-08-01</td>\n      <td>0.08535</td>\n    </tr>\n    <tr>\n      <th>1015</th>\n      <td>2023-09-01</td>\n      <td>0.18401</td>\n    </tr>\n    <tr>\n      <th>1016</th>\n      <td>2023-10-01</td>\n      <td>0.07392</td>\n    </tr>\n  </tbody>\n</table>\n<p>1017 rows × 2 columns</p>\n</div>"
     },
     "execution_count": 9,
     "metadata": {},
     "output_type": "execute_result"
    }
   ],
   "source": [
    "output_data"
   ],
   "metadata": {
    "collapsed": false,
    "ExecuteTime": {
     "end_time": "2023-11-29T11:56:17.630600Z",
     "start_time": "2023-11-29T11:56:17.624270Z"
    }
   },
   "id": "ff9590fc0d4317c7"
  },
  {
   "cell_type": "code",
   "execution_count": 10,
   "outputs": [],
   "source": [
    "output_data = output_data.drop(0).reset_index(drop=True)"
   ],
   "metadata": {
    "collapsed": false,
    "ExecuteTime": {
     "end_time": "2023-11-29T11:56:17.633673Z",
     "start_time": "2023-11-29T11:56:17.628686Z"
    }
   },
   "id": "2f8b47ca896845b0"
  },
  {
   "cell_type": "code",
   "execution_count": 11,
   "outputs": [
    {
     "data": {
      "text/plain": "          DATE  USPRIV_PCH\n0   1954-07-01    -0.19501\n1   1954-08-01    -0.07863\n2   1954-09-01     0.13831\n3   1954-10-01     0.11907\n4   1954-11-01     0.41387\n..         ...         ...\n824 2023-03-01     0.11827\n825 2023-04-01     0.13468\n826 2023-05-01     0.19161\n827 2023-06-01     0.06450\n828 2023-07-01     0.10867\n\n[829 rows x 2 columns]",
      "text/html": "<div>\n<style scoped>\n    .dataframe tbody tr th:only-of-type {\n        vertical-align: middle;\n    }\n\n    .dataframe tbody tr th {\n        vertical-align: top;\n    }\n\n    .dataframe thead th {\n        text-align: right;\n    }\n</style>\n<table border=\"1\" class=\"dataframe\">\n  <thead>\n    <tr style=\"text-align: right;\">\n      <th></th>\n      <th>DATE</th>\n      <th>USPRIV_PCH</th>\n    </tr>\n  </thead>\n  <tbody>\n    <tr>\n      <th>0</th>\n      <td>1954-07-01</td>\n      <td>-0.19501</td>\n    </tr>\n    <tr>\n      <th>1</th>\n      <td>1954-08-01</td>\n      <td>-0.07863</td>\n    </tr>\n    <tr>\n      <th>2</th>\n      <td>1954-09-01</td>\n      <td>0.13831</td>\n    </tr>\n    <tr>\n      <th>3</th>\n      <td>1954-10-01</td>\n      <td>0.11907</td>\n    </tr>\n    <tr>\n      <th>4</th>\n      <td>1954-11-01</td>\n      <td>0.41387</td>\n    </tr>\n    <tr>\n      <th>...</th>\n      <td>...</td>\n      <td>...</td>\n    </tr>\n    <tr>\n      <th>824</th>\n      <td>2023-03-01</td>\n      <td>0.11827</td>\n    </tr>\n    <tr>\n      <th>825</th>\n      <td>2023-04-01</td>\n      <td>0.13468</td>\n    </tr>\n    <tr>\n      <th>826</th>\n      <td>2023-05-01</td>\n      <td>0.19161</td>\n    </tr>\n    <tr>\n      <th>827</th>\n      <td>2023-06-01</td>\n      <td>0.06450</td>\n    </tr>\n    <tr>\n      <th>828</th>\n      <td>2023-07-01</td>\n      <td>0.10867</td>\n    </tr>\n  </tbody>\n</table>\n<p>829 rows × 2 columns</p>\n</div>"
     },
     "execution_count": 11,
     "metadata": {},
     "output_type": "execute_result"
    }
   ],
   "source": [
    "output_data = output_data[output_data['DATE'] >= input_data['DATE'].min()].reset_index(drop=True)\n",
    "output_data = output_data[output_data['DATE'] <= input_data['DATE'].max()]\n",
    "output_data"
   ],
   "metadata": {
    "collapsed": false,
    "ExecuteTime": {
     "end_time": "2023-11-29T11:56:17.646711Z",
     "start_time": "2023-11-29T11:56:17.631702Z"
    }
   },
   "id": "c87472e7de39c6f4"
  },
  {
   "cell_type": "code",
   "execution_count": 12,
   "outputs": [
    {
     "data": {
      "text/plain": "0     -0.19501\n1     -0.07863\n2      0.13831\n3      0.11907\n4      0.41387\n        ...   \n824    0.11827\n825    0.13468\n826    0.19161\n827    0.06450\n828    0.10867\nName: USPRIV_PCH, Length: 829, dtype: float64"
     },
     "execution_count": 12,
     "metadata": {},
     "output_type": "execute_result"
    }
   ],
   "source": [
    "output_data.iloc[:,1]"
   ],
   "metadata": {
    "collapsed": false,
    "ExecuteTime": {
     "end_time": "2023-11-29T11:56:17.646977Z",
     "start_time": "2023-11-29T11:56:17.637332Z"
    }
   },
   "id": "b85823f60f26372"
  },
  {
   "cell_type": "code",
   "execution_count": 13,
   "outputs": [],
   "source": [
    "# add lag variables to input data\n",
    "# input_data['UNRATE_ADDCH_lag_1'] = output_data['UNRATE_ADDCH'].shift(1)\n",
    "# input_data['UNRATE_ADDCH_lag_2'] = output_data['UNRATE_ADDCH'].shift(2)\n",
    "# input_data = input_data.fillna(0)"
   ],
   "metadata": {
    "collapsed": false,
    "ExecuteTime": {
     "end_time": "2023-11-29T11:56:17.647012Z",
     "start_time": "2023-11-29T11:56:17.639371Z"
    }
   },
   "id": "16bbff5ad40716da"
  },
  {
   "cell_type": "code",
   "execution_count": 14,
   "outputs": [],
   "source": [
    "input_data['USPRIV_PCH_lag_1'] = output_data['USPRIV_PCH'].shift(1)\n",
    "input_data['USPRIV_PCH_lag_2'] = output_data['USPRIV_PCH'].shift(2)\n",
    "input_data = input_data.fillna(0)"
   ],
   "metadata": {
    "collapsed": false,
    "ExecuteTime": {
     "end_time": "2023-11-29T11:56:17.660417Z",
     "start_time": "2023-11-29T11:56:17.644326Z"
    }
   },
   "id": "60cbc926b25212b6"
  },
  {
   "cell_type": "markdown",
   "source": [
    "# Linear Regression"
   ],
   "metadata": {
    "collapsed": false
   },
   "id": "8fe69e8188f27259"
  },
  {
   "cell_type": "code",
   "execution_count": 15,
   "outputs": [
    {
     "data": {
      "text/plain": "0.2210452166074477"
     },
     "execution_count": 15,
     "metadata": {},
     "output_type": "execute_result"
    }
   ],
   "source": [
    "X = input_data.iloc[:,1:]\n",
    "y = output_data.iloc[:,1] # y = output_data.iloc[:,2] for UNRATE_ADDCH\n",
    "X_train, X_test, y_train, y_test = train_test_split(X, y, test_size=0.3, random_state=0)\n",
    "model = LinearRegression()\n",
    "model.fit(X_train, y_train)\n",
    "pred = model.predict(X_test)\n",
    "model.score(X_test, y_test)"
   ],
   "metadata": {
    "collapsed": false,
    "ExecuteTime": {
     "end_time": "2023-11-29T11:56:17.709465Z",
     "start_time": "2023-11-29T11:56:17.647639Z"
    }
   },
   "id": "375592297dffd28"
  },
  {
   "cell_type": "code",
   "execution_count": 16,
   "outputs": [
    {
     "data": {
      "text/plain": "0.7751004016064257"
     },
     "execution_count": 16,
     "metadata": {},
     "output_type": "execute_result"
    }
   ],
   "source": [
    "pred_sign = np.sign(pred)\n",
    "y_test_sign = np.sign(y_test)\n",
    "classification_accuracy = 1 - 0.5 * np.sum(np.abs(pred_sign - y_test_sign)) / np.size(y_test_sign)\n",
    "classification_accuracy"
   ],
   "metadata": {
    "collapsed": false,
    "ExecuteTime": {
     "end_time": "2023-11-29T11:56:17.709659Z",
     "start_time": "2023-11-29T11:56:17.654264Z"
    }
   },
   "id": "6d93238f084cf5e5"
  },
  {
   "cell_type": "code",
   "execution_count": 17,
   "outputs": [
    {
     "data": {
      "text/plain": "0.7913793103448276"
     },
     "execution_count": 17,
     "metadata": {},
     "output_type": "execute_result"
    }
   ],
   "source": [
    "pred_train = model.predict(X_train)\n",
    "pred_train_sign = np.sign(pred_train)\n",
    "y_train_sign = np.sign(y_train)\n",
    "train_accuracy = 1 - 0.5*np.sum(np.abs(pred_train_sign - y_train_sign))/np.size(y_train_sign)\n",
    "train_accuracy # train accuracy for classification via linear regression"
   ],
   "metadata": {
    "collapsed": false,
    "ExecuteTime": {
     "end_time": "2023-11-29T11:56:17.709743Z",
     "start_time": "2023-11-29T11:56:17.657223Z"
    }
   },
   "id": "59098527dd2aa239"
  },
  {
   "cell_type": "markdown",
   "source": [
    "# Logistic Regression"
   ],
   "metadata": {
    "collapsed": false
   },
   "id": "165b29752d82ff45"
  },
  {
   "cell_type": "code",
   "execution_count": 18,
   "outputs": [
    {
     "data": {
      "text/plain": "0.8232931726907631"
     },
     "execution_count": 18,
     "metadata": {},
     "output_type": "execute_result"
    }
   ],
   "source": [
    "X = input_data.iloc[:,1:]\n",
    "y = output_data.iloc[:,1]\n",
    "y = np.sign(y)\n",
    "X_train, X_test, y_train, y_test = train_test_split(X, y, test_size=0.3, random_state=0)\n",
    "model = LogisticRegression()\n",
    "model.fit(X_train, y_train)\n",
    "model.score(X_test, y_test)  # test accuracy (boolean labels)"
   ],
   "metadata": {
    "collapsed": false,
    "ExecuteTime": {
     "end_time": "2023-11-29T11:56:17.732405Z",
     "start_time": "2023-11-29T11:56:17.661114Z"
    }
   },
   "id": "5a1c6bd7fa8a28a7"
  },
  {
   "cell_type": "markdown",
   "source": [
    "# Decision Tree Classifier"
   ],
   "metadata": {
    "collapsed": false
   },
   "id": "f1de06e271395f79"
  },
  {
   "cell_type": "code",
   "execution_count": 19,
   "outputs": [
    {
     "data": {
      "text/plain": "0.891566265060241"
     },
     "execution_count": 19,
     "metadata": {},
     "output_type": "execute_result"
    }
   ],
   "source": [
    "X = input_data.iloc[:,1:]\n",
    "y = output_data.iloc[:,1]\n",
    "y = np.sign(y)\n",
    "X_train, X_test, y_train, y_test = train_test_split(X, y, test_size=0.3, random_state=0)\n",
    "model = DecisionTreeClassifier()\n",
    "model.fit(X_train, y_train)\n",
    "model.score(X_test, y_test)  # test accuracy (boolean labels)"
   ],
   "metadata": {
    "collapsed": false,
    "ExecuteTime": {
     "end_time": "2023-11-29T11:56:17.732652Z",
     "start_time": "2023-11-29T11:56:17.669091Z"
    }
   },
   "id": "3125f86959681242"
  },
  {
   "cell_type": "markdown",
   "source": [
    "# SVM Classifier"
   ],
   "metadata": {
    "collapsed": false
   },
   "id": "cbf89a15753b2bce"
  },
  {
   "cell_type": "code",
   "execution_count": 20,
   "outputs": [
    {
     "data": {
      "text/plain": "0.8353413654618473"
     },
     "execution_count": 20,
     "metadata": {},
     "output_type": "execute_result"
    }
   ],
   "source": [
    "X = input_data.iloc[:,1:]\n",
    "y = output_data.iloc[:,1]\n",
    "y = np.sign(y)\n",
    "X_train, X_test, y_train, y_test = train_test_split(X, y, test_size=0.3, random_state=0)\n",
    "model = SVC()\n",
    "model.fit(X_train, y_train)\n",
    "model.score(X_test, y_test)  # test accuracy (boolean labels)"
   ],
   "metadata": {
    "collapsed": false,
    "ExecuteTime": {
     "end_time": "2023-11-29T11:56:17.792770Z",
     "start_time": "2023-11-29T11:56:17.676426Z"
    }
   },
   "id": "b814b651af2e5018"
  },
  {
   "cell_type": "markdown",
   "source": [
    "# KNN (with dynamic time warping)"
   ],
   "metadata": {
    "collapsed": false
   },
   "id": "f840dd93eec90bc8"
  },
  {
   "cell_type": "code",
   "execution_count": 21,
   "outputs": [
    {
     "name": "stdout",
     "output_type": "stream",
     "text": [
      "Accuracy: 0.8995983935742972\n"
     ]
    }
   ],
   "source": [
    "from fastdtw import fastdtw\n",
    "from sklearn.neighbors import KNeighborsClassifier\n",
    "from sklearn.metrics import accuracy_score\n",
    "\n",
    "def calculate_dtw(series1, series2):\n",
    "    distance_dtw, _ = fastdtw(series1, series2)\n",
    "    return distance_dtw\n",
    "\n",
    "X_train, X_test, y_train, y_test = train_test_split(X, y, test_size=0.3, random_state=0)\n",
    "\n",
    "knn_model = KNeighborsClassifier(n_neighbors=4, metric=calculate_dtw)\n",
    "knn_model.fit(X_train, y_train)\n",
    "y_pred = knn_model.predict(X_test)\n",
    "accuracy = accuracy_score(y_test, y_pred)\n",
    "print(f'Accuracy: {accuracy}')"
   ],
   "metadata": {
    "collapsed": false,
    "ExecuteTime": {
     "end_time": "2023-11-29T11:56:24.083291Z",
     "start_time": "2023-11-29T11:56:17.686855Z"
    }
   },
   "id": "c37fb25f08a61877"
  },
  {
   "cell_type": "markdown",
   "source": [
    "# Naive Bayes"
   ],
   "metadata": {
    "collapsed": false
   },
   "id": "6c8b58bfc76fc13e"
  },
  {
   "cell_type": "code",
   "execution_count": 22,
   "outputs": [
    {
     "name": "stdout",
     "output_type": "stream",
     "text": [
      "Accuracy: 0.8473895582329317\n",
      "Classification Report:\n",
      "              precision    recall  f1-score   support\n",
      "\n",
      "           0       0.67      0.59      0.63        54\n",
      "           1       0.89      0.92      0.90       195\n",
      "\n",
      "    accuracy                           0.85       249\n",
      "   macro avg       0.78      0.76      0.77       249\n",
      "weighted avg       0.84      0.85      0.84       249\n"
     ]
    }
   ],
   "source": [
    "from sklearn.naive_bayes import GaussianNB\n",
    "from sklearn.metrics import classification_report\n",
    "\n",
    "y_labels = (y > 0).astype(int)\n",
    "\n",
    "X_train, X_test, y_train, y_test = train_test_split(X, y_labels, test_size=0.3, random_state=0)\n",
    "nb_classifier = GaussianNB()\n",
    "nb_classifier.fit(X_train, y_train)\n",
    "y_pred = nb_classifier.predict(X_test)\n",
    "accuracy = accuracy_score(y_test, y_pred)\n",
    "print(f'Accuracy: {accuracy}')\n",
    "\n",
    "# Display classification report\n",
    "print(\"Classification Report:\")\n",
    "print(classification_report(y_test, y_pred))"
   ],
   "metadata": {
    "collapsed": false,
    "ExecuteTime": {
     "end_time": "2023-11-29T11:56:24.095013Z",
     "start_time": "2023-11-29T11:56:24.085592Z"
    }
   },
   "id": "309533f14ead1793"
  },
  {
   "cell_type": "markdown",
   "source": [
    "# Random Forest"
   ],
   "metadata": {
    "collapsed": false
   },
   "id": "f19b1caec92d46e2"
  },
  {
   "cell_type": "code",
   "execution_count": 23,
   "outputs": [
    {
     "name": "stdout",
     "output_type": "stream",
     "text": [
      "Accuracy: 0.8674698795180723\n",
      "Classification Report:\n",
      "              precision    recall  f1-score   support\n",
      "\n",
      "        -1.0       0.75      0.57      0.65        53\n",
      "         1.0       0.89      0.95      0.92       196\n",
      "\n",
      "    accuracy                           0.87       249\n",
      "   macro avg       0.82      0.76      0.78       249\n",
      "weighted avg       0.86      0.87      0.86       249\n"
     ]
    }
   ],
   "source": [
    "from sklearn.ensemble import RandomForestClassifier\n",
    "\n",
    "y_sign = np.sign(y)\n",
    "\n",
    "X_train, X_test, y_train, y_test = train_test_split(X, y_sign, test_size=0.3, random_state=3)\n",
    "rf_model = RandomForestClassifier(n_estimators=100, random_state=3)\n",
    "rf_model.fit(X_train, y_train)\n",
    "y_pred = rf_model.predict(X_test)\n",
    "accuracy = accuracy_score(y_test, y_pred)\n",
    "print(f'Accuracy: {accuracy}')\n",
    "\n",
    "# Display classification report\n",
    "print(\"Classification Report:\")\n",
    "print(classification_report(y_test, y_pred))"
   ],
   "metadata": {
    "collapsed": false,
    "ExecuteTime": {
     "end_time": "2023-11-29T11:56:24.190823Z",
     "start_time": "2023-11-29T11:56:24.094120Z"
    }
   },
   "id": "c71eb9800542c01a"
  },
  {
   "cell_type": "markdown",
   "source": [
    "# Baseline"
   ],
   "metadata": {
    "collapsed": false
   },
   "id": "272b63091ff41aa0"
  },
  {
   "cell_type": "code",
   "execution_count": 24,
   "outputs": [
    {
     "name": "stdout",
     "output_type": "stream",
     "text": [
      "Accuracy: 0.8473895582329317\n"
     ]
    }
   ],
   "source": [
    "X = input_data.iloc[:,1:]\n",
    "y = output_data.iloc[:,1]\n",
    "\n",
    "y_labels = (y > 0).astype(int)\n",
    "\n",
    "# predict next month's class to be the same as this month's class\n",
    "y_pred = y_labels.shift(1).dropna()\n",
    "\n",
    "# split the data into training and testing sets along with corresp. indices\n",
    "X_train, X_test, y_train, y_test, indices_train, indices_test = train_test_split(X, y_labels, np.arange(len(y_labels)), test_size=0.3, random_state=3)\n",
    "\n",
    "# check accuracy of baseline\n",
    "accuracy = np.sum(y_pred[indices_test] == y_test) / np.size(y_test)\n",
    "print(f'Accuracy: {accuracy}')"
   ],
   "metadata": {
    "collapsed": false,
    "ExecuteTime": {
     "end_time": "2023-11-29T11:56:24.194719Z",
     "start_time": "2023-11-29T11:56:24.190330Z"
    }
   },
   "id": "7cdf7a373e6968ef"
  }
 ],
 "metadata": {
  "kernelspec": {
   "display_name": "Python 3",
   "language": "python",
   "name": "python3"
  },
  "language_info": {
   "codemirror_mode": {
    "name": "ipython",
    "version": 2
   },
   "file_extension": ".py",
   "mimetype": "text/x-python",
   "name": "python",
   "nbconvert_exporter": "python",
   "pygments_lexer": "ipython2",
   "version": "2.7.6"
  }
 },
 "nbformat": 4,
 "nbformat_minor": 5
}
