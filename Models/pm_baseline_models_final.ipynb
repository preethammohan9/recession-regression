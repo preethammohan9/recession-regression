{
 "cells": [
  {
   "cell_type": "code",
   "execution_count": 1,
   "id": "cc38746aad506c13",
   "metadata": {
    "ExecuteTime": {
     "end_time": "2023-12-02T03:37:18.712033Z",
     "start_time": "2023-12-02T03:37:18.096981Z"
    }
   },
   "outputs": [],
   "source": [
    "import pandas as pd\n",
    "import numpy as np\n",
    "from sklearn.model_selection import train_test_split\n",
    "from sklearn.linear_model import LinearRegression"
   ]
  },
  {
   "cell_type": "markdown",
   "id": "8519ae92c47d57a9",
   "metadata": {},
   "source": [
    "# Loading 1960+ data"
   ]
  },
  {
   "cell_type": "code",
   "execution_count": 13,
   "id": "41113a3028eb643c",
   "metadata": {
    "ExecuteTime": {
     "end_time": "2023-12-02T03:37:18.722857Z",
     "start_time": "2023-12-02T03:37:18.713461Z"
    }
   },
   "outputs": [
    {
     "data": {
      "text/html": [
       "<div>\n",
       "<style scoped>\n",
       "    .dataframe tbody tr th:only-of-type {\n",
       "        vertical-align: middle;\n",
       "    }\n",
       "\n",
       "    .dataframe tbody tr th {\n",
       "        vertical-align: top;\n",
       "    }\n",
       "\n",
       "    .dataframe thead th {\n",
       "        text-align: right;\n",
       "    }\n",
       "</style>\n",
       "<table border=\"1\" class=\"dataframe\">\n",
       "  <thead>\n",
       "    <tr style=\"text-align: right;\">\n",
       "      <th></th>\n",
       "      <th>Fedfund_rate</th>\n",
       "      <th>GDP_pch</th>\n",
       "      <th>CPI_pc1</th>\n",
       "      <th>Loan_pch</th>\n",
       "      <th>House_ch</th>\n",
       "    </tr>\n",
       "  </thead>\n",
       "  <tbody>\n",
       "    <tr>\n",
       "      <th>0</th>\n",
       "      <td>3.99</td>\n",
       "      <td>2.657590</td>\n",
       "      <td>1.24095</td>\n",
       "      <td>10.2</td>\n",
       "      <td>-197.0</td>\n",
       "    </tr>\n",
       "    <tr>\n",
       "      <th>1</th>\n",
       "      <td>3.97</td>\n",
       "      <td>1.675410</td>\n",
       "      <td>1.41379</td>\n",
       "      <td>10.1</td>\n",
       "      <td>-164.0</td>\n",
       "    </tr>\n",
       "    <tr>\n",
       "      <th>2</th>\n",
       "      <td>3.84</td>\n",
       "      <td>0.693230</td>\n",
       "      <td>1.51881</td>\n",
       "      <td>6.7</td>\n",
       "      <td>-511.0</td>\n",
       "    </tr>\n",
       "    <tr>\n",
       "      <th>3</th>\n",
       "      <td>3.92</td>\n",
       "      <td>-0.288950</td>\n",
       "      <td>1.93237</td>\n",
       "      <td>6.6</td>\n",
       "      <td>-301.0</td>\n",
       "    </tr>\n",
       "    <tr>\n",
       "      <th>4</th>\n",
       "      <td>3.85</td>\n",
       "      <td>0.086070</td>\n",
       "      <td>1.82507</td>\n",
       "      <td>3.3</td>\n",
       "      <td>-227.0</td>\n",
       "    </tr>\n",
       "    <tr>\n",
       "      <th>...</th>\n",
       "      <td>...</td>\n",
       "      <td>...</td>\n",
       "      <td>...</td>\n",
       "      <td>...</td>\n",
       "      <td>...</td>\n",
       "    </tr>\n",
       "    <tr>\n",
       "      <th>756</th>\n",
       "      <td>5.06</td>\n",
       "      <td>1.310517</td>\n",
       "      <td>4.12884</td>\n",
       "      <td>6.0</td>\n",
       "      <td>40.0</td>\n",
       "    </tr>\n",
       "    <tr>\n",
       "      <th>757</th>\n",
       "      <td>5.08</td>\n",
       "      <td>1.690863</td>\n",
       "      <td>3.09200</td>\n",
       "      <td>3.0</td>\n",
       "      <td>-143.0</td>\n",
       "    </tr>\n",
       "    <tr>\n",
       "      <th>758</th>\n",
       "      <td>5.12</td>\n",
       "      <td>2.071210</td>\n",
       "      <td>3.29908</td>\n",
       "      <td>2.4</td>\n",
       "      <td>80.0</td>\n",
       "    </tr>\n",
       "    <tr>\n",
       "      <th>759</th>\n",
       "      <td>5.33</td>\n",
       "      <td>2.071210</td>\n",
       "      <td>3.70750</td>\n",
       "      <td>6.3</td>\n",
       "      <td>-200.0</td>\n",
       "    </tr>\n",
       "    <tr>\n",
       "      <th>760</th>\n",
       "      <td>5.33</td>\n",
       "      <td>2.071210</td>\n",
       "      <td>3.68990</td>\n",
       "      <td>4.4</td>\n",
       "      <td>-117.0</td>\n",
       "    </tr>\n",
       "  </tbody>\n",
       "</table>\n",
       "<p>761 rows × 5 columns</p>\n",
       "</div>"
      ],
      "text/plain": [
       "     Fedfund_rate   GDP_pch  CPI_pc1  Loan_pch  House_ch\n",
       "0            3.99  2.657590  1.24095      10.2    -197.0\n",
       "1            3.97  1.675410  1.41379      10.1    -164.0\n",
       "2            3.84  0.693230  1.51881       6.7    -511.0\n",
       "3            3.92 -0.288950  1.93237       6.6    -301.0\n",
       "4            3.85  0.086070  1.82507       3.3    -227.0\n",
       "..            ...       ...      ...       ...       ...\n",
       "756          5.06  1.310517  4.12884       6.0      40.0\n",
       "757          5.08  1.690863  3.09200       3.0    -143.0\n",
       "758          5.12  2.071210  3.29908       2.4      80.0\n",
       "759          5.33  2.071210  3.70750       6.3    -200.0\n",
       "760          5.33  2.071210  3.68990       4.4    -117.0\n",
       "\n",
       "[761 rows x 5 columns]"
      ]
     },
     "execution_count": 13,
     "metadata": {},
     "output_type": "execute_result"
    }
   ],
   "source": [
    "input_data = pd.read_csv('../Data/Input_features_1960_no_covid.csv')\n",
    "# input_data = input_data.drop([722,723,724,725]) # removing COVID-19 affected months (2020-03 to 2020-06)\n",
    "# input_data = input_data.reset_index(drop=True)\n",
    "# input_data.iloc[:, 2:]\n",
    "input_data = input_data.iloc[:,3:]\n",
    "input_data"
   ]
  },
  {
   "cell_type": "code",
   "execution_count": 16,
   "id": "dfd04aac42ce9fd1",
   "metadata": {
    "ExecuteTime": {
     "end_time": "2023-12-02T03:37:18.728103Z",
     "start_time": "2023-12-02T03:37:18.722177Z"
    }
   },
   "outputs": [
    {
     "data": {
      "text/plain": [
       "0      0.35148\n",
       "1      0.47860\n",
       "2     -0.55860\n",
       "3      0.76205\n",
       "4     -0.50995\n",
       "        ...   \n",
       "756    0.19161\n",
       "757    0.06450\n",
       "758    0.10867\n",
       "759    0.08535\n",
       "760    0.18401\n",
       "Name: Total_private_pch, Length: 761, dtype: float64"
      ]
     },
     "execution_count": 16,
     "metadata": {},
     "output_type": "execute_result"
    }
   ],
   "source": [
    "output_data = pd.read_csv('../Data/Employment_pch_1960_no_covid.csv')\n",
    "output_data = output_data.iloc[:,2]\n",
    "output_data\n",
    "# output_data = output_data[:-1] # ensuring input and output start and end at the same timepoints\n",
    "# output_data = output_data.drop([722,723,724,725]) # removing COVID-19 affected months (2020-03 to 2020-06)\n",
    "# output_data = output_data.reset_index(drop=True)\n",
    "# output_data.iloc[:, 2]"
   ]
  },
  {
   "cell_type": "markdown",
   "id": "60ad6be958432617",
   "metadata": {},
   "source": [
    "# Naive Forecasting (using 1960+ data)"
   ]
  },
  {
   "cell_type": "code",
   "execution_count": 18,
   "id": "3c1a513d2d448195",
   "metadata": {
    "ExecuteTime": {
     "end_time": "2023-12-02T03:37:18.744768Z",
     "start_time": "2023-12-02T03:37:18.729763Z"
    }
   },
   "outputs": [
    {
     "name": "stdout",
     "output_type": "stream",
     "text": [
      "Classification Accuracy - Naive Forecasting (Baseline, 1960+): 0.8951965065502183\n"
     ]
    }
   ],
   "source": [
    "X = input_data\n",
    "y = output_data\n",
    "\n",
    "y_labels = (y > 0).astype(int)\n",
    "\n",
    "# predict next month's class to be the same as this month's class\n",
    "y_pred = y_labels.shift(1).fillna(0)\n",
    "\n",
    "# split the data into training and testing sets along with corresp. indices\n",
    "X_train, X_test, y_train, y_test, indices_train, indices_test = train_test_split(X, y_labels, np.arange(len(y_labels)),\n",
    "                                                                                 test_size=0.3, random_state=8,\n",
    "                                                                                 shuffle=True)\n",
    "\n",
    "# check accuracy of baseline for classification\n",
    "accuracy = np.sum(y_pred[indices_test] == y_test) / np.size(y_test)\n",
    "print(f'Classification Accuracy - Naive Forecasting (Baseline, 1960+): {accuracy}')"
   ]
  },
  {
   "cell_type": "markdown",
   "id": "f8a6b832508efdc9",
   "metadata": {},
   "source": [
    "# Linear Regression (using 1960+ data)"
   ]
  },
  {
   "cell_type": "code",
   "execution_count": 20,
   "id": "9afc8975c0f676d5",
   "metadata": {
    "ExecuteTime": {
     "end_time": "2023-12-02T03:37:18.773311Z",
     "start_time": "2023-12-02T03:37:18.738413Z"
    }
   },
   "outputs": [
    {
     "name": "stdout",
     "output_type": "stream",
     "text": [
      "R2 Score - Linear Regression (Baseline, 1960+): 0.3825790000281102\n"
     ]
    }
   ],
   "source": [
    "X = input_data\n",
    "y = output_data\n",
    "X_train, X_test, y_train, y_test = train_test_split(X, y, test_size=0.3, random_state=8, shuffle=True)\n",
    "model = LinearRegression()\n",
    "model.fit(X_train, y_train)\n",
    "pred = model.predict(X_test)\n",
    "r2_score = model.score(X_test, y_test)\n",
    "print(f'R2 Score - Linear Regression (Baseline, 1960+): {r2_score}')"
   ]
  },
  {
   "cell_type": "markdown",
   "id": "3a3390a20a7619ce",
   "metadata": {},
   "source": [
    "# Loading 2006+ data"
   ]
  },
  {
   "cell_type": "code",
   "execution_count": 21,
   "id": "bc4144f6033d27e8",
   "metadata": {
    "ExecuteTime": {
     "end_time": "2023-12-02T03:37:18.773805Z",
     "start_time": "2023-12-02T03:37:18.742592Z"
    }
   },
   "outputs": [],
   "source": [
    "inputs = pd.read_csv('../Data/all_inputs_cleaned.csv')\n",
    "outputs = pd.read_csv('../Data/all_outputs_cleaned.csv')"
   ]
  },
  {
   "cell_type": "code",
   "execution_count": 22,
   "id": "8b7dca4fe3c220f5",
   "metadata": {
    "ExecuteTime": {
     "end_time": "2023-12-02T03:37:18.790336Z",
     "start_time": "2023-12-02T03:37:18.753277Z"
    }
   },
   "outputs": [
    {
     "data": {
      "text/html": [
       "<div>\n",
       "<style scoped>\n",
       "    .dataframe tbody tr th:only-of-type {\n",
       "        vertical-align: middle;\n",
       "    }\n",
       "\n",
       "    .dataframe tbody tr th {\n",
       "        vertical-align: top;\n",
       "    }\n",
       "\n",
       "    .dataframe thead th {\n",
       "        text-align: right;\n",
       "    }\n",
       "</style>\n",
       "<table border=\"1\" class=\"dataframe\">\n",
       "  <thead>\n",
       "    <tr style=\"text-align: right;\">\n",
       "      <th></th>\n",
       "      <th>CPI</th>\n",
       "      <th>InterestRate</th>\n",
       "      <th>GDP</th>\n",
       "      <th>ValAddConst</th>\n",
       "      <th>ValAddInfo</th>\n",
       "      <th>Borrowing</th>\n",
       "      <th>CommercialLoan</th>\n",
       "      <th>ConsumerLoan</th>\n",
       "      <th>Deficit</th>\n",
       "      <th>ITBPrice</th>\n",
       "      <th>ITBVol</th>\n",
       "      <th>VGTPrice</th>\n",
       "      <th>VGTVol</th>\n",
       "      <th>S&amp;P500Price</th>\n",
       "      <th>S&amp;P500Vol</th>\n",
       "    </tr>\n",
       "  </thead>\n",
       "  <tbody>\n",
       "    <tr>\n",
       "      <th>0</th>\n",
       "      <td>0.005007</td>\n",
       "      <td>0.031315</td>\n",
       "      <td>0.012731</td>\n",
       "      <td>0.016023</td>\n",
       "      <td>0.000000</td>\n",
       "      <td>-0.004089</td>\n",
       "      <td>0.178</td>\n",
       "      <td>0.054</td>\n",
       "      <td>-2.393523</td>\n",
       "      <td>-0.141342</td>\n",
       "      <td>0.058676</td>\n",
       "      <td>-0.058480</td>\n",
       "      <td>-0.357298</td>\n",
       "      <td>-0.015674</td>\n",
       "      <td>0.010319</td>\n",
       "    </tr>\n",
       "    <tr>\n",
       "      <th>1</th>\n",
       "      <td>0.002989</td>\n",
       "      <td>0.010122</td>\n",
       "      <td>0.012731</td>\n",
       "      <td>0.016023</td>\n",
       "      <td>0.000000</td>\n",
       "      <td>0.016496</td>\n",
       "      <td>0.201</td>\n",
       "      <td>0.078</td>\n",
       "      <td>-1.361045</td>\n",
       "      <td>-0.087839</td>\n",
       "      <td>2.328675</td>\n",
       "      <td>-0.036031</td>\n",
       "      <td>0.028369</td>\n",
       "      <td>0.002547</td>\n",
       "      <td>-0.155359</td>\n",
       "    </tr>\n",
       "    <tr>\n",
       "      <th>2</th>\n",
       "      <td>0.002484</td>\n",
       "      <td>0.050100</td>\n",
       "      <td>0.010429</td>\n",
       "      <td>0.000000</td>\n",
       "      <td>0.014294</td>\n",
       "      <td>0.007533</td>\n",
       "      <td>0.223</td>\n",
       "      <td>0.045</td>\n",
       "      <td>-1.478174</td>\n",
       "      <td>-0.021042</td>\n",
       "      <td>0.796079</td>\n",
       "      <td>0.032067</td>\n",
       "      <td>-0.368216</td>\n",
       "      <td>0.013990</td>\n",
       "      <td>0.089268</td>\n",
       "    </tr>\n",
       "    <tr>\n",
       "      <th>3</th>\n",
       "      <td>0.005451</td>\n",
       "      <td>0.001908</td>\n",
       "      <td>0.010429</td>\n",
       "      <td>0.000000</td>\n",
       "      <td>0.014294</td>\n",
       "      <td>-0.008966</td>\n",
       "      <td>0.177</td>\n",
       "      <td>0.056</td>\n",
       "      <td>-2.616416</td>\n",
       "      <td>0.046412</td>\n",
       "      <td>2.381466</td>\n",
       "      <td>0.066667</td>\n",
       "      <td>0.267074</td>\n",
       "      <td>0.022189</td>\n",
       "      <td>-0.029398</td>\n",
       "    </tr>\n",
       "    <tr>\n",
       "      <th>4</th>\n",
       "      <td>0.004436</td>\n",
       "      <td>0.000000</td>\n",
       "      <td>0.010429</td>\n",
       "      <td>0.000000</td>\n",
       "      <td>0.014294</td>\n",
       "      <td>-0.005700</td>\n",
       "      <td>0.222</td>\n",
       "      <td>0.074</td>\n",
       "      <td>0.951423</td>\n",
       "      <td>0.046867</td>\n",
       "      <td>-0.436061</td>\n",
       "      <td>0.044646</td>\n",
       "      <td>0.280520</td>\n",
       "      <td>0.028076</td>\n",
       "      <td>0.159019</td>\n",
       "    </tr>\n",
       "    <tr>\n",
       "      <th>...</th>\n",
       "      <td>...</td>\n",
       "      <td>...</td>\n",
       "      <td>...</td>\n",
       "      <td>...</td>\n",
       "      <td>...</td>\n",
       "      <td>...</td>\n",
       "      <td>...</td>\n",
       "      <td>...</td>\n",
       "      <td>...</td>\n",
       "      <td>...</td>\n",
       "      <td>...</td>\n",
       "      <td>...</td>\n",
       "      <td>...</td>\n",
       "      <td>...</td>\n",
       "      <td>...</td>\n",
       "    </tr>\n",
       "    <tr>\n",
       "      <th>199</th>\n",
       "      <td>0.000530</td>\n",
       "      <td>0.038710</td>\n",
       "      <td>0.012081</td>\n",
       "      <td>0.012858</td>\n",
       "      <td>0.015515</td>\n",
       "      <td>0.166242</td>\n",
       "      <td>0.013</td>\n",
       "      <td>0.073</td>\n",
       "      <td>0.440654</td>\n",
       "      <td>0.052962</td>\n",
       "      <td>0.067876</td>\n",
       "      <td>0.038191</td>\n",
       "      <td>-0.165449</td>\n",
       "      <td>0.009060</td>\n",
       "      <td>0.254976</td>\n",
       "    </tr>\n",
       "    <tr>\n",
       "      <th>200</th>\n",
       "      <td>0.003678</td>\n",
       "      <td>0.047619</td>\n",
       "      <td>0.011676</td>\n",
       "      <td>0.015295</td>\n",
       "      <td>0.011737</td>\n",
       "      <td>0.062205</td>\n",
       "      <td>-0.029</td>\n",
       "      <td>0.058</td>\n",
       "      <td>-1.465993</td>\n",
       "      <td>0.066633</td>\n",
       "      <td>-0.030136</td>\n",
       "      <td>0.092126</td>\n",
       "      <td>0.350401</td>\n",
       "      <td>0.034360</td>\n",
       "      <td>-0.010638</td>\n",
       "    </tr>\n",
       "    <tr>\n",
       "      <th>201</th>\n",
       "      <td>0.001241</td>\n",
       "      <td>0.003953</td>\n",
       "      <td>0.011676</td>\n",
       "      <td>0.015295</td>\n",
       "      <td>0.011737</td>\n",
       "      <td>0.001615</td>\n",
       "      <td>-0.026</td>\n",
       "      <td>0.060</td>\n",
       "      <td>-2.364214</td>\n",
       "      <td>0.079389</td>\n",
       "      <td>0.066784</td>\n",
       "      <td>0.040382</td>\n",
       "      <td>-0.028132</td>\n",
       "      <td>0.047030</td>\n",
       "      <td>-0.146846</td>\n",
       "    </tr>\n",
       "    <tr>\n",
       "      <th>202</th>\n",
       "      <td>0.001803</td>\n",
       "      <td>0.007874</td>\n",
       "      <td>0.011676</td>\n",
       "      <td>0.015295</td>\n",
       "      <td>0.011737</td>\n",
       "      <td>-0.016332</td>\n",
       "      <td>-0.021</td>\n",
       "      <td>0.030</td>\n",
       "      <td>-0.052340</td>\n",
       "      <td>-0.008281</td>\n",
       "      <td>0.420013</td>\n",
       "      <td>-0.034826</td>\n",
       "      <td>-0.024273</td>\n",
       "      <td>0.005205</td>\n",
       "      <td>0.156903</td>\n",
       "    </tr>\n",
       "    <tr>\n",
       "      <th>203</th>\n",
       "      <td>0.001669</td>\n",
       "      <td>0.041016</td>\n",
       "      <td>0.011534</td>\n",
       "      <td>0.011761</td>\n",
       "      <td>0.012630</td>\n",
       "      <td>-0.033190</td>\n",
       "      <td>-0.007</td>\n",
       "      <td>0.024</td>\n",
       "      <td>-0.030673</td>\n",
       "      <td>-0.047472</td>\n",
       "      <td>0.073404</td>\n",
       "      <td>-0.009513</td>\n",
       "      <td>-0.191162</td>\n",
       "      <td>-0.029477</td>\n",
       "      <td>-0.153820</td>\n",
       "    </tr>\n",
       "  </tbody>\n",
       "</table>\n",
       "<p>204 rows × 15 columns</p>\n",
       "</div>"
      ],
      "text/plain": [
       "          CPI  InterestRate       GDP  ValAddConst  ValAddInfo  Borrowing  \\\n",
       "0    0.005007      0.031315  0.012731     0.016023    0.000000  -0.004089   \n",
       "1    0.002989      0.010122  0.012731     0.016023    0.000000   0.016496   \n",
       "2    0.002484      0.050100  0.010429     0.000000    0.014294   0.007533   \n",
       "3    0.005451      0.001908  0.010429     0.000000    0.014294  -0.008966   \n",
       "4    0.004436      0.000000  0.010429     0.000000    0.014294  -0.005700   \n",
       "..        ...           ...       ...          ...         ...        ...   \n",
       "199  0.000530      0.038710  0.012081     0.012858    0.015515   0.166242   \n",
       "200  0.003678      0.047619  0.011676     0.015295    0.011737   0.062205   \n",
       "201  0.001241      0.003953  0.011676     0.015295    0.011737   0.001615   \n",
       "202  0.001803      0.007874  0.011676     0.015295    0.011737  -0.016332   \n",
       "203  0.001669      0.041016  0.011534     0.011761    0.012630  -0.033190   \n",
       "\n",
       "     CommercialLoan  ConsumerLoan   Deficit  ITBPrice    ITBVol  VGTPrice  \\\n",
       "0             0.178         0.054 -2.393523 -0.141342  0.058676 -0.058480   \n",
       "1             0.201         0.078 -1.361045 -0.087839  2.328675 -0.036031   \n",
       "2             0.223         0.045 -1.478174 -0.021042  0.796079  0.032067   \n",
       "3             0.177         0.056 -2.616416  0.046412  2.381466  0.066667   \n",
       "4             0.222         0.074  0.951423  0.046867 -0.436061  0.044646   \n",
       "..              ...           ...       ...       ...       ...       ...   \n",
       "199           0.013         0.073  0.440654  0.052962  0.067876  0.038191   \n",
       "200          -0.029         0.058 -1.465993  0.066633 -0.030136  0.092126   \n",
       "201          -0.026         0.060 -2.364214  0.079389  0.066784  0.040382   \n",
       "202          -0.021         0.030 -0.052340 -0.008281  0.420013 -0.034826   \n",
       "203          -0.007         0.024 -0.030673 -0.047472  0.073404 -0.009513   \n",
       "\n",
       "       VGTVol  S&P500Price  S&P500Vol  \n",
       "0   -0.357298    -0.015674   0.010319  \n",
       "1    0.028369     0.002547  -0.155359  \n",
       "2   -0.368216     0.013990   0.089268  \n",
       "3    0.267074     0.022189  -0.029398  \n",
       "4    0.280520     0.028076   0.159019  \n",
       "..        ...          ...        ...  \n",
       "199 -0.165449     0.009060   0.254976  \n",
       "200  0.350401     0.034360  -0.010638  \n",
       "201 -0.028132     0.047030  -0.146846  \n",
       "202 -0.024273     0.005205   0.156903  \n",
       "203 -0.191162    -0.029477  -0.153820  \n",
       "\n",
       "[204 rows x 15 columns]"
      ]
     },
     "execution_count": 22,
     "metadata": {},
     "output_type": "execute_result"
    }
   ],
   "source": [
    "inputs.iloc[:, 2:]"
   ]
  },
  {
   "cell_type": "code",
   "execution_count": 23,
   "id": "f6078d39d8fbf00a",
   "metadata": {
    "ExecuteTime": {
     "end_time": "2023-12-02T03:37:18.790546Z",
     "start_time": "2023-12-02T03:37:18.756492Z"
    }
   },
   "outputs": [
    {
     "data": {
      "text/plain": [
       "0      0.000744\n",
       "1      0.001250\n",
       "2      0.001117\n",
       "3      0.000567\n",
       "4      0.000331\n",
       "         ...   \n",
       "199    0.001916\n",
       "200    0.000645\n",
       "201    0.001087\n",
       "202    0.001325\n",
       "203    0.001966\n",
       "Name: Total_Private, Length: 204, dtype: float64"
      ]
     },
     "execution_count": 23,
     "metadata": {},
     "output_type": "execute_result"
    }
   ],
   "source": [
    "outputs.iloc[:, 4]"
   ]
  },
  {
   "cell_type": "markdown",
   "id": "f6336d9ff8f1d57a",
   "metadata": {},
   "source": [
    "# Naive Forecasting (using 2006+ data)"
   ]
  },
  {
   "cell_type": "code",
   "execution_count": 24,
   "id": "d50f642d331bbab6",
   "metadata": {
    "ExecuteTime": {
     "end_time": "2023-12-02T03:37:18.790637Z",
     "start_time": "2023-12-02T03:37:18.761941Z"
    }
   },
   "outputs": [
    {
     "name": "stdout",
     "output_type": "stream",
     "text": [
      "Classification Accuracy - Naive Forecasting (Baseline, 2006+): 0.967741935483871\n"
     ]
    }
   ],
   "source": [
    "X = inputs.iloc[:, 2:]  # using all features, except the fact that it is a time series (ignoring column 1 - Month)\n",
    "y = outputs.iloc[:, 4]  # toggle between 2,3,4 to predict Construction, Information and Total Private\n",
    "\n",
    "y_labels = (y > 0).astype(int)\n",
    "\n",
    "# predict next month's class to be the same as this month's class\n",
    "y_pred = y_labels.shift(1).dropna()\n",
    "\n",
    "# split the data into training and testing sets along with corresp. indices\n",
    "_, _, _, y_test, _, indices_test = train_test_split(X, y_labels, np.arange(len(y_labels)), test_size=0.3, random_state=0)\n",
    "\n",
    "# check accuracy of baseline for classification\n",
    "accuracy = np.sum(y_pred[indices_test] == y_test) / np.size(y_test)\n",
    "print(f'Classification Accuracy - Naive Forecasting (Baseline, 2006+): {accuracy}')"
   ]
  },
  {
   "cell_type": "markdown",
   "id": "dfc218037d65063b",
   "metadata": {},
   "source": [
    "# Linear Regression (using 2006+ data)"
   ]
  },
  {
   "cell_type": "code",
   "execution_count": 25,
   "id": "initial_id",
   "metadata": {
    "ExecuteTime": {
     "end_time": "2023-12-02T03:37:18.807765Z",
     "start_time": "2023-12-02T03:37:18.764945Z"
    }
   },
   "outputs": [
    {
     "name": "stdout",
     "output_type": "stream",
     "text": [
      "R2 Score - Linear Regression (Baseline, 2006+): 0.20705216039330654\n"
     ]
    }
   ],
   "source": [
    "X = inputs.iloc[:, 2:]  # using all features, except the fact that it is a time series (ignoring column 1 - Month)\n",
    "y = outputs.iloc[:, 4]  # toggle between 2,3,4 to predict Construction, Information and Total Private\n",
    "\n",
    "X_train, X_test, y_train, y_test = train_test_split(X, y, test_size=0.3, random_state=0)\n",
    "model = LinearRegression()\n",
    "model.fit(X_train, y_train)\n",
    "pred = model.predict(X_test)\n",
    "r2_score = model.score(X_test, y_test)\n",
    "print(f'R2 Score - Linear Regression (Baseline, 2006+): {r2_score}')"
   ]
  },
  {
   "cell_type": "code",
   "execution_count": null,
   "id": "1a96b9e0",
   "metadata": {},
   "outputs": [],
   "source": []
  }
 ],
 "metadata": {
  "kernelspec": {
   "display_name": "Python 3 (ipykernel)",
   "language": "python",
   "name": "python3"
  },
  "language_info": {
   "codemirror_mode": {
    "name": "ipython",
    "version": 3
   },
   "file_extension": ".py",
   "mimetype": "text/x-python",
   "name": "python",
   "nbconvert_exporter": "python",
   "pygments_lexer": "ipython3",
   "version": "3.11.5"
  }
 },
 "nbformat": 4,
 "nbformat_minor": 5
}
