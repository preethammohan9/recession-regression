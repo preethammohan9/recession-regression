{
 "cells": [
  {
   "cell_type": "code",
   "execution_count": null,
   "id": "cc38746aad506c13",
   "metadata": {
    "ExecuteTime": {
     "end_time": "2023-12-02T03:37:18.712033Z",
     "start_time": "2023-12-02T03:37:18.096981Z"
    }
   },
   "outputs": [],
   "source": [
    "import pandas as pd\n",
    "import numpy as np\n",
    "from sklearn.model_selection import train_test_split\n",
    "from sklearn.linear_model import LinearRegression"
   ]
  },
  {
   "cell_type": "markdown",
   "id": "8519ae92c47d57a9",
   "metadata": {},
   "source": [
    "# Loading 1960+ data"
   ]
  },
  {
   "cell_type": "code",
   "execution_count": null,
   "id": "41113a3028eb643c",
   "metadata": {
    "ExecuteTime": {
     "end_time": "2023-12-02T03:37:18.722857Z",
     "start_time": "2023-12-02T03:37:18.713461Z"
    }
   },
   "outputs": [],
   "source": [
    "input_data = pd.read_csv('../Data/Input_features_1960_no_covid.csv')\n",
    "# input_data = input_data.drop([722,723,724,725]) # removing COVID-19 affected months (2020-03 to 2020-06)\n",
    "# input_data = input_data.reset_index(drop=True)\n",
    "# input_data.iloc[:, 2:]\n",
    "input_data = input_data.iloc[:,3:]\n",
    "input_data"
   ]
  },
  {
   "cell_type": "code",
   "execution_count": null,
   "id": "dfd04aac42ce9fd1",
   "metadata": {
    "ExecuteTime": {
     "end_time": "2023-12-02T03:37:18.728103Z",
     "start_time": "2023-12-02T03:37:18.722177Z"
    }
   },
   "outputs": [],
   "source": [
    "output_data = pd.read_csv('../Data/Employment_pch_1960_no_covid.csv')\n",
    "output_data = output_data.iloc[:,2]\n",
    "output_data\n",
    "# output_data = output_data[:-1] # ensuring input and output start and end at the same timepoints\n",
    "# output_data = output_data.drop([722,723,724,725]) # removing COVID-19 affected months (2020-03 to 2020-06)\n",
    "# output_data = output_data.reset_index(drop=True)\n",
    "# output_data.iloc[:, 2]"
   ]
  },
  {
   "cell_type": "markdown",
   "id": "60ad6be958432617",
   "metadata": {},
   "source": [
    "# Naive Forecasting (using 1960+ data)"
   ]
  },
  {
   "cell_type": "code",
   "execution_count": null,
   "id": "3c1a513d2d448195",
   "metadata": {
    "ExecuteTime": {
     "end_time": "2023-12-02T03:37:18.744768Z",
     "start_time": "2023-12-02T03:37:18.729763Z"
    }
   },
   "outputs": [],
   "source": [
    "X = input_data\n",
    "y = output_data\n",
    "\n",
    "y_labels = (y > 0).astype(int)\n",
    "\n",
    "# predict next month's class to be the same as this month's class\n",
    "y_pred = y_labels.shift(1).fillna(0)\n",
    "\n",
    "# split the data into training and testing sets along with corresp. indices\n",
    "X_train, X_test, y_train, y_test, indices_train, indices_test = train_test_split(X, y_labels, np.arange(len(y_labels)),\n",
    "                                                                                 test_size=0.3, random_state=8,\n",
    "                                                                                 shuffle=True)\n",
    "\n",
    "# check accuracy of baseline for classification\n",
    "accuracy = np.sum(y_pred[indices_test] == y_test) / np.size(y_test)\n",
    "print(f'Classification Accuracy - Naive Forecasting (Baseline, 1960+): {accuracy}')"
   ]
  },
  {
   "cell_type": "markdown",
   "id": "f8a6b832508efdc9",
   "metadata": {},
   "source": [
    "# Linear Regression (using 1960+ data)"
   ]
  },
  {
   "cell_type": "code",
   "execution_count": null,
   "id": "9afc8975c0f676d5",
   "metadata": {
    "ExecuteTime": {
     "end_time": "2023-12-02T03:37:18.773311Z",
     "start_time": "2023-12-02T03:37:18.738413Z"
    }
   },
   "outputs": [],
   "source": [
    "X = input_data\n",
    "y = output_data\n",
    "X_train, X_test, y_train, y_test = train_test_split(X, y, test_size=0.3, random_state=8, shuffle=True)\n",
    "model = LinearRegression()\n",
    "model.fit(X_train, y_train)\n",
    "pred = model.predict(X_test)\n",
    "r2_score = model.score(X_test, y_test)\n",
    "print(f'R2 Score - Linear Regression (Baseline, 1960+): {r2_score}')"
   ]
  },
  {
   "cell_type": "markdown",
   "id": "3a3390a20a7619ce",
   "metadata": {},
   "source": [
    "# Loading 2006+ data"
   ]
  },
  {
   "cell_type": "code",
   "execution_count": null,
   "id": "bc4144f6033d27e8",
   "metadata": {
    "ExecuteTime": {
     "end_time": "2023-12-02T03:37:18.773805Z",
     "start_time": "2023-12-02T03:37:18.742592Z"
    }
   },
   "outputs": [],
   "source": [
    "inputs = pd.read_csv('../Data/all_inputs_cleaned.csv')\n",
    "outputs = pd.read_csv('../Data/all_outputs_cleaned.csv')"
   ]
  },
  {
   "cell_type": "code",
   "execution_count": null,
   "id": "8b7dca4fe3c220f5",
   "metadata": {
    "ExecuteTime": {
     "end_time": "2023-12-02T03:37:18.790336Z",
     "start_time": "2023-12-02T03:37:18.753277Z"
    }
   },
   "outputs": [],
   "source": [
    "inputs.iloc[:, 2:]"
   ]
  },
  {
   "cell_type": "code",
   "execution_count": null,
   "id": "f6078d39d8fbf00a",
   "metadata": {
    "ExecuteTime": {
     "end_time": "2023-12-02T03:37:18.790546Z",
     "start_time": "2023-12-02T03:37:18.756492Z"
    }
   },
   "outputs": [],
   "source": [
    "outputs.iloc[:, 4]"
   ]
  },
  {
   "cell_type": "markdown",
   "id": "f6336d9ff8f1d57a",
   "metadata": {},
   "source": [
    "# Naive Forecasting (using 2006+ data)"
   ]
  },
  {
   "cell_type": "code",
   "execution_count": null,
   "id": "d50f642d331bbab6",
   "metadata": {
    "ExecuteTime": {
     "end_time": "2023-12-02T03:37:18.790637Z",
     "start_time": "2023-12-02T03:37:18.761941Z"
    }
   },
   "outputs": [],
   "source": [
    "X = inputs.iloc[:, 2:]  # using all features, except the fact that it is a time series (ignoring column 1 - Month)\n",
    "y = outputs.iloc[:, 4]  # toggle between 2,3,4 to predict Construction, Information and Total Private\n",
    "\n",
    "y_labels = (y > 0).astype(int)\n",
    "\n",
    "# predict next month's class to be the same as this month's class\n",
    "y_pred = y_labels.shift(1).dropna()\n",
    "\n",
    "# split the data into training and testing sets along with corresp. indices\n",
    "_, _, _, y_test, _, indices_test = train_test_split(X, y_labels, np.arange(len(y_labels)), test_size=0.3, random_state=0)\n",
    "\n",
    "# check accuracy of baseline for classification\n",
    "accuracy = np.sum(y_pred[indices_test] == y_test) / np.size(y_test)\n",
    "print(f'Classification Accuracy - Naive Forecasting (Baseline, 2006+): {accuracy}')"
   ]
  },
  {
   "cell_type": "markdown",
   "id": "dfc218037d65063b",
   "metadata": {},
   "source": [
    "# Linear Regression (using 2006+ data)"
   ]
  },
  {
   "cell_type": "code",
   "execution_count": null,
   "id": "initial_id",
   "metadata": {
    "ExecuteTime": {
     "end_time": "2023-12-02T03:37:18.807765Z",
     "start_time": "2023-12-02T03:37:18.764945Z"
    }
   },
   "outputs": [],
   "source": [
    "X = inputs.iloc[:, 2:]  # using all features, except the fact that it is a time series (ignoring column 1 - Month)\n",
    "y = outputs.iloc[:, 4]  # toggle between 2,3,4 to predict Construction, Information and Total Private\n",
    "\n",
    "X_train, X_test, y_train, y_test = train_test_split(X, y, test_size=0.3, random_state=0)\n",
    "model = LinearRegression()\n",
    "model.fit(X_train, y_train)\n",
    "pred = model.predict(X_test)\n",
    "r2_score = model.score(X_test, y_test)\n",
    "print(f'R2 Score - Linear Regression (Baseline, 2006+): {r2_score}')"
   ]
  },
  {
   "cell_type": "code",
   "execution_count": null,
   "id": "1a96b9e0",
   "metadata": {},
   "outputs": [],
   "source": []
  }
 ],
 "metadata": {
  "kernelspec": {
   "display_name": "Python 3 (ipykernel)",
   "language": "python",
   "name": "python3"
  },
  "language_info": {
   "codemirror_mode": {
    "name": "ipython",
    "version": 3
   },
   "file_extension": ".py",
   "mimetype": "text/x-python",
   "name": "python",
   "nbconvert_exporter": "python",
   "pygments_lexer": "ipython3",
   "version": "3.11.5"
  }
 },
 "nbformat": 4,
 "nbformat_minor": 5
}
