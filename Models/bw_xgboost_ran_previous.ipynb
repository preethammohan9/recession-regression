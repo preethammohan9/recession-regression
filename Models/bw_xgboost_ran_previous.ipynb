{
 "cells": [
  {
   "cell_type": "code",
   "execution_count": 1,
   "id": "initial_id",
   "metadata": {
    "ExecuteTime": {
     "end_time": "2023-11-08T22:20:40.984283Z",
     "start_time": "2023-11-08T22:20:39.410701Z"
    }
   },
   "outputs": [
    {
     "ename": "ModuleNotFoundError",
     "evalue": "No module named 'plotly'",
     "output_type": "error",
     "traceback": [
      "\u001b[0;31m---------------------------------------------------------------------------\u001b[0m",
      "\u001b[0;31mModuleNotFoundError\u001b[0m                       Traceback (most recent call last)",
      "Cell \u001b[0;32mIn[1], line 13\u001b[0m\n\u001b[1;32m     11\u001b[0m \u001b[38;5;28;01mimport\u001b[39;00m \u001b[38;5;21;01mdatetime\u001b[39;00m\n\u001b[1;32m     12\u001b[0m \u001b[38;5;28;01mimport\u001b[39;00m \u001b[38;5;21;01mwarnings\u001b[39;00m\n\u001b[0;32m---> 13\u001b[0m \u001b[38;5;28;01mimport\u001b[39;00m \u001b[38;5;21;01mplotly\u001b[39;00m\u001b[38;5;21;01m.\u001b[39;00m\u001b[38;5;21;01mexpress\u001b[39;00m \u001b[38;5;28;01mas\u001b[39;00m \u001b[38;5;21;01mpx\u001b[39;00m\n\u001b[1;32m     14\u001b[0m \u001b[38;5;28;01mimport\u001b[39;00m \u001b[38;5;21;01mplotly\u001b[39;00m\u001b[38;5;21;01m.\u001b[39;00m\u001b[38;5;21;01mfigure_factory\u001b[39;00m \u001b[38;5;28;01mas\u001b[39;00m \u001b[38;5;21;01mff\u001b[39;00m\n\u001b[1;32m     15\u001b[0m \u001b[38;5;28;01mimport\u001b[39;00m \u001b[38;5;21;01mseaborn\u001b[39;00m \u001b[38;5;28;01mas\u001b[39;00m \u001b[38;5;21;01msns\u001b[39;00m\n",
      "\u001b[0;31mModuleNotFoundError\u001b[0m: No module named 'plotly'"
     ]
    }
   ],
   "source": [
    "import pandas as pd\n",
    "import numpy as np\n",
    "import scipy.optimize as optimize\n",
    "import os\n",
    "import matplotlib.pyplot as plt\n",
    "import torch\n",
    "from sklearn.model_selection import train_test_split\n",
    "from sklearn.linear_model import LinearRegression\n",
    "import sklearn.metrics\n",
    "import math\n",
    "import datetime\n",
    "import warnings\n",
    "import plotly.express as px\n",
    "import plotly.figure_factory as ff\n",
    "import seaborn as sns\n",
    "import xgboost as xgb\n",
    "from arch import arch_model\n",
    "from statsmodels.graphics.tsaplots import plot_acf, plot_pacf\n",
    "from ipywidgets import HBox, VBox\n",
    "from tabulate import tabulate\n",
    "from sklearn.model_selection import cross_val_score, KFold\n",
    "from sklearn.metrics import accuracy_score\n",
    "from sklearn.metrics import mean_absolute_percentage_error\n",
    "from sklearn.metrics import mean_squared_error\n",
    "from xgboost import plot_importance, plot_tree\n",
    "#Matplotlib style\n",
    "plt.style.use('fivethirtyeight')\n",
    "#Ignoring some warnings\n",
    "warnings.filterwarnings('ignore')"
   ]
  },
  {
   "cell_type": "code",
   "execution_count": null,
   "id": "c447e0de4e4184aa",
   "metadata": {
    "ExecuteTime": {
     "end_time": "2023-11-08T22:20:40.989190Z",
     "start_time": "2023-11-08T22:20:40.985138Z"
    }
   },
   "outputs": [],
   "source": [
    "inputs = pd.read_csv(r'../Data/all_inputs_cleaned.csv')\n",
    "outputs = pd.read_csv(r'../Data/all_outputs_cleaned.csv')"
   ]
  },
  {
   "cell_type": "markdown",
   "id": "0db63618",
   "metadata": {},
   "source": [
    "# Prediction for Construction"
   ]
  },
  {
   "cell_type": "code",
   "execution_count": null,
   "id": "63afb852",
   "metadata": {},
   "outputs": [],
   "source": [
    "fig = px.line(outputs['Construction'], width=1000, height=500)\n",
    "fig.update_layout(title_text='Monthly employment data of Construction from 2006-06-01 to 2023-09-01')\n",
    "fig.show()"
   ]
  },
  {
   "cell_type": "code",
   "execution_count": null,
   "id": "77780f80",
   "metadata": {},
   "outputs": [],
   "source": [
    "#This code uses the pacf() function from the tsa.stattools module of the statsmodels library (sm) to compute the autocorrelation function.\n",
    "plot_pacf(outputs['Construction'],method=\"yw\")\n",
    "#Print the visualization\n",
    "plt.show()"
   ]
  },
  {
   "cell_type": "code",
   "execution_count": null,
   "id": "5766a4d0",
   "metadata": {},
   "outputs": [],
   "source": [
    "const_data = outputs[['Month','Construction']]\n",
    "#Convert the date column to datetime format\n",
    "const_data[\"Month\"] = pd.to_datetime(const_data[\"Month\"])\n",
    "for i in range(1,5):\n",
    "    const_data['prev'+str(i)]=const_data['Construction'].shift(i)\n",
    "train_ml, test_ml, y_train, y_test = train_test_split(const_data, const_data['Construction'], test_size=0.3, random_state=0)"
   ]
  },
  {
   "cell_type": "code",
   "execution_count": null,
   "id": "60e2342a",
   "metadata": {},
   "outputs": [],
   "source": [
    "N = len(inputs.keys())\n",
    "for i in range(2,N):\n",
    "    key = inputs.keys()[i]\n",
    "    for i in range(1,6):\n",
    "        inputs[key + '_prev' + str(i)] = inputs[key].shift(i)\n",
    "N = len(inputs.keys())\n",
    "inputs.head()"
   ]
  },
  {
   "cell_type": "code",
   "execution_count": null,
   "id": "cb44e4cb",
   "metadata": {},
   "outputs": [],
   "source": [
    "def create_features(df, label=None):\n",
    "    \"\"\"\n",
    "    Creates time series features from datetime index\n",
    "    \"\"\"\n",
    "    df['quarter'] = df['Month'].dt.quarter\n",
    "    df['month'] = df['Month'].dt.month\n",
    "    df['year'] = df['Month'].dt.year\n",
    "    for i in range(2,N):\n",
    "        df[inputs.keys()[i]] = inputs.iloc[:,i]\n",
    "    features = ['quarter','month','year']\n",
    "    input_feat = ['CPI', 'InterestRate', 'GDP','Borrowing', 'ITBVol', 'VGTVol']\n",
    "    for feature in input_feat:\n",
    "        for i in range(1,5):\n",
    "            features.append(feature+'_prev'+str(i))\n",
    "    for i in range(1,5):\n",
    "        features.append('prev'+str(i))\n",
    "#     features = ['quarter','month','year', 'prev1', 'prev3', 'prev4', 'InterestRate_prev2', 'Borrowing_prev3', 'Borrowing_prev4','VGTVol_prev3', 'VGTVol_prev4', 'CPI_prev1', 'CPI_prev2', 'CPI_prev4', 'ITBVol_prev1']\n",
    "    X = df[features]\n",
    "#     X = df[['quarter','month','year','CPI', 'InterestRate', 'GDP', 'ValAddConst', 'ValAddInfo','Borrowing','CommercialLoan', 'ConsumerLoan','Deficit','ITBPrice', 'ITBVol','VGTPrice', 'VGTVol','S&P500Price','S&P500Vol']]\n",
    "    # X = df[['month','year','CPI', 'GDP', 'ValAddConst','Borrowing','Deficit','ITBPrice','VGTPrice', 'VGTVol']]\n",
    "    if label:\n",
    "        y = df[label]\n",
    "        return X, y\n",
    "    return X"
   ]
  },
  {
   "cell_type": "code",
   "execution_count": null,
   "id": "9a5edd2d",
   "metadata": {},
   "outputs": [],
   "source": [
    "# Creating the features for the train and test sets\n",
    "X_train, y_train = create_features(train_ml, label=\"Construction\")\n",
    "X_test, y_test = create_features(test_ml, label=\"Construction\")\n",
    "X_train.head()"
   ]
  },
  {
   "cell_type": "code",
   "execution_count": null,
   "id": "1ccd13f5",
   "metadata": {},
   "outputs": [],
   "source": [
    "#Defining and fitting the model\n",
    "reg = xgb.XGBRegressor(n_estimators=1000,early_stopping_rounds=60,)\n",
    "# reg = xgb.XGBRegressor(\n",
    "#     n_estimators=200, \n",
    "#     learning_rate=0.009, \n",
    "#     max_depth=5, \n",
    "#     min_child_weight=1,\n",
    "#     subsample=0.8,\n",
    "#     colsample_bytree=0.8,\n",
    "#     reg_lambda=1,  # Corrected parameter name\n",
    "#     alpha=0,\n",
    "# )\n",
    "reg.fit(X_train, y_train,\n",
    "        eval_set=[(X_train, y_train), (X_test, y_test)],\n",
    "       verbose=False)"
   ]
  },
  {
   "cell_type": "code",
   "execution_count": null,
   "id": "c614ed2d",
   "metadata": {},
   "outputs": [],
   "source": [
    "#Plot of feature importance\n",
    "_ = plot_importance(reg, height=0.9)"
   ]
  },
  {
   "cell_type": "code",
   "execution_count": null,
   "id": "4c17ff0a",
   "metadata": {},
   "outputs": [],
   "source": [
    "#Predicting with our model for both the train and test data\n",
    "train_ml[\"Predictions\"] = reg.predict(X_train)\n",
    "test_ml['Prediction'] = reg.predict(X_test)"
   ]
  },
  {
   "cell_type": "code",
   "execution_count": null,
   "id": "f0197da5",
   "metadata": {},
   "outputs": [],
   "source": [
    "#Plotting the predictions of the training data\n",
    "XGBoost_and_rolling = pd.concat([pd.DataFrame(list(train_ml[\"Predictions\"]),list(train_ml[\"Construction\"]))], axis=1).dropna().reset_index()\n",
    "XGBoost_and_rolling.rename(columns={\"index\":\"Real_Construction\",0:\"Predicted Construction\"}, inplace=True)\n",
    "XGBoost_and_rolling = px.line(XGBoost_and_rolling, title = 'XGBOOST vs Construction TRAIN', width=1000, height=500)\n",
    "XGBoost_and_rolling.show()"
   ]
  },
  {
   "cell_type": "code",
   "execution_count": null,
   "id": "d96e2945",
   "metadata": {},
   "outputs": [],
   "source": [
    "#Plotting the predictions of the testing data\n",
    "XGBoost_and_rolling = pd.concat([pd.DataFrame(list(test_ml[\"Prediction\"]),list(test_ml[\"Construction\"]))], axis=1).dropna().reset_index()\n",
    "XGBoost_and_rolling.rename(columns={\"index\":\"Real_Construction\",0:\"Predicted Construction\"}, inplace=True)\n",
    "XGBoost_and_rolling = px.line(XGBoost_and_rolling, title = 'XGBOOST vs Construction TEST', width=1000, height=500)\n",
    "XGBoost_and_rolling.show()"
   ]
  },
  {
   "cell_type": "code",
   "execution_count": null,
   "id": "12fe28be",
   "metadata": {},
   "outputs": [],
   "source": [
    "pred_sign = np.sign(train_ml['Predictions'])\n",
    "y_test_sign = np.sign(train_ml['Construction'])\n",
    "classification_accuracy = 1 - 0.5*np.sum(np.abs(pred_sign - y_test_sign))/np.size(y_test_sign)\n",
    "classification_accuracy"
   ]
  },
  {
   "cell_type": "code",
   "execution_count": null,
   "id": "7411bf73",
   "metadata": {},
   "outputs": [],
   "source": [
    "pred_sign = np.sign(test_ml['Prediction'])\n",
    "y_test_sign = np.sign(test_ml['Construction'])\n",
    "classification_accuracy = 1 - 0.5*np.sum(np.abs(pred_sign - y_test_sign))/np.size(y_test_sign)\n",
    "classification_accuracy"
   ]
  },
  {
   "cell_type": "markdown",
   "id": "23778290",
   "metadata": {},
   "source": [
    "Metrics:\n",
    "\n",
    "\n",
    "Root Mean Square Error, RMSE: Square root of the mean of the difference between the actual data points and the squared prediction value. It penalizes greater or extreme differences more.\n",
    "\n",
    "Mean Absolute Percentage Error, MAPE: It allows to measure errors relative to the magnitude of the real value."
   ]
  },
  {
   "cell_type": "code",
   "execution_count": null,
   "id": "ea315f8a",
   "metadata": {},
   "outputs": [],
   "source": [
    "RMSE_Serie_XG = mean_squared_error(train_ml[\"Construction\"],train_ml[\"Predictions\"],squared=False)\n",
    "MAPE_Serie_XG = mean_absolute_percentage_error(train_ml[\"Construction\"], train_ml[\"Predictions\"])\n",
    "print(f\"The RMSE of our XGBOOST model in the full serie data is {round(RMSE_Serie_XG,4)}\")\n",
    "print(f\"The MAPE of our XGBOOST model in the full serie data is {round(MAPE_Serie_XG*100,2)}%\")"
   ]
  },
  {
   "cell_type": "code",
   "execution_count": null,
   "id": "3cb22046",
   "metadata": {},
   "outputs": [],
   "source": [
    "true_vol = test_ml['Prediction']\n",
    "pred_vol = test_ml[\"Construction\"]\n",
    "RMSE_XG = mean_squared_error(true_vol, pred_vol,squared=False)\n",
    "MAPE_XG = mean_absolute_percentage_error(true_vol, pred_vol)\n",
    "print(f\"The RMSE of our XGBOOST model in the predicted data is {round(RMSE_XG,4)}\")\n",
    "print(f\"The MAPE of our XGBOOST model in the predicted data is {round(MAPE_XG*100,2)}%\")"
   ]
  },
  {
   "cell_type": "code",
   "execution_count": null,
   "id": "3ecac881",
   "metadata": {},
   "outputs": [],
   "source": [
    "X, y = create_features(const_data, label=\"Construction\")\n",
    "const_data[\"Predictions\"] = reg.predict(X)\n",
    "#Plotting the predictions of the training data\n",
    "XGBoost_and_rolling = pd.concat([pd.DataFrame(list(const_data[\"Predictions\"]),list(const_data[\"Construction\"]))], axis=1).dropna().reset_index()\n",
    "XGBoost_and_rolling.rename(columns={\"index\":\"Real_Construction\",0:\"Predicted Construction\"}, inplace=True)\n",
    "XGBoost_and_rolling = px.line(XGBoost_and_rolling, title = 'XGBOOST vs Construction FULL', width=1000, height=500)\n",
    "XGBoost_and_rolling.show()"
   ]
  },
  {
   "cell_type": "code",
   "execution_count": null,
   "id": "4507d523",
   "metadata": {},
   "outputs": [],
   "source": [
    "pred_sign = np.sign(const_data['Predictions'])\n",
    "y_test_sign = np.sign(const_data['Construction'])\n",
    "classification_accuracy = 1 - 0.5*np.sum(np.abs(pred_sign - y_test_sign))/np.size(y_test_sign)\n",
    "classification_accuracy"
   ]
  },
  {
   "cell_type": "code",
   "execution_count": null,
   "id": "6792d937",
   "metadata": {},
   "outputs": [],
   "source": [
    "true_vol = const_data['Predictions']\n",
    "pred_vol = const_data[\"Construction\"]\n",
    "RMSE_XG = mean_squared_error(true_vol, pred_vol,squared=False)\n",
    "MAPE_XG = mean_absolute_percentage_error(true_vol, pred_vol)\n",
    "print(f\"The RMSE of our XGBOOST model in the predicted data is {round(RMSE_XG,4)}\")\n",
    "print(f\"The MAPE of our XGBOOST model in the predicted data is {round(MAPE_XG*100,2)}%\")\n",
    "r2_score = sklearn.metrics.r2_score(true_vol, pred_vol)\n",
    "print(f\"The R^2 score of our XGBOOST model in the predicted data is {round(r2_score,4)}\")"
   ]
  },
  {
   "cell_type": "markdown",
   "id": "900b6d9b",
   "metadata": {},
   "source": [
    "# Prediction for Information"
   ]
  },
  {
   "cell_type": "code",
   "execution_count": null,
   "id": "215747e3",
   "metadata": {},
   "outputs": [],
   "source": [
    "fig = px.line(outputs['Information'], width=1000, height=500)\n",
    "fig.update_layout(title_text='Monthly employment data of Information from 2006-06-01 to 2023-09-01')\n",
    "fig.show()"
   ]
  },
  {
   "cell_type": "code",
   "execution_count": null,
   "id": "287d00d8",
   "metadata": {},
   "outputs": [],
   "source": [
    "plot_pacf(outputs['Information'],method=\"yw\")\n",
    "#Print the visualization\n",
    "plt.show()"
   ]
  },
  {
   "cell_type": "code",
   "execution_count": null,
   "id": "ad5ba1e5",
   "metadata": {},
   "outputs": [],
   "source": [
    "info_data = outputs[['Month','Information']]\n",
    "#Convert the date column to datetime format\n",
    "info_data[\"Month\"] = pd.to_datetime(info_data[\"Month\"])\n",
    "for i in range(1,6):\n",
    "    info_data['prev'+str(i)]=info_data['Information'].shift(i)\n",
    "train_ml, test_ml, y_train, y_test = train_test_split(info_data, info_data['Information'], test_size=0.35, random_state=0)\n",
    "train_ml.head()"
   ]
  },
  {
   "cell_type": "code",
   "execution_count": null,
   "id": "c0a17927",
   "metadata": {},
   "outputs": [],
   "source": [
    "def create_features(df, label=None):\n",
    "    \"\"\"\n",
    "    Creates time series features from datetime index\n",
    "    \"\"\"\n",
    "    df['quarter'] = df['Month'].dt.quarter\n",
    "    df['month'] = df['Month'].dt.month\n",
    "    df['year'] = df['Month'].dt.year\n",
    "    for i in range(2,N):\n",
    "        df[inputs.keys()[i]] = inputs.iloc[:,i]\n",
    "    features = ['quarter','month','year']\n",
    "    input_feat = ['CPI', 'InterestRate', 'GDP','Borrowing', 'ITBVol', 'VGTVol']\n",
    "    for feature in input_feat:\n",
    "        for i in range(1,6):\n",
    "            features.append(feature+'_prev'+str(i))\n",
    "#     features = ['quarter','month','year', 'prev1', 'prev3', 'prev4', 'InterestRate_prev2', 'Borrowing_prev3', 'Borrowing_prev4','VGTVol_prev3', 'VGTVol_prev4', 'CPI_prev1', 'CPI_prev2', 'CPI_prev4', 'ITBVol_prev1']\n",
    "#     X = df[features]\n",
    "    # X = df[['quarter','month','year']]\n",
    "    # X = df[['quarter','month','year','CPI', 'InterestRate', 'GDP', 'ValAddConst', 'ValAddInfo','Borrowing','CommercialLoan', 'ConsumerLoan','Deficit','ITBPrice', 'ITBVol','VGTPrice', 'VGTVol','S&P500Price','S&P500Vol']]\n",
    "    # X = df[['quarter','CPI', 'InterestRate','CommercialLoan', 'ConsumerLoan','Deficit','ITBPrice', 'VGTVol','S&P500Price','S&P500Vol']]\n",
    "#     X = df[['quarter','month','year','CPI', 'InterestRate', 'GDP','Borrowing','CommercialLoan', 'ConsumerLoan','Deficit','ITBPrice','VGTPrice','S&P500Price']]\n",
    "#     features = ['quarter','year','CPI', 'InterestRate', 'GDP','CommercialLoan', 'ConsumerLoan','ITBPrice', 'ITBVol', 'VGTVol']\n",
    "    for i in range(1,6):\n",
    "        features.append('prev'+str(i))\n",
    "    X = df[features]\n",
    "    if label:\n",
    "        y = df[label]\n",
    "        return X, y\n",
    "    return X"
   ]
  },
  {
   "cell_type": "code",
   "execution_count": null,
   "id": "710a9daa",
   "metadata": {},
   "outputs": [],
   "source": [
    "#Creating the features for the train and test sets\n",
    "X_train, y_train = create_features(train_ml, label=\"Information\")\n",
    "X_test, y_test = create_features(test_ml, label=\"Information\")\n",
    "X_train.head()"
   ]
  },
  {
   "cell_type": "code",
   "execution_count": null,
   "id": "6a2fae34",
   "metadata": {},
   "outputs": [],
   "source": [
    "#Defining and fitting the model\n",
    "reg = xgb.XGBRegressor(n_estimators=1000,early_stopping_rounds=60,)\n",
    "reg.fit(X_train, y_train,\n",
    "        eval_set=[(X_train, y_train), (X_test, y_test)],\n",
    "       verbose=False)"
   ]
  },
  {
   "cell_type": "code",
   "execution_count": null,
   "id": "27d91b45",
   "metadata": {},
   "outputs": [],
   "source": [
    "#Plot of feature importance\n",
    "_ = plot_importance(reg, height=0.9)"
   ]
  },
  {
   "cell_type": "code",
   "execution_count": null,
   "id": "7026ebcf",
   "metadata": {},
   "outputs": [],
   "source": [
    "#Predicting with our model for both the train and test data\n",
    "train_ml[\"Predictions\"] = reg.predict(X_train)\n",
    "test_ml['Prediction'] = reg.predict(X_test)"
   ]
  },
  {
   "cell_type": "code",
   "execution_count": null,
   "id": "af93ca3f",
   "metadata": {},
   "outputs": [],
   "source": [
    "#Plotting the predictions of the training data\n",
    "XGBoost_and_rolling = pd.concat([pd.DataFrame(list(train_ml[\"Predictions\"]),list(train_ml[\"Information\"]))], axis=1).dropna().reset_index()\n",
    "XGBoost_and_rolling.rename(columns={\"index\":\"Real_Information\",0:\"Predicted Information\"}, inplace=True)\n",
    "XGBoost_and_rolling = px.line(XGBoost_and_rolling, title = 'XGBOOST vs Information TRAIN', width=1000, height=500)\n",
    "XGBoost_and_rolling.show()"
   ]
  },
  {
   "cell_type": "code",
   "execution_count": null,
   "id": "923cb397",
   "metadata": {},
   "outputs": [],
   "source": [
    "#Plotting the predictions of the testing data\n",
    "XGBoost_and_rolling = pd.concat([pd.DataFrame(list(test_ml[\"Prediction\"]),list(test_ml[\"Information\"]))], axis=1).dropna().reset_index()\n",
    "XGBoost_and_rolling.rename(columns={\"index\":\"Real_Information\",0:\"Predicted Information\"}, inplace=True)\n",
    "XGBoost_and_rolling = px.line(XGBoost_and_rolling, title = 'XGBOOST vs Information TEST', width=1000, height=500)\n",
    "XGBoost_and_rolling.show()"
   ]
  },
  {
   "cell_type": "code",
   "execution_count": null,
   "id": "f23fcf11",
   "metadata": {},
   "outputs": [],
   "source": [
    "pred_sign = np.sign(train_ml['Predictions'])\n",
    "y_test_sign = np.sign(train_ml['Information'])\n",
    "classification_accuracy = 1 - 0.5*np.sum(np.abs(pred_sign - y_test_sign))/np.size(y_test_sign)\n",
    "classification_accuracy"
   ]
  },
  {
   "cell_type": "code",
   "execution_count": null,
   "id": "eeb73523",
   "metadata": {},
   "outputs": [],
   "source": [
    "pred_sign = np.sign(test_ml['Prediction'])\n",
    "y_test_sign = np.sign(test_ml['Information'])\n",
    "classification_accuracy = 1 - 0.5*np.sum(np.abs(pred_sign - y_test_sign))/np.size(y_test_sign)\n",
    "classification_accuracy"
   ]
  },
  {
   "cell_type": "code",
   "execution_count": null,
   "id": "aad9b78a",
   "metadata": {},
   "outputs": [],
   "source": [
    "RMSE_Serie_XG = mean_squared_error(train_ml[\"Information\"],train_ml[\"Predictions\"],squared=False)\n",
    "MAPE_Serie_XG = mean_absolute_percentage_error(train_ml[\"Information\"], train_ml[\"Predictions\"])\n",
    "print(f\"The RMSE of our XGBOOST model in the full serie data is {round(RMSE_Serie_XG,4)}\")\n",
    "print(f\"The MAPE of our XGBOOST model in the full serie data is {round(MAPE_Serie_XG*100,2)}%\")"
   ]
  },
  {
   "cell_type": "code",
   "execution_count": null,
   "id": "25e18d1c",
   "metadata": {},
   "outputs": [],
   "source": [
    "true_vol = test_ml['Prediction']\n",
    "pred_vol = test_ml[\"Information\"]\n",
    "RMSE_XG = mean_squared_error(true_vol, pred_vol,squared=False)\n",
    "MAPE_XG = mean_absolute_percentage_error(true_vol, pred_vol)\n",
    "print(f\"The RMSE of our XGBOOST model in the predicted data is {round(RMSE_XG,4)}\")\n",
    "print(f\"The MAPE of our XGBOOST model in the predicted data is {round(MAPE_XG*100,2)}%\")"
   ]
  },
  {
   "cell_type": "code",
   "execution_count": null,
   "id": "1564d86f",
   "metadata": {},
   "outputs": [],
   "source": [
    "X, y = create_features(info_data, label=\"Information\")\n",
    "info_data[\"Predictions\"] = reg.predict(X)\n",
    "#Plotting the predictions of the training data\n",
    "XGBoost_and_rolling = pd.concat([pd.DataFrame(list(info_data[\"Predictions\"]),list(info_data[\"Information\"]))], axis=1).dropna().reset_index()\n",
    "XGBoost_and_rolling.rename(columns={\"index\":\"Real_Information\",0:\"Predicted Information\"}, inplace=True)\n",
    "XGBoost_and_rolling = px.line(XGBoost_and_rolling, title = 'XGBOOST vs Information FULL', width=1000, height=500)\n",
    "XGBoost_and_rolling.show()"
   ]
  },
  {
   "cell_type": "code",
   "execution_count": null,
   "id": "a6faef19",
   "metadata": {},
   "outputs": [],
   "source": [
    "pred_sign = np.sign(info_data['Predictions'])\n",
    "y_test_sign = np.sign(info_data['Information'])\n",
    "classification_accuracy = 1 - 0.5*np.sum(np.abs(pred_sign - y_test_sign))/np.size(y_test_sign)\n",
    "classification_accuracy"
   ]
  },
  {
   "cell_type": "code",
   "execution_count": null,
   "id": "49f1f414",
   "metadata": {},
   "outputs": [],
   "source": [
    "true_vol = info_data['Predictions']\n",
    "pred_vol = info_data[\"Information\"]\n",
    "RMSE_XG = mean_squared_error(true_vol, pred_vol,squared=False)\n",
    "MAPE_XG = mean_absolute_percentage_error(true_vol, pred_vol)\n",
    "print(f\"The RMSE of our XGBOOST model in the predicted data is {round(RMSE_XG,4)}\")\n",
    "print(f\"The MAPE of our XGBOOST model in the predicted data is {round(MAPE_XG*100,2)}%\")"
   ]
  },
  {
   "cell_type": "markdown",
   "id": "3a174ac0",
   "metadata": {},
   "source": [
    "# Prediction for Total Private"
   ]
  },
  {
   "cell_type": "code",
   "execution_count": null,
   "id": "e8b72689",
   "metadata": {},
   "outputs": [],
   "source": [
    "fig = px.line(outputs['Total_Private'], width=1000, height=500)\n",
    "fig.update_layout(title_text='Monthly employment data of Total_Private from 2006-06-01 to 2023-09-01')\n",
    "fig.show()"
   ]
  },
  {
   "cell_type": "code",
   "execution_count": null,
   "id": "b5bbef79",
   "metadata": {},
   "outputs": [],
   "source": [
    "plot_pacf(outputs['Total_Private'],method=\"yw\")\n",
    "#Print the visualization\n",
    "plt.show()"
   ]
  },
  {
   "cell_type": "code",
   "execution_count": null,
   "id": "de5822d6",
   "metadata": {},
   "outputs": [],
   "source": [
    "totpriv_data = outputs[['Month','Total_Private']]\n",
    "#Convert the date column to datetime format\n",
    "totpriv_data[\"Month\"] = pd.to_datetime(totpriv_data[\"Month\"])\n",
    "for i in range(1,6):\n",
    "    totpriv_data['prev'+str(i)]=totpriv_data['Total_Private'].shift(i)\n",
    "train_ml, test_ml, y_train, y_test = train_test_split(totpriv_data, totpriv_data['Total_Private'], test_size=0.3, random_state=4)"
   ]
  },
  {
   "cell_type": "code",
   "execution_count": null,
   "id": "dffca55a",
   "metadata": {},
   "outputs": [],
   "source": [
    "def create_features(df, label=None):\n",
    "    \"\"\"\n",
    "    Creates time series features from datetime index\n",
    "    \"\"\"\n",
    "    df['quarter'] = df['Month'].dt.quarter\n",
    "    df['month'] = df['Month'].dt.month\n",
    "    df['year'] = df['Month'].dt.year\n",
    "    for i in range(2,N):\n",
    "        df[inputs.keys()[i]] = inputs.iloc[:,i]\n",
    "    features = ['year']\n",
    "    input_feat = ['CommercialLoan','VGTPrice','CPI']\n",
    "    for feature in input_feat:\n",
    "        for i in range(1,3):\n",
    "            features.append(feature+'_prev'+str(i))\n",
    "    for i in range(1,3):\n",
    "        features.append('prev'+str(i))\n",
    "    X = df[features]\n",
    "    # X = df[['quarter','month','year']]\n",
    "#     X = df[['year','CommercialLoan','VGTPrice', 'CPI']]\n",
    "    # X = df[['quarter','month','year','CPI', 'InterestRate', 'GDP', 'ValAddConst', 'ValAddInfo','Borrowing','CommercialLoan', 'ConsumerLoan','Deficit','ITBPrice', 'ITBVol','VGTPrice', 'VGTVol','S&P500Price','S&P500Vol']]\n",
    "    if label:\n",
    "        y = df[label]\n",
    "        return X, y\n",
    "    return X"
   ]
  },
  {
   "cell_type": "code",
   "execution_count": null,
   "id": "8a3247e9",
   "metadata": {},
   "outputs": [],
   "source": [
    "#Creating the features for the train and test sets\n",
    "X_train, y_train = create_features(train_ml, label=\"Total_Private\")\n",
    "X_test, y_test = create_features(test_ml, label=\"Total_Private\")\n",
    "X_train.head()"
   ]
  },
  {
   "cell_type": "code",
   "execution_count": null,
   "id": "38627ffb",
   "metadata": {},
   "outputs": [],
   "source": [
    "#Defining and fitting the model\n",
    "reg = xgb.XGBRegressor(n_estimators=1000,early_stopping_rounds=60,)\n",
    "reg.fit(X_train, y_train,\n",
    "        eval_set=[(X_train, y_train), (X_test, y_test)],\n",
    "       verbose=False)"
   ]
  },
  {
   "cell_type": "code",
   "execution_count": null,
   "id": "10ec6b26",
   "metadata": {},
   "outputs": [],
   "source": [
    "#Plot of feature importance\n",
    "_ = plot_importance(reg, height=0.9)"
   ]
  },
  {
   "cell_type": "code",
   "execution_count": null,
   "id": "0983791d",
   "metadata": {},
   "outputs": [],
   "source": [
    "#Predicting with our model for both the train and test data\n",
    "train_ml[\"Predictions\"] = reg.predict(X_train)\n",
    "test_ml['Prediction'] = reg.predict(X_test)"
   ]
  },
  {
   "cell_type": "code",
   "execution_count": null,
   "id": "3ae257ae",
   "metadata": {},
   "outputs": [],
   "source": [
    "#Plotting the predictions of the training data\n",
    "XGBoost_and_rolling = pd.concat([pd.DataFrame(list(train_ml[\"Predictions\"]),list(train_ml[\"Total_Private\"]))], axis=1).dropna().reset_index()\n",
    "XGBoost_and_rolling.rename(columns={\"index\":\"Real_Total_Private\",0:\"Predicted Total_Private\"}, inplace=True)\n",
    "XGBoost_and_rolling = px.line(XGBoost_and_rolling, title = 'XGBOOST vs Total_Private TRAIN', width=1000, height=500)\n",
    "XGBoost_and_rolling.show()"
   ]
  },
  {
   "cell_type": "code",
   "execution_count": null,
   "id": "bd6e56d6",
   "metadata": {},
   "outputs": [],
   "source": [
    "#Plotting the predictions of the testing data\n",
    "XGBoost_and_rolling = pd.concat([pd.DataFrame(list(test_ml[\"Prediction\"]),list(test_ml[\"Total_Private\"]))], axis=1).dropna().reset_index()\n",
    "XGBoost_and_rolling.rename(columns={\"index\":\"Real_Total_Private\",0:\"Predicted Total_Private\"}, inplace=True)\n",
    "XGBoost_and_rolling = px.line(XGBoost_and_rolling, title = 'XGBOOST vs Total_Private TEST', width=1000, height=500)\n",
    "XGBoost_and_rolling.show()"
   ]
  },
  {
   "cell_type": "code",
   "execution_count": null,
   "id": "e675b2ab",
   "metadata": {},
   "outputs": [],
   "source": [
    "pred_sign = np.sign(train_ml['Predictions'])\n",
    "y_test_sign = np.sign(train_ml['Total_Private'])\n",
    "classification_accuracy = 1 - 0.5*np.sum(np.abs(pred_sign - y_test_sign))/np.size(y_test_sign)\n",
    "classification_accuracy"
   ]
  },
  {
   "cell_type": "code",
   "execution_count": null,
   "id": "db95144a",
   "metadata": {},
   "outputs": [],
   "source": [
    "pred_sign = np.sign(test_ml['Prediction'])\n",
    "y_test_sign = np.sign(test_ml['Total_Private'])\n",
    "classification_accuracy = 1 - 0.5*np.sum(np.abs(pred_sign - y_test_sign))/np.size(y_test_sign)\n",
    "classification_accuracy"
   ]
  },
  {
   "cell_type": "code",
   "execution_count": null,
   "id": "0869e57d",
   "metadata": {},
   "outputs": [],
   "source": [
    "RMSE_Serie_XG = mean_squared_error(train_ml[\"Total_Private\"],train_ml[\"Predictions\"],squared=False)\n",
    "MAPE_Serie_XG = mean_absolute_percentage_error(train_ml[\"Total_Private\"], train_ml[\"Predictions\"])\n",
    "print(f\"The RMSE of our XGBOOST model in the full serie data is {round(RMSE_Serie_XG,4)}\")\n",
    "print(f\"The MAPE of our XGBOOST model in the full serie data is {round(MAPE_Serie_XG*100,2)}%\")"
   ]
  },
  {
   "cell_type": "code",
   "execution_count": null,
   "id": "a877d3b3",
   "metadata": {},
   "outputs": [],
   "source": [
    "true_vol = test_ml['Prediction']\n",
    "pred_vol = test_ml[\"Total_Private\"]\n",
    "RMSE_XG = mean_squared_error(true_vol, pred_vol,squared=False)\n",
    "MAPE_XG = mean_absolute_percentage_error(true_vol, pred_vol)\n",
    "print(f\"The RMSE of our XGBOOST model in the predicted data is {round(RMSE_XG,4)}\")\n",
    "print(f\"The MAPE of our XGBOOST model in the predicted data is {round(MAPE_XG*100,2)}%\")"
   ]
  },
  {
   "cell_type": "code",
   "execution_count": null,
   "id": "23c4701c",
   "metadata": {},
   "outputs": [],
   "source": [
    "X, y = create_features(totpriv_data, label=\"Total_Private\")\n",
    "totpriv_data[\"Predictions\"] = reg.predict(X)\n",
    "#Plotting the predictions of the training data\n",
    "XGBoost_and_rolling = pd.concat([pd.DataFrame(list(totpriv_data[\"Predictions\"]),list(totpriv_data[\"Total_Private\"]))], axis=1).dropna().reset_index()\n",
    "XGBoost_and_rolling.rename(columns={\"index\":\"Real_Total_Private\",0:\"Predicted Total_Private\"}, inplace=True)\n",
    "XGBoost_and_rolling = px.line(XGBoost_and_rolling, title = 'XGBOOST vs Total_Private FULL', width=1000, height=500)\n",
    "XGBoost_and_rolling.show()"
   ]
  },
  {
   "cell_type": "code",
   "execution_count": null,
   "id": "617888af",
   "metadata": {},
   "outputs": [],
   "source": [
    "pred_sign = np.sign(totpriv_data['Predictions'])\n",
    "y_test_sign = np.sign(totpriv_data['Total_Private'])\n",
    "classification_accuracy = 1 - 0.5*np.sum(np.abs(pred_sign - y_test_sign))/np.size(y_test_sign)\n",
    "classification_accuracy"
   ]
  },
  {
   "cell_type": "code",
   "execution_count": null,
   "id": "225a40e6",
   "metadata": {},
   "outputs": [],
   "source": [
    "true_vol = totpriv_data['Predictions']\n",
    "pred_vol = totpriv_data[\"Total_Private\"]\n",
    "RMSE_XG = mean_squared_error(true_vol, pred_vol,squared=False)\n",
    "MAPE_XG = mean_absolute_percentage_error(true_vol, pred_vol)\n",
    "print(f\"The RMSE of our XGBOOST model in the predicted data is {round(RMSE_XG,4)}\")\n",
    "print(f\"The MAPE of our XGBOOST model in the predicted data is {round(MAPE_XG*100,2)}%\")\n",
    "r2_score = sklearn.metrics.r2_score(true_vol, pred_vol)\n",
    "print(f\"The R^2 score of our XGBOOST model in the predicted data is {round(r2_score,4)}\")"
   ]
  },
  {
   "cell_type": "code",
   "execution_count": null,
   "id": "afd31317",
   "metadata": {},
   "outputs": [],
   "source": []
  }
 ],
 "metadata": {
  "kernelspec": {
   "display_name": "Python 3 (ipykernel)",
   "language": "python",
   "name": "python3"
  },
  "language_info": {
   "codemirror_mode": {
    "name": "ipython",
    "version": 3
   },
   "file_extension": ".py",
   "mimetype": "text/x-python",
   "name": "python",
   "nbconvert_exporter": "python",
   "pygments_lexer": "ipython3",
   "version": "3.11.5"
  }
 },
 "nbformat": 4,
 "nbformat_minor": 5
}
