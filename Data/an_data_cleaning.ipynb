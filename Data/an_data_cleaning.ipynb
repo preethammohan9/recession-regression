{
 "cells": [
  {
   "cell_type": "code",
   "execution_count": null,
   "id": "08e7c421-fca8-4ffc-aeae-938f27c476de",
   "metadata": {},
   "outputs": [],
   "source": [
    "import numpy as np\n",
    "import scipy\n",
    "import pandas as pd\n",
    "import os\n",
    "import matplotlib.pyplot as plt\n",
    "from statsmodels.tsa.seasonal import STL"
   ]
  },
  {
   "cell_type": "code",
   "execution_count": null,
   "id": "07272e82-543b-484a-966a-a7095799f8c0",
   "metadata": {},
   "outputs": [],
   "source": [
    "%matplotlib widget\n",
    "plt.rcParams[\"figure.autolayout\"] = True\n",
    "plt.rcParams[\"figure.figsize\"] = [7,5]"
   ]
  },
  {
   "cell_type": "markdown",
   "id": "207e0de5-6da7-4238-ab0d-230dd2c7010b",
   "metadata": {
    "tags": []
   },
   "source": [
    "# Data Cleaning"
   ]
  },
  {
   "cell_type": "code",
   "execution_count": null,
   "id": "2f5ab6e6-c4a5-4d40-ae68-f7e1f029d366",
   "metadata": {},
   "outputs": [],
   "source": [
    "os.getcwd()"
   ]
  },
  {
   "cell_type": "code",
   "execution_count": null,
   "id": "4fa931af-43d1-4523-94b7-237d7b762af5",
   "metadata": {},
   "outputs": [],
   "source": [
    "os.path.isfile('data_cleaning_pm.ipynb')"
   ]
  },
  {
   "cell_type": "code",
   "execution_count": null,
   "id": "82074ade-659f-4cea-afb8-8a436c414f36",
   "metadata": {},
   "outputs": [],
   "source": [
    "original = pd.read_csv('BLS_Employment.csv')\n",
    "original"
   ]
  },
  {
   "cell_type": "code",
   "execution_count": null,
   "id": "11219794-7b3e-48ad-a1c9-d7546d64164b",
   "metadata": {},
   "outputs": [],
   "source": [
    "original['Month'] = pd.to_datetime(original['Month'])\n",
    "original"
   ]
  },
  {
   "cell_type": "code",
   "execution_count": null,
   "id": "834ad089-20cc-4a59-81d5-276e110f0081",
   "metadata": {},
   "outputs": [],
   "source": [
    "employ_diff = original.diff(axis = 0)\n",
    "employ_diff"
   ]
  },
  {
   "cell_type": "code",
   "execution_count": null,
   "id": "ea4e9997-f3ac-4bc4-b416-c26c47f49ed4",
   "metadata": {},
   "outputs": [],
   "source": [
    "employ_diff['Month'] = original['Month']\n",
    "employ_diff"
   ]
  },
  {
   "cell_type": "code",
   "execution_count": null,
   "id": "db7b637f-10eb-4dab-b117-0560eb98e721",
   "metadata": {},
   "outputs": [],
   "source": [
    "employ_diff.drop(0, axis=0, inplace = True)"
   ]
  },
  {
   "cell_type": "code",
   "execution_count": null,
   "id": "7e8aa221-9d81-4ed5-93d9-8fc87cf3a514",
   "metadata": {},
   "outputs": [],
   "source": [
    "covid_lockdown = employ_diff[197:203]\n",
    "covid_lockdown"
   ]
  },
  {
   "cell_type": "code",
   "execution_count": null,
   "id": "3291fe5a-9a73-4e29-8add-a9e03fbacc04",
   "metadata": {},
   "outputs": [],
   "source": [
    "employ_diff.drop(np.arange(198, 202), axis=0, inplace = True)"
   ]
  },
  {
   "cell_type": "code",
   "execution_count": null,
   "id": "605a5387-381d-4724-9448-e250da9a9d25",
   "metadata": {},
   "outputs": [],
   "source": [
    "employ_diff.reset_index(drop = True, inplace = True)"
   ]
  },
  {
   "cell_type": "code",
   "execution_count": null,
   "id": "b52ae774-5876-4588-b998-e03c535d4e2b",
   "metadata": {},
   "outputs": [],
   "source": [
    "employ_diff.to_csv('BLS_EmployDelta.csv')"
   ]
  },
  {
   "cell_type": "markdown",
   "id": "689bccab-0f46-471a-86ed-1b1ee538dc27",
   "metadata": {},
   "source": [
    "# Simple Predictions"
   ]
  },
  {
   "cell_type": "code",
   "execution_count": null,
   "id": "40b519f0-220b-4acf-995f-7189892d3d21",
   "metadata": {},
   "outputs": [],
   "source": [
    "employ_diff = pd.read_csv('BLS_EmployDelta.csv')"
   ]
  },
  {
   "cell_type": "code",
   "execution_count": null,
   "id": "d6a39dc0-f40b-43f8-b52f-e6397df65117",
   "metadata": {},
   "outputs": [],
   "source": [
    "employ_diff.info()"
   ]
  },
  {
   "cell_type": "code",
   "execution_count": null,
   "id": "81026fe0-091b-4184-a502-1c9b2ba8722b",
   "metadata": {},
   "outputs": [],
   "source": [
    "employ_diff"
   ]
  },
  {
   "cell_type": "code",
   "execution_count": null,
   "id": "aeba8b09-0863-45eb-a8e1-16343ec05fb9",
   "metadata": {},
   "outputs": [],
   "source": [
    "plt.close()\n",
    "plt.plot(employ_diff['Month'], employ_diff['Construction'])\n",
    "plt.show()"
   ]
  },
  {
   "cell_type": "markdown",
   "id": "6bac92a7-bb74-4d27-a853-fc4fbcec3860",
   "metadata": {
    "jp-MarkdownHeadingCollapsed": true,
    "tags": []
   },
   "source": [
    "## Check for seasonality trend:"
   ]
  },
  {
   "cell_type": "code",
   "execution_count": null,
   "id": "6e888c34-4c49-4d0f-ae21-d1fbbb403cd6",
   "metadata": {},
   "outputs": [],
   "source": [
    "seasonal = STL(employ_diff['Construction'], period=12)\n",
    "res = seasonal.fit()\n",
    "fig = res.plot()"
   ]
  },
  {
   "cell_type": "markdown",
   "id": "6052bed1-e1b7-4dad-8ee9-956db0719feb",
   "metadata": {},
   "source": [
    "I don't observe any particularly notable yearly trends!"
   ]
  },
  {
   "cell_type": "markdown",
   "id": "3e219f8b-6aee-4fea-9cef-fb62eb1232c2",
   "metadata": {},
   "source": [
    "## Try simple regression fit"
   ]
  },
  {
   "cell_type": "code",
   "execution_count": null,
   "id": "bd19e364-2245-4ab8-b407-6ed7fedb62c8",
   "metadata": {},
   "outputs": [],
   "source": []
  }
 ],
 "metadata": {
  "kernelspec": {
   "display_name": "Python 3 (ipykernel)",
   "language": "python",
   "name": "python3"
  },
  "language_info": {
   "codemirror_mode": {
    "name": "ipython",
    "version": 3
   },
   "file_extension": ".py",
   "mimetype": "text/x-python",
   "name": "python",
   "nbconvert_exporter": "python",
   "pygments_lexer": "ipython3",
   "version": "3.9.7"
  }
 },
 "nbformat": 4,
 "nbformat_minor": 5
}
