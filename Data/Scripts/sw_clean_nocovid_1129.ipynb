{
 "cells": [
  {
   "cell_type": "code",
   "execution_count": 1,
   "id": "d70879a4",
   "metadata": {},
   "outputs": [],
   "source": [
    "import matplotlib.pyplot as plt\n",
    "import pandas as pd\n",
    "import numpy as np"
   ]
  },
  {
   "cell_type": "code",
   "execution_count": 6,
   "id": "8a7d967d",
   "metadata": {},
   "outputs": [
    {
     "name": "stdout",
     "output_type": "stream",
     "text": [
      "          Month  Total_private_pch  Construction_pch\n",
      "755  2022-12-01            0.17579           0.33193\n",
      "756  2023-01-01            0.26701           0.33083\n",
      "757  2023-02-01            0.14560           0.17755\n",
      "758  2023-03-01            0.11827          -0.11394\n",
      "759  2023-04-01            0.13468           0.13942\n",
      "760  2023-05-01            0.19161           0.31642\n",
      "761  2023-06-01            0.06450           0.36588\n",
      "762  2023-07-01            0.10867           0.15085\n",
      "763  2023-08-01            0.08535           0.37655\n",
      "764  2023-09-01            0.18401           0.16256\n"
     ]
    }
   ],
   "source": [
    "df = pd.read_csv('../Employment_pch_1960.csv')\n",
    "df = df[(df['Month'] < '2020-03-01') | (df['Month'] > '2020-06-01')]\n",
    "df = df[['Month', 'Total_private_pch', 'Construction_pch']]\n",
    "df = df.iloc[:-1,:]\n",
    "# df.tail(50)\n",
    "print(df.tail(10))\n",
    "# df.to_csv('../Employment_pch_1960_no_covid.csv')\n"
   ]
  },
  {
   "cell_type": "code",
   "execution_count": null,
   "id": "7ffea400",
   "metadata": {},
   "outputs": [],
   "source": []
  }
 ],
 "metadata": {
  "kernelspec": {
   "display_name": "Python 3 (ipykernel)",
   "language": "python",
   "name": "python3"
  },
  "language_info": {
   "codemirror_mode": {
    "name": "ipython",
    "version": 3
   },
   "file_extension": ".py",
   "mimetype": "text/x-python",
   "name": "python",
   "nbconvert_exporter": "python",
   "pygments_lexer": "ipython3",
   "version": "3.11.5"
  }
 },
 "nbformat": 4,
 "nbformat_minor": 5
}
