{
 "cells": [
  {
   "cell_type": "code",
   "execution_count": 1,
   "id": "d70879a4",
   "metadata": {},
   "outputs": [],
   "source": [
    "import matplotlib.pyplot as plt\n",
    "import pandas as pd\n",
    "import numpy as np"
   ]
  },
  {
   "cell_type": "code",
   "execution_count": 8,
   "id": "8a7d967d",
   "metadata": {},
   "outputs": [
    {
     "name": "stdout",
     "output_type": "stream",
     "text": [
      "          Month  Total_private_pch  Construction_pch\n",
      "0    1960-01-01            0.35148          -1.20994\n",
      "1    1960-02-01            0.47860           1.05925\n",
      "2    1960-03-01           -0.55860          -5.63380\n",
      "3    1960-04-01            0.76205           4.26935\n",
      "4    1960-05-01           -0.50995           0.56591\n",
      "..          ...                ...               ...\n",
      "760  2023-05-01            0.19161           0.31642\n",
      "761  2023-06-01            0.06450           0.36588\n",
      "762  2023-07-01            0.10867           0.15085\n",
      "763  2023-08-01            0.08535           0.37655\n",
      "764  2023-09-01            0.18401           0.16256\n",
      "\n",
      "[761 rows x 3 columns]\n"
     ]
    }
   ],
   "source": [
    "df = pd.read_csv('../Employment_pch_1960.csv')\n",
    "df = df[(df['Month'] < '2020-03-01') | (df['Month'] > '2020-06-01')]\n",
    "df = df[['Month', 'Total_private_pch', 'Construction_pch']]\n",
    "df = df.iloc[:-1,:]\n",
    "print(df)\n",
    "# df.to_csv('../Employment_pch_1960_no_covid.csv')\n"
   ]
  },
  {
   "cell_type": "code",
   "execution_count": null,
   "id": "7ffea400",
   "metadata": {},
   "outputs": [],
   "source": []
  }
 ],
 "metadata": {
  "kernelspec": {
   "display_name": "Python 3 (ipykernel)",
   "language": "python",
   "name": "python3"
  },
  "language_info": {
   "codemirror_mode": {
    "name": "ipython",
    "version": 3
   },
   "file_extension": ".py",
   "mimetype": "text/x-python",
   "name": "python",
   "nbconvert_exporter": "python",
   "pygments_lexer": "ipython3",
   "version": "3.11.5"
  }
 },
 "nbformat": 4,
 "nbformat_minor": 5
}
