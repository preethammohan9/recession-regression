{
 "cells": [
  {
   "cell_type": "code",
   "execution_count": 1,
   "id": "initial_id",
   "metadata": {
    "collapsed": true,
    "ExecuteTime": {
     "end_time": "2023-11-05T21:06:40.018254Z",
     "start_time": "2023-11-05T21:06:39.775506Z"
    }
   },
   "outputs": [],
   "source": [
    "import pandas as pd"
   ]
  },
  {
   "cell_type": "code",
   "execution_count": 2,
   "outputs": [],
   "source": [
    "borrowings = pd.read_csv('Borrowings_pc.csv')\n",
    "consumer_loans = pd.read_csv('Consumer_Loans_pc.csv')\n",
    "commercial_loans = pd.read_csv('Commercial_and_Industrial_Loans_pc.csv')"
   ],
   "metadata": {
    "collapsed": false,
    "ExecuteTime": {
     "end_time": "2023-11-05T21:06:41.042939Z",
     "start_time": "2023-11-05T21:06:41.031730Z"
    }
   },
   "id": "e18cb1fc88bb9778"
  },
  {
   "cell_type": "code",
   "execution_count": 3,
   "outputs": [
    {
     "data": {
      "text/plain": "           DATE  H8B3094NCBA_PCH\n0    2003-09-01         -2.84935\n1    2003-10-01         -0.52739\n2    2003-11-01         -0.33504\n3    2003-12-01          1.21509\n4    2004-01-01          4.00976\n..          ...              ...\n236  2023-05-01          0.16145\n237  2023-06-01         -1.63324\n238  2023-07-01         -3.31905\n239  2023-08-01         -1.04501\n240  2023-09-01          2.54372\n\n[241 rows x 2 columns]",
      "text/html": "<div>\n<style scoped>\n    .dataframe tbody tr th:only-of-type {\n        vertical-align: middle;\n    }\n\n    .dataframe tbody tr th {\n        vertical-align: top;\n    }\n\n    .dataframe thead th {\n        text-align: right;\n    }\n</style>\n<table border=\"1\" class=\"dataframe\">\n  <thead>\n    <tr style=\"text-align: right;\">\n      <th></th>\n      <th>DATE</th>\n      <th>H8B3094NCBA_PCH</th>\n    </tr>\n  </thead>\n  <tbody>\n    <tr>\n      <th>0</th>\n      <td>2003-09-01</td>\n      <td>-2.84935</td>\n    </tr>\n    <tr>\n      <th>1</th>\n      <td>2003-10-01</td>\n      <td>-0.52739</td>\n    </tr>\n    <tr>\n      <th>2</th>\n      <td>2003-11-01</td>\n      <td>-0.33504</td>\n    </tr>\n    <tr>\n      <th>3</th>\n      <td>2003-12-01</td>\n      <td>1.21509</td>\n    </tr>\n    <tr>\n      <th>4</th>\n      <td>2004-01-01</td>\n      <td>4.00976</td>\n    </tr>\n    <tr>\n      <th>...</th>\n      <td>...</td>\n      <td>...</td>\n    </tr>\n    <tr>\n      <th>236</th>\n      <td>2023-05-01</td>\n      <td>0.16145</td>\n    </tr>\n    <tr>\n      <th>237</th>\n      <td>2023-06-01</td>\n      <td>-1.63324</td>\n    </tr>\n    <tr>\n      <th>238</th>\n      <td>2023-07-01</td>\n      <td>-3.31905</td>\n    </tr>\n    <tr>\n      <th>239</th>\n      <td>2023-08-01</td>\n      <td>-1.04501</td>\n    </tr>\n    <tr>\n      <th>240</th>\n      <td>2023-09-01</td>\n      <td>2.54372</td>\n    </tr>\n  </tbody>\n</table>\n<p>241 rows × 2 columns</p>\n</div>"
     },
     "execution_count": 3,
     "metadata": {},
     "output_type": "execute_result"
    }
   ],
   "source": [
    "borrowings"
   ],
   "metadata": {
    "collapsed": false,
    "ExecuteTime": {
     "end_time": "2023-11-05T21:06:42.367399Z",
     "start_time": "2023-11-05T21:06:42.357259Z"
    }
   },
   "id": "ebb6271d13f72175"
  },
  {
   "cell_type": "code",
   "execution_count": 4,
   "outputs": [],
   "source": [
    "borrowings = borrowings.rename(columns={\"H8B3094NCBA_PCH\":\"borrowings_pc\"})"
   ],
   "metadata": {
    "collapsed": false,
    "ExecuteTime": {
     "end_time": "2023-11-05T21:06:43.487967Z",
     "start_time": "2023-11-05T21:06:43.480111Z"
    }
   },
   "id": "839f1c67253c3404"
  },
  {
   "cell_type": "code",
   "execution_count": 5,
   "outputs": [
    {
     "data": {
      "text/plain": "           DATE  H8B1029NCBCMG\n0    2003-09-01           -3.5\n1    2003-10-01            1.5\n2    2003-11-01            5.3\n3    2003-12-01           -1.5\n4    2004-01-01            6.8\n..          ...            ...\n236  2023-05-01            6.0\n237  2023-06-01            3.0\n238  2023-07-01            2.4\n239  2023-08-01            5.9\n240  2023-09-01            3.7\n\n[241 rows x 2 columns]",
      "text/html": "<div>\n<style scoped>\n    .dataframe tbody tr th:only-of-type {\n        vertical-align: middle;\n    }\n\n    .dataframe tbody tr th {\n        vertical-align: top;\n    }\n\n    .dataframe thead th {\n        text-align: right;\n    }\n</style>\n<table border=\"1\" class=\"dataframe\">\n  <thead>\n    <tr style=\"text-align: right;\">\n      <th></th>\n      <th>DATE</th>\n      <th>H8B1029NCBCMG</th>\n    </tr>\n  </thead>\n  <tbody>\n    <tr>\n      <th>0</th>\n      <td>2003-09-01</td>\n      <td>-3.5</td>\n    </tr>\n    <tr>\n      <th>1</th>\n      <td>2003-10-01</td>\n      <td>1.5</td>\n    </tr>\n    <tr>\n      <th>2</th>\n      <td>2003-11-01</td>\n      <td>5.3</td>\n    </tr>\n    <tr>\n      <th>3</th>\n      <td>2003-12-01</td>\n      <td>-1.5</td>\n    </tr>\n    <tr>\n      <th>4</th>\n      <td>2004-01-01</td>\n      <td>6.8</td>\n    </tr>\n    <tr>\n      <th>...</th>\n      <td>...</td>\n      <td>...</td>\n    </tr>\n    <tr>\n      <th>236</th>\n      <td>2023-05-01</td>\n      <td>6.0</td>\n    </tr>\n    <tr>\n      <th>237</th>\n      <td>2023-06-01</td>\n      <td>3.0</td>\n    </tr>\n    <tr>\n      <th>238</th>\n      <td>2023-07-01</td>\n      <td>2.4</td>\n    </tr>\n    <tr>\n      <th>239</th>\n      <td>2023-08-01</td>\n      <td>5.9</td>\n    </tr>\n    <tr>\n      <th>240</th>\n      <td>2023-09-01</td>\n      <td>3.7</td>\n    </tr>\n  </tbody>\n</table>\n<p>241 rows × 2 columns</p>\n</div>"
     },
     "execution_count": 5,
     "metadata": {},
     "output_type": "execute_result"
    }
   ],
   "source": [
    "consumer_loans"
   ],
   "metadata": {
    "collapsed": false,
    "ExecuteTime": {
     "end_time": "2023-11-05T21:06:44.534969Z",
     "start_time": "2023-11-05T21:06:44.523288Z"
    }
   },
   "id": "9fc523b84fd2fb1a"
  },
  {
   "cell_type": "code",
   "execution_count": 6,
   "outputs": [],
   "source": [
    "consumer_loans = consumer_loans.rename(columns={\"H8B1029NCBCMG\":\"consumer_loans_pc\"})"
   ],
   "metadata": {
    "collapsed": false,
    "ExecuteTime": {
     "end_time": "2023-11-05T21:06:45.370508Z",
     "start_time": "2023-11-05T21:06:45.365664Z"
    }
   },
   "id": "a40f0163d5c8d1f5"
  },
  {
   "cell_type": "code",
   "execution_count": 7,
   "outputs": [
    {
     "data": {
      "text/plain": "           DATE  H8B1023NCBCMG\n0    2003-09-01          -12.6\n1    2003-10-01          -16.5\n2    2003-11-01           -6.6\n3    2003-12-01          -10.3\n4    2004-01-01          -15.7\n..          ...            ...\n236  2023-05-01           -2.6\n237  2023-06-01           -2.1\n238  2023-07-01           -0.7\n239  2023-08-01           -0.1\n240  2023-09-01            0.4\n\n[241 rows x 2 columns]",
      "text/html": "<div>\n<style scoped>\n    .dataframe tbody tr th:only-of-type {\n        vertical-align: middle;\n    }\n\n    .dataframe tbody tr th {\n        vertical-align: top;\n    }\n\n    .dataframe thead th {\n        text-align: right;\n    }\n</style>\n<table border=\"1\" class=\"dataframe\">\n  <thead>\n    <tr style=\"text-align: right;\">\n      <th></th>\n      <th>DATE</th>\n      <th>H8B1023NCBCMG</th>\n    </tr>\n  </thead>\n  <tbody>\n    <tr>\n      <th>0</th>\n      <td>2003-09-01</td>\n      <td>-12.6</td>\n    </tr>\n    <tr>\n      <th>1</th>\n      <td>2003-10-01</td>\n      <td>-16.5</td>\n    </tr>\n    <tr>\n      <th>2</th>\n      <td>2003-11-01</td>\n      <td>-6.6</td>\n    </tr>\n    <tr>\n      <th>3</th>\n      <td>2003-12-01</td>\n      <td>-10.3</td>\n    </tr>\n    <tr>\n      <th>4</th>\n      <td>2004-01-01</td>\n      <td>-15.7</td>\n    </tr>\n    <tr>\n      <th>...</th>\n      <td>...</td>\n      <td>...</td>\n    </tr>\n    <tr>\n      <th>236</th>\n      <td>2023-05-01</td>\n      <td>-2.6</td>\n    </tr>\n    <tr>\n      <th>237</th>\n      <td>2023-06-01</td>\n      <td>-2.1</td>\n    </tr>\n    <tr>\n      <th>238</th>\n      <td>2023-07-01</td>\n      <td>-0.7</td>\n    </tr>\n    <tr>\n      <th>239</th>\n      <td>2023-08-01</td>\n      <td>-0.1</td>\n    </tr>\n    <tr>\n      <th>240</th>\n      <td>2023-09-01</td>\n      <td>0.4</td>\n    </tr>\n  </tbody>\n</table>\n<p>241 rows × 2 columns</p>\n</div>"
     },
     "execution_count": 7,
     "metadata": {},
     "output_type": "execute_result"
    }
   ],
   "source": [
    "commercial_loans"
   ],
   "metadata": {
    "collapsed": false,
    "ExecuteTime": {
     "end_time": "2023-11-05T21:06:46.190647Z",
     "start_time": "2023-11-05T21:06:46.183879Z"
    }
   },
   "id": "f819b2bfdda2c553"
  },
  {
   "cell_type": "code",
   "execution_count": 8,
   "outputs": [],
   "source": [
    "commercial_loans = commercial_loans.rename(columns={\"H8B1023NCBCMG\":\"commercial_loans_pc\"})"
   ],
   "metadata": {
    "collapsed": false,
    "ExecuteTime": {
     "end_time": "2023-11-05T21:06:47.048541Z",
     "start_time": "2023-11-05T21:06:47.044917Z"
    }
   },
   "id": "88006d730fe8f04a"
  },
  {
   "cell_type": "code",
   "execution_count": 9,
   "outputs": [],
   "source": [
    "borrowings['DATE'] = pd.to_datetime(borrowings['DATE'])\n",
    "consumer_loans['DATE'] = pd.to_datetime(consumer_loans['DATE'])\n",
    "commercial_loans['DATE'] = pd.to_datetime(commercial_loans['DATE'])"
   ],
   "metadata": {
    "collapsed": false,
    "ExecuteTime": {
     "end_time": "2023-11-05T21:06:47.949047Z",
     "start_time": "2023-11-05T21:06:47.945557Z"
    }
   },
   "id": "5a94c1e9dbbb56a6"
  },
  {
   "cell_type": "code",
   "execution_count": 10,
   "outputs": [],
   "source": [
    "commercial_banks_data = pd.merge(borrowings, consumer_loans, how='outer', on='DATE')\n",
    "commercial_banks_data = pd.merge(commercial_banks_data, commercial_loans, how='outer', on='DATE')"
   ],
   "metadata": {
    "collapsed": false,
    "ExecuteTime": {
     "end_time": "2023-11-05T21:06:49.263708Z",
     "start_time": "2023-11-05T21:06:49.253904Z"
    }
   },
   "id": "7686a2ad6e54d086"
  },
  {
   "cell_type": "code",
   "execution_count": 11,
   "outputs": [
    {
     "data": {
      "text/plain": "          DATE  borrowings_pc  consumer_loans_pc  commercial_loans_pc\n0   2003-09-01       -2.84935               -3.5                -12.6\n1   2003-10-01       -0.52739                1.5                -16.5\n2   2003-11-01       -0.33504                5.3                 -6.6\n3   2003-12-01        1.21509               -1.5                -10.3\n4   2004-01-01        4.00976                6.8                -15.7\n..         ...            ...                ...                  ...\n236 2023-05-01        0.16145                6.0                 -2.6\n237 2023-06-01       -1.63324                3.0                 -2.1\n238 2023-07-01       -3.31905                2.4                 -0.7\n239 2023-08-01       -1.04501                5.9                 -0.1\n240 2023-09-01        2.54372                3.7                  0.4\n\n[241 rows x 4 columns]",
      "text/html": "<div>\n<style scoped>\n    .dataframe tbody tr th:only-of-type {\n        vertical-align: middle;\n    }\n\n    .dataframe tbody tr th {\n        vertical-align: top;\n    }\n\n    .dataframe thead th {\n        text-align: right;\n    }\n</style>\n<table border=\"1\" class=\"dataframe\">\n  <thead>\n    <tr style=\"text-align: right;\">\n      <th></th>\n      <th>DATE</th>\n      <th>borrowings_pc</th>\n      <th>consumer_loans_pc</th>\n      <th>commercial_loans_pc</th>\n    </tr>\n  </thead>\n  <tbody>\n    <tr>\n      <th>0</th>\n      <td>2003-09-01</td>\n      <td>-2.84935</td>\n      <td>-3.5</td>\n      <td>-12.6</td>\n    </tr>\n    <tr>\n      <th>1</th>\n      <td>2003-10-01</td>\n      <td>-0.52739</td>\n      <td>1.5</td>\n      <td>-16.5</td>\n    </tr>\n    <tr>\n      <th>2</th>\n      <td>2003-11-01</td>\n      <td>-0.33504</td>\n      <td>5.3</td>\n      <td>-6.6</td>\n    </tr>\n    <tr>\n      <th>3</th>\n      <td>2003-12-01</td>\n      <td>1.21509</td>\n      <td>-1.5</td>\n      <td>-10.3</td>\n    </tr>\n    <tr>\n      <th>4</th>\n      <td>2004-01-01</td>\n      <td>4.00976</td>\n      <td>6.8</td>\n      <td>-15.7</td>\n    </tr>\n    <tr>\n      <th>...</th>\n      <td>...</td>\n      <td>...</td>\n      <td>...</td>\n      <td>...</td>\n    </tr>\n    <tr>\n      <th>236</th>\n      <td>2023-05-01</td>\n      <td>0.16145</td>\n      <td>6.0</td>\n      <td>-2.6</td>\n    </tr>\n    <tr>\n      <th>237</th>\n      <td>2023-06-01</td>\n      <td>-1.63324</td>\n      <td>3.0</td>\n      <td>-2.1</td>\n    </tr>\n    <tr>\n      <th>238</th>\n      <td>2023-07-01</td>\n      <td>-3.31905</td>\n      <td>2.4</td>\n      <td>-0.7</td>\n    </tr>\n    <tr>\n      <th>239</th>\n      <td>2023-08-01</td>\n      <td>-1.04501</td>\n      <td>5.9</td>\n      <td>-0.1</td>\n    </tr>\n    <tr>\n      <th>240</th>\n      <td>2023-09-01</td>\n      <td>2.54372</td>\n      <td>3.7</td>\n      <td>0.4</td>\n    </tr>\n  </tbody>\n</table>\n<p>241 rows × 4 columns</p>\n</div>"
     },
     "execution_count": 11,
     "metadata": {},
     "output_type": "execute_result"
    }
   ],
   "source": [
    "commercial_banks_data"
   ],
   "metadata": {
    "collapsed": false,
    "ExecuteTime": {
     "end_time": "2023-11-05T21:06:50.866425Z",
     "start_time": "2023-11-05T21:06:50.862323Z"
    }
   },
   "id": "efd8b83ce4df0219"
  },
  {
   "cell_type": "code",
   "execution_count": 12,
   "outputs": [],
   "source": [
    "# remove COVID affected months (i.e. removing data from March 2020 to June 2020)\n",
    "commercial_banks_data = commercial_banks_data.loc[(commercial_banks_data['DATE'] < '2020-03-01') | (commercial_banks_data['DATE'] > '2020-06-01')]"
   ],
   "metadata": {
    "collapsed": false,
    "ExecuteTime": {
     "end_time": "2023-11-05T21:06:53.575873Z",
     "start_time": "2023-11-05T21:06:53.571519Z"
    }
   },
   "id": "fb3a0aad0259bbf8"
  },
  {
   "cell_type": "code",
   "execution_count": 13,
   "outputs": [
    {
     "data": {
      "text/plain": "          DATE  borrowings_pc  consumer_loans_pc  commercial_loans_pc\n0   2003-09-01       -2.84935               -3.5                -12.6\n1   2003-10-01       -0.52739                1.5                -16.5\n2   2003-11-01       -0.33504                5.3                 -6.6\n3   2003-12-01        1.21509               -1.5                -10.3\n4   2004-01-01        4.00976                6.8                -15.7\n..         ...            ...                ...                  ...\n236 2023-05-01        0.16145                6.0                 -2.6\n237 2023-06-01       -1.63324                3.0                 -2.1\n238 2023-07-01       -3.31905                2.4                 -0.7\n239 2023-08-01       -1.04501                5.9                 -0.1\n240 2023-09-01        2.54372                3.7                  0.4\n\n[237 rows x 4 columns]",
      "text/html": "<div>\n<style scoped>\n    .dataframe tbody tr th:only-of-type {\n        vertical-align: middle;\n    }\n\n    .dataframe tbody tr th {\n        vertical-align: top;\n    }\n\n    .dataframe thead th {\n        text-align: right;\n    }\n</style>\n<table border=\"1\" class=\"dataframe\">\n  <thead>\n    <tr style=\"text-align: right;\">\n      <th></th>\n      <th>DATE</th>\n      <th>borrowings_pc</th>\n      <th>consumer_loans_pc</th>\n      <th>commercial_loans_pc</th>\n    </tr>\n  </thead>\n  <tbody>\n    <tr>\n      <th>0</th>\n      <td>2003-09-01</td>\n      <td>-2.84935</td>\n      <td>-3.5</td>\n      <td>-12.6</td>\n    </tr>\n    <tr>\n      <th>1</th>\n      <td>2003-10-01</td>\n      <td>-0.52739</td>\n      <td>1.5</td>\n      <td>-16.5</td>\n    </tr>\n    <tr>\n      <th>2</th>\n      <td>2003-11-01</td>\n      <td>-0.33504</td>\n      <td>5.3</td>\n      <td>-6.6</td>\n    </tr>\n    <tr>\n      <th>3</th>\n      <td>2003-12-01</td>\n      <td>1.21509</td>\n      <td>-1.5</td>\n      <td>-10.3</td>\n    </tr>\n    <tr>\n      <th>4</th>\n      <td>2004-01-01</td>\n      <td>4.00976</td>\n      <td>6.8</td>\n      <td>-15.7</td>\n    </tr>\n    <tr>\n      <th>...</th>\n      <td>...</td>\n      <td>...</td>\n      <td>...</td>\n      <td>...</td>\n    </tr>\n    <tr>\n      <th>236</th>\n      <td>2023-05-01</td>\n      <td>0.16145</td>\n      <td>6.0</td>\n      <td>-2.6</td>\n    </tr>\n    <tr>\n      <th>237</th>\n      <td>2023-06-01</td>\n      <td>-1.63324</td>\n      <td>3.0</td>\n      <td>-2.1</td>\n    </tr>\n    <tr>\n      <th>238</th>\n      <td>2023-07-01</td>\n      <td>-3.31905</td>\n      <td>2.4</td>\n      <td>-0.7</td>\n    </tr>\n    <tr>\n      <th>239</th>\n      <td>2023-08-01</td>\n      <td>-1.04501</td>\n      <td>5.9</td>\n      <td>-0.1</td>\n    </tr>\n    <tr>\n      <th>240</th>\n      <td>2023-09-01</td>\n      <td>2.54372</td>\n      <td>3.7</td>\n      <td>0.4</td>\n    </tr>\n  </tbody>\n</table>\n<p>237 rows × 4 columns</p>\n</div>"
     },
     "execution_count": 13,
     "metadata": {},
     "output_type": "execute_result"
    }
   ],
   "source": [
    "commercial_banks_data"
   ],
   "metadata": {
    "collapsed": false,
    "ExecuteTime": {
     "end_time": "2023-11-05T21:06:54.355024Z",
     "start_time": "2023-11-05T21:06:54.350083Z"
    }
   },
   "id": "c50a9b7ac1187095"
  },
  {
   "cell_type": "code",
   "execution_count": 14,
   "outputs": [],
   "source": [
    "commercial_banks_data.to_csv('commercial_banks_data.csv')"
   ],
   "metadata": {
    "collapsed": false,
    "ExecuteTime": {
     "end_time": "2023-11-05T21:06:55.612492Z",
     "start_time": "2023-11-05T21:06:55.594382Z"
    }
   },
   "id": "b22faf7e606a5a8"
  }
 ],
 "metadata": {
  "kernelspec": {
   "display_name": "Python 3",
   "language": "python",
   "name": "python3"
  },
  "language_info": {
   "codemirror_mode": {
    "name": "ipython",
    "version": 2
   },
   "file_extension": ".py",
   "mimetype": "text/x-python",
   "name": "python",
   "nbconvert_exporter": "python",
   "pygments_lexer": "ipython2",
   "version": "2.7.6"
  }
 },
 "nbformat": 4,
 "nbformat_minor": 5
}
