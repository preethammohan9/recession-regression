{
 "cells": [
  {
   "cell_type": "code",
   "execution_count": 1,
   "id": "d70879a4",
   "metadata": {},
   "outputs": [],
   "source": [
    "import matplotlib.pyplot as plt\n",
    "import pandas as pd\n",
    "import numpy as np"
   ]
  },
  {
   "cell_type": "code",
   "execution_count": 19,
   "id": "8a7d967d",
   "metadata": {},
   "outputs": [],
   "source": [
    "df = pd.read_csv('../Employment_pch_1960.csv')\n",
    "df = df[(df['Month'] < '2020-03-01') | (df['Month'] > '2020-06-01')]\n",
    "# df.tail(50)\n",
    "df.to_csv('../Employment_pch_1960_no_covid.csv')\n"
   ]
  },
  {
   "cell_type": "code",
   "execution_count": null,
   "id": "7ffea400",
   "metadata": {},
   "outputs": [],
   "source": []
  }
 ],
 "metadata": {
  "kernelspec": {
   "display_name": "Python 3 (ipykernel)",
   "language": "python",
   "name": "python3"
  },
  "language_info": {
   "codemirror_mode": {
    "name": "ipython",
    "version": 3
   },
   "file_extension": ".py",
   "mimetype": "text/x-python",
   "name": "python",
   "nbconvert_exporter": "python",
   "pygments_lexer": "ipython3",
   "version": "3.11.5"
  }
 },
 "nbformat": 4,
 "nbformat_minor": 5
}
